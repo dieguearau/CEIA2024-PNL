{
 "cells": [
  {
   "cell_type": "markdown",
   "metadata": {
    "id": "Iv5PEwGzZA9-"
   },
   "source": [
    "# Consigna del Desafío 3\n",
    "\n",
    "#### Alumno: Diego Araujo\n",
    "\n",
    "- Seleccionar un corpus de texto sobre el cual entrenar el modelo de lenguaje.\n",
    "- Realizar el pre-procesamiento adecuado para tokenizar el corpus, estructurar el dataset y separar entre datos de entrenamiento y validación.\n",
    "- Proponer arquitecturas de redes neuronales basadas en unidades recurrentes para implementar un modelo de lenguaje.\n",
    "- Con el o los modelos que consideren adecuados, generar nuevas secuencias a partir de secuencias de contexto con las estrategias de greedy search y beam search determístico y estocástico. En este último caso observar el efecto de la temperatura en la generación de secuencias.\n",
    "\n",
    "### Sugerencias\n",
    "- Durante el entrenamiento, guiarse por el descenso de la perplejidad en los datos de validación para finalizar el entrenamiento. Para ello se provee un callback.\n",
    "- Explorar utilizar SimpleRNN (celda de Elman), LSTM y GRU.\n",
    "- rmsprop es el optimizador recomendado para la buena convergencia. No obstante se pueden explorar otros.\n"
   ]
  },
  {
   "cell_type": "code",
   "execution_count": 137,
   "metadata": {
    "id": "Y-QdFbHZYj7C"
   },
   "outputs": [],
   "source": [
    "import random\n",
    "import io\n",
    "import pickle\n",
    "\n",
    "# Paquetes de manipulación y visualización\n",
    "\n",
    "import numpy as np\n",
    "import pandas as pd\n",
    "import matplotlib.pyplot as plt\n",
    "from sklearn.model_selection import train_test_split\n",
    "\n",
    "# Preprocesamiento\n",
    "from tensorflow.keras.preprocessing.text import Tokenizer # equivalente a ltokenizer de nltk\n",
    "from tensorflow.keras.preprocessing.text import text_to_word_sequence # equivalente a word_tokenize de nltk\n",
    "from tensorflow.keras.utils import pad_sequences # se utilizará para padding\n",
    "\n",
    "from tensorflow import keras\n",
    "from tensorflow.keras import layers\n",
    "from tensorflow.keras.initializers import GlorotUniform\n",
    "from tensorflow.keras.layers import BatchNormalization\n",
    "from tensorflow.keras.optimizers import Adam, RMSprop\n",
    "from tensorflow.keras.losses import SparseCategoricalCrossentropy, CategoricalCrossentropy\n",
    "from tensorflow.keras.callbacks import EarlyStopping, LearningRateScheduler, ReduceLROnPlateau\n",
    "from tensorflow.keras.regularizers import l2\n",
    "from keras.utils import to_categorical\n",
    "from keras.models import Sequential\n",
    "from keras.layers import Dense, LSTM, Embedding, Dropout, Bidirectional\n",
    "\n",
    "\n",
    "# Para descargar de textos.info\n",
    "import urllib.request\n",
    "\n",
    "# Para leer y parsear el texto en HTML de wikipedia\n",
    "import bs4 as bs"
   ]
  },
  {
   "cell_type": "markdown",
   "metadata": {
    "id": "xTvXlEKQZdqx"
   },
   "source": [
    "### Datos\n",
    "Como ejemplo se utilizará como corpus se utilizará el libro \"El arte de la guerra\" de Sun-Tzu para testear el modelo de generación de secuencias."
   ]
  },
  {
   "cell_type": "code",
   "execution_count": 138,
   "metadata": {
    "id": "IkdPfrQJZdB5"
   },
   "outputs": [
    {
     "data": {
      "text/html": [
       "<div>\n",
       "<style scoped>\n",
       "    .dataframe tbody tr th:only-of-type {\n",
       "        vertical-align: middle;\n",
       "    }\n",
       "\n",
       "    .dataframe tbody tr th {\n",
       "        vertical-align: top;\n",
       "    }\n",
       "\n",
       "    .dataframe thead th {\n",
       "        text-align: right;\n",
       "    }\n",
       "</style>\n",
       "<table border=\"1\" class=\"dataframe\">\n",
       "  <thead>\n",
       "    <tr style=\"text-align: right;\">\n",
       "      <th></th>\n",
       "      <th>0</th>\n",
       "    </tr>\n",
       "  </thead>\n",
       "  <tbody>\n",
       "    <tr>\n",
       "      <th>0</th>\n",
       "      <td>Sun Tzu El Arte de la Guerra</td>\n",
       "    </tr>\n",
       "    <tr>\n",
       "      <th>1</th>\n",
       "      <td>Capítulo 1. Sobre la evaluación</td>\n",
       "    </tr>\n",
       "    <tr>\n",
       "      <th>2</th>\n",
       "      <td>Sun Tzu dice: la guerra es de vital importanci...</td>\n",
       "    </tr>\n",
       "    <tr>\n",
       "      <th>3</th>\n",
       "      <td>Hay que valorarla en términos de cinco factore...</td>\n",
       "    </tr>\n",
       "    <tr>\n",
       "      <th>4</th>\n",
       "      <td>La doctrina significa aquello que hace que el ...</td>\n",
       "    </tr>\n",
       "  </tbody>\n",
       "</table>\n",
       "</div>"
      ],
      "text/plain": [
       "                                                   0\n",
       "0                       Sun Tzu El Arte de la Guerra\n",
       "1                    Capítulo 1. Sobre la evaluación\n",
       "2  Sun Tzu dice: la guerra es de vital importanci...\n",
       "3  Hay que valorarla en términos de cinco factore...\n",
       "4  La doctrina significa aquello que hace que el ..."
      ]
     },
     "execution_count": 138,
     "metadata": {},
     "output_type": "execute_result"
    }
   ],
   "source": [
    "df = pd.read_csv('arte_guerra.txt', sep='/n', header=None, engine = 'python')\n",
    "df.head()"
   ]
  },
  {
   "cell_type": "markdown",
   "metadata": {
    "id": "VeMpWpiyG5Ya"
   },
   "source": [
    "Vemos la cantidad de documentos del dataframe.\n"
   ]
  },
  {
   "cell_type": "code",
   "execution_count": 139,
   "metadata": {
    "id": "riT898QlZnmF"
   },
   "outputs": [
    {
     "name": "stdout",
     "output_type": "stream",
     "text": [
      "Cantidad de documentos: 448\n"
     ]
    }
   ],
   "source": [
    "print(\"Cantidad de documentos:\", df.shape[0])"
   ]
  },
  {
   "cell_type": "code",
   "execution_count": 140,
   "metadata": {
    "id": "jveeyMVKHn9J"
   },
   "outputs": [
    {
     "data": {
      "text/plain": [
       "['Sun Tzu El Arte de la Guerra',\n",
       " 'Capítulo 1. Sobre la evaluación',\n",
       " 'Sun Tzu dice: la guerra es de vital importancia para el Estado; es el dominio de la vida o de la muerte, el camino hacia la supervivencia o la pérdida del Imperio: es forzoso manejarla bien. No reflexionar seriamente sobre todo lo que le concierne es dar prueba de una culpable indiferencia en lo que respecta a la conservación o pérdida de lo que nos es mas querido; y ello no debe ocurrir entre nosotros.',\n",
       " 'Hay que valorarla en términos de cinco factores fundamentales, y hacer comparaciones entre diversas condiciones de los bandos rivales, con vistas a determinar el resultado de la guerra. El primero de estos factores es la doctrina; el segundo, el tiempo; el tercero, el terreno; el cuarto, el mando; y el quinto, la disciplina.',\n",
       " 'La doctrina significa aquello que hace que el pueblo esté en armonía con su gobernante, de modo que le siga donde sea, sin temer por sus vidas ni a correr cualquier peligro.',\n",
       " 'El tiempo significa el Ying y el Yang, la noche y el día, el frío y el calor, días despejados o lluviosos, y el cambio de las estaciones.',\n",
       " 'El terreno implica las distancias, y hace referencia a dónde es fácil o difícil desplazarse, y si es campo abierto o lugares estrechos, y esto influencia las posibilidades de supervivencia.',\n",
       " 'El mando ha de tener como cualidades: sabiduría, sinceridad, benevolencia, coraje y disciplina.',\n",
       " 'Por último, la disciplina ha de ser comprendida como la organización del ejército, las graduaciones y rangos entre los oficiales, la regulación de las rutas de suministros, y la provisión de material militar al ejército.',\n",
       " 'Estos cinco factores fundamentales han de ser conocidos por cada general. Aquel que los domina, vence; aquel que no, sale derrotado. Por lo tanto, al trazar los planes, han de compararse los siguiente siete factores, valorando cada uno con el mayor cuidado:',\n",
       " '¿Qué dirigente es más sabio y capaz?',\n",
       " '¿Qué comandante posee el mayor talento?',\n",
       " '¿Qué ejército obtiene ventajas de la naturaleza y el terreno?',\n",
       " '¿En qué ejército se observan mejor las regulaciones y las instrucciones?',\n",
       " '¿Qué tropas son más fuertes?',\n",
       " '¿Qué ejército tiene oficiales y tropas mejor entrenadas?',\n",
       " '¿Qué ejército administra recompensas y castigos de forma más justa?',\n",
       " 'Mediante el estudio de estos siete factores, seré capaz de adivinar cual de los dos bandos saldrá victorioso y cual será derrotado.',\n",
       " 'El general que siga mi consejo, es seguro que vencerá. Ese general ha de ser mantenido al mando. Aquel que ignore mi consejo, ciertamente será derrotado. Ese debe ser destituido.',\n",
       " 'Tras prestar atención a mi consejo y planes, el general debe crear una situación que contribuya a su cumplimiento. Por situación quiero decir que debe tomar en consideración la situación del campo, y actuar de acuerdo con lo que le es ventajoso.',\n",
       " 'El arte de la guerra se basa en el engaño. Por lo tanto, cuando es capaz de atacar, ha de aparentar incapacidad; cuando las tropas se mueven, aparentar inactividad. Si está cerca del enemigo, ha de hacerle creer que está lejos; si está lejos, aparentar que se está cerca. Poner cebos para atraer al enemigo.',\n",
       " 'Golpear al enemigo cuando está desordenado. Prepararse contra él cuando está seguro en todas partes. Evitarle durante un tiempo cuando es más fuerte. Si tu oponente tiene un temperamento colérico, intenta irritarle. Si es arrogante, trata de fomentar su egoísmo.',\n",
       " 'Si las tropas enemigas se hallan bien preparadas tras una reorganización, intenta desordenarlas. Si están unidas, siembra la disensión entre sus filas. Ataca al enemigo cuando no está preparado, y aparece cuando no te espera. Estas son las claves de la victoria para el estratega.',\n",
       " 'Ahora, si las estimaciones realizadas antes de la batalla indican victoria, es porque los cálculos cuidadosamente realizados muestran que tus condiciones son más favorables que las condiciones del enemigo; si indican derrota, es porque muestran que las condiciones favorables para la batalla son menores. Con una evaluación cuidadosa, uno puede vencer; sin ella, no puede. Muchas menos oportunidades de victoria tendrá aquel que no realiza cálculos en absoluto.',\n",
       " 'Gracias a este método, se puede examinar la situación, y el resultado aparece claramente.',\n",
       " 'Capítulo 2. Sobre la iniciación de las acciones',\n",
       " 'Una vez comenzada la batalla, aunque estés ganando, de continuar por mucho tiempo, desanimará a tus tropas y embotará tu espada. Si estás sitiando una ciudad, agotarás tus fuerzas. Si mantienes a tu ejército durante mucho tiempo en campaña, tus suministros se agotarán.',\n",
       " 'Las armas son instrumentos de mala suerte; emplearlas por mucho tiempo producirá calamidades. Como se ha dicho: \"Los que a hierro matan, a hierro mueren.\" Cuando tus tropas están desanimadas, tu espada embotada, agotadas tus fuerzas y tus suministros son escasos, hasta los tuyos se aprovecharán de tu debilidad para sublevarse. Entonces, aunque tengas consejeros sabios, al final no podrás hacer que las cosas salgan bien.',\n",
       " 'Por esta causa, he oído hablar de operaciones militares que han sido torpes y repentinas, pero nunca he visto a ningún experto en el arte de la guerra que mantuviese la campaña por mucho tiempo. Nunca es beneficioso para un país dejar que una operación militar se prolongue por mucho tiempo.',\n",
       " 'Como se dice comúnmente, sé rápido como el trueno que retumba antes de que hayas podido taparte los oídos, veloz como el relámpago que relumbra antes de haber podido pestañear.',\n",
       " 'Por lo tanto, los que no son totalmente conscientes de la desventaja de servirse de las armas no pueden ser totalmente conscientes de las ventajas de utilizarlas.',\n",
       " 'Los que utilizan los medios militares con pericia no activan a sus tropas dos veces, ni proporcionan alimentos en tres ocasiones, con un mismo objetivo.',\n",
       " 'Esto quiere decir que no se debe movilizar al pueblo más de una vez por campaña, y que inmediatamente después de alcanzar la victoria no se debe regresar al propio país para hacer una segunda movilización. Al principio esto significa proporcionar alimentos (para las propias tropas), pero después se quitan los alimentos al enemigo.',\n",
       " 'Si tomas los suministros de armas de tu propio país, pero quitas los alimentos al enemigo, puedes estar bien abastecido de armamento y de provisiones.',\n",
       " 'Cuando un país se empobrece a causa de las operaciones militares, se debe al transporte de provisiones desde un lugar distante. Si las transportas desde un lugar distante, el pueblo se empobrecerá.',\n",
       " 'Los que habitan cerca de donde está el ejército pueden vender sus cosechas a precios elevados, pero se acaba de este modo el bienestar de la mayoría de la población.',\n",
       " 'Cuando se transportan las provisiones muy lejos, la gente se arruina a causa del alto costo. En los mercados cercanos al ejército, los precios de las mercancías se aumentan. Por lo tanto, las largas campañas militares constituyen una lacra para el país.',\n",
       " 'Cuando se agotan los recursos, los impuestos se recaudan bajo presión. Cuando el poder y los recursos se han agotado, se arruina el propio país. Se priva al pueblo de gran parte de su presupuesto, mientras que los gastos del gobierno para armamentos se elevan.',\n",
       " 'Los habitantes constituyen la base de un país, los alimentos son la felicidad del pueblo. El príncipe debe respetar este hecho y ser sobrio y austero en sus gastos públicos.',\n",
       " 'En consecuencia, un general inteligente lucha por desproveer al enemigo de sus alimentos. Cada porción de alimentos tomados al enemigo equivale a veinte que te suministras a ti mismo.',\n",
       " 'Así pues, lo que arrasa al enemigo es la imprudencia, y la motivación de los tuyos en asumir los beneficios de los adversarios.',\n",
       " 'Cuando recompenses a tus hombres con los beneficios que ostentaban los adversarios los harás luchar por propia iniciativa, y así podrás tomar el poder y la influencia que tenía el enemigo. Es por esto par lo que se dice que donde hay grandes recompensas hay hombres valientes.',\n",
       " 'Por consiguiente, en una batalla de carros, recompensa primero al que tome al menos diez carros.',\n",
       " 'Si recompensas a todo el mundo, no habrá suficiente para todos, así pues, ofrece una recompensa a un soldado para animar a todos los demás. Cambia sus colores (de los soldados enemigos hechos prisioneros), utilízalos mezclados con los tuyos. Trata bien a los soldados y préstales atención. Los soldados prisioneros deben ser bien tratados, para conseguir que en el futuro luchen para ti. A esto se llama vencer al adversario e incrementar por añadidura tus propias fuerzas.',\n",
       " 'Si utilizas al enemigo para derrotar al enemigo, serás poderoso en cualquier lugar a donde vayas.',\n",
       " 'Así pues, lo más importante en una operación militar es la victoria y no la persistencia. Esta última no es beneficiosa. Un ejército es como el fuego: si no lo apagas, se consumirá por sí mismo.',\n",
       " 'Por lo tanto, sabemos que el que está a la cabeza del ejército está a cargo de las vidas de los habitantes y de la seguridad de la nación.',\n",
       " 'Capítulo 3. Sobre las proposiciones de la victoria y la derrota',\n",
       " 'Como regla general, es mejor conservar a un enemigo intacto que destruirlo. Capturar a sus soldados para conquistarlos y dominas a sus jefes.',\n",
       " 'Un General decía: \"Practica las artes marciales, calcula la fuerza de tus adversarios, haz que pierdan su ánimo y dirección, de manera que aunque el ejército enemigo esté intacto sea inservible: esto es ganar sin violencia. Si destruyes al ejército enemigo y matas a sus generales, asaltas sus defensas disparando, reúnes a una muchedumbre y usurpas un territorio, todo esto es ganar por la fuerza.\"',\n",
       " 'Por esto, los que ganan todas las batallas no son realmente profesionales; los que consiguen que se rindan impotentes los ejércitos ajenos sin luchar son los mejores maestros del Arte de la Guerra.',\n",
       " 'Los guerreros superiores atacan mientras los enemigos están proyectando sus planes. Luego deshacen sus alianzas.',\n",
       " 'Por eso, un gran emperador decía: \"El que lucha por la victoria frente a espadas desnudas no es un buen general.\" La peor táctica es atacar a una ciudad. Asediar, acorralar a una ciudad sólo se lleva a cabo como último recurso.',\n",
       " 'Emplea no menos de tres meses en preparar tus artefactos y otros tres para coordinar los recursos para tu asedio. Nunca se debe atacar por cólera y con prisas. Es aconsejable tomarse tiempo en la planificación y coordinación del plan.',\n",
       " 'Por lo tanto, un verdadero maestro de las artes marciales vence a otras fuerzas enemigas sin batalla, conquista otras ciudades sin asediarlas y destruye a otros ejércitos sin emplear mucho tiempo.',\n",
       " 'Un maestro experto en las artes marciales deshace los planes de los enemigos, estropea sus relaciones y alianzas, le corta los suministros o bloquea su camino, venciendo mediante estas tácticas sin necesidad de luchar.',\n",
       " 'Es imprescindible luchar contra todas las facciones enemigas para obtener una victoria completa, de manera que su ejército no quede acuartelado y el beneficio sea total. Esta es la ley del asedio estratégico.',\n",
       " 'La victoria completa se produce cuando el ejército no lucha, la ciudad no es asediada, la destrucción no se prolonga durante mucho tiempo, y en cada caso el enemigo es vencido por el empleo de la estrategia.',\n",
       " 'Así pues, la regla de la utilización de la fuerza es la siguiente: si tus fuerzas son diez veces superiores a las del adversario, rodéalo; si son cinco veces superiores, atácalo; si son dos veces superiores, divídelo.',\n",
       " 'Si tus fuerzas son iguales en número, lucha si te es posible. Si tus fuerzas son inferiores, manténte continuamente en guardia, pues el más pequeño fallo te acarrearía las peores consecuencias. Trata de mantenerte al abrigo y evita en lo posible un enfrentamiento abierto con él; la prudencia y la firmeza de un pequeño número de personas pueden llegar a cansar y a dominar incluso a numerosos ejércitos.',\n",
       " 'Este consejo se aplica en los casos en que todos los factores son equivalentes. Si tus fuerzas están en orden mientras que las suyas están inmersas en el caos, si tú y tus fuerzas están con ánimo y ellos desmoralizados, entonces, aunque sean más numerosos, puedes entrar en batalla. Si tus soldados, tus fuerzas, tu estrategia y tu valor son menores que las de tu adversario, entonces debes retirarte y buscar una salida.',\n",
       " 'En consecuencia, si el bando más pequeño es obstinado, cae prisionero del bando más grande.',\n",
       " 'Esto quiere decir que si un pequeño ejército no hace una valoración adecuada de su poder y se atreve a enemistarse con una gran potencia, por mucho que su defensa sea firme, inevitablemente se convertirá en conquistado. \"Si no puedes ser fuerte, pero tampoco sabes ser débil, serás derrotado.\" Los generales son servidores del Pueblo. Cuando su servicio es completo, el Pueblo es fuerte. Cuando su servicio es defectuoso, el Pueblo es débil.',\n",
       " 'Así pues, existen tres maneras en las que un Príncipe lleva al ejército al desastre. Cuando un Príncipe, ignorando los hechos, ordena avanzar a sus ejércitos o retirarse cuando no deben hacerlo; a esto se le llama inmovilizar al ejército. Cuando un Príncipe ignora los asuntos militares, pero comparte en pie de igualdad el mando del ejército, los soldados acaban confusos. Cuando el Príncipe ignora cómo llevar a cabo las maniobras militares, pero comparte por igual su dirección, los soldados están vacilantes. Una vez que los ejércitos están confusos y vacilantes, empiezan los problemas procedentes de los adversarios. A esto se le llama perder la victoria por trastornar el aspecto militar.',\n",
       " 'Si intentas utilizar los métodos de un gobierno civil para dirigir una operación militar, la operación será confusa.',\n",
       " 'Triunfan aquellos que:',\n",
       " 'Saben cuándo luchar y cuándo no.',\n",
       " 'Saben discernir cuándo utilizar muchas o pocas tropas.',\n",
       " 'Tienen tropas cuyos rangos superiores e inferiores tienen el mismo objetivo.',\n",
       " 'Se enfrentan con preparativos a enemigos desprevenidos.',\n",
       " 'Tienen generales competentes y no limitados por sus gobiernos civiles.',\n",
       " 'Estas cinco son las maneras de conocer al futuro vencedor.',\n",
       " 'Hablar de que el Príncipe sea el que da las órdenes en todo es como el General solicitarle permiso al Príncipe para poder apagar un fuego: para cuando sea autorizado, ya no quedan sino cenizas.',\n",
       " 'Si conoces a los demás y te conoces a ti mismo, ni en cien batallas correrás peligro; si no conoces a los demás, pero te conoces a ti mismo, perderás una batalla y ganarás otra; si no conoces a los demás ni te conoces a ti mismo, correrás peligro en cada batalla.',\n",
       " 'Capítulo 4. Sobre la medida en la disposición de los medios',\n",
       " 'Antiguamente, los guerreros expertos se hacían a sí mismos invencibles en primer lugar, y después aguardaban para descubrir la vulnerabilidad de sus adversarios.',\n",
       " 'Hacerte invencible significa conocerte a ti mismo; aguardar para descubrir la vulnerabilidad del adversario significa conocer a los demás.',\n",
       " 'La invencibilidad está en uno mismo, la vulnerabilidad en el adversario.',\n",
       " 'Por esto, los guerreros expertos pueden ser invencibles, pero no pueden hacer que sus adversarios sean vulnerables.',\n",
       " 'Si los adversarios no tienen orden de batalla sobre el que informarse, ni negligencias o fallos de los que aprovecharse, ¿cómo puedes vencerlos aunque estén bien pertrechados? Por esto es por lo que se dice que la victoria puede ser percibida, pero no fabricada.',\n",
       " 'La invencibilidad es una cuestión de defensa, la vulnerabilidad, una cuestión de ataque.',\n",
       " 'Mientras no hayas observado vulnerabilidades en el orden de batalla de los adversarios, oculta tu propia formación de ataque, y prepárate para ser invencible, con la finalidad de',\n",
       " 'preservarte. Cuando los adversarios tienen órdenes de batalla vulnerables, es el momento de salir a atacarlos.',\n",
       " 'La defensa es para tiempos de escasez, el ataque para tiempos de abundancia.',\n",
       " 'Los expertos en defensa se esconden en las profundidades de la tierra; los expertos en maniobras de ataque se esconden en las más elevadas alturas del cielo. De esta manera pueden protegerse y lograr la victoria total.',\n",
       " 'En situaciones de defensa, acalláis las voces y borráis las huellas, escondidos como fantasmas y espíritus bajo tierra, invisibles para todo el mundo. En situaciones de ataque, vuestro movimiento es rápido y vuestro grito fulgurante, veloz como el trueno y el relámpago, para los que no se puede uno preparar, aunque vengan del cielo.',\n",
       " 'Prever la victoria cuando cualquiera la puede conocer no constituye verdadera destreza. Todo el mundo elogia la victoria ganada en batalla, pero esa victoria no es realmente tan buena.',\n",
       " 'Todo el mundo elogia la victoria en la batalla, pero lo verdaderamente deseable es poder ver el mundo de lo sutil y darte cuenta del mundo de lo oculto, hasta el punto de ser capaz de alcanzar la victoria donde no existe forma.',\n",
       " 'No se requiere mucha fuerza para levantar un cabello, no es necesario tener una vista aguda para ver el sol y la luna, ni se necesita tener mucho oído para escuchar el retumbar del trueno.',\n",
       " 'Lo que todo el mundo conoce no se llama sabiduría; la victoria sobre los demás obtenida por medio de la batalla no se considera una buena victoria.',\n",
       " 'En la antigüedad, los que eran conocidos como buenos guerreros vencían cuando era fácil vencer.',\n",
       " 'Si sólo eres capaz de asegurar la victoria tras enfrentarte a un adversario en un conflicto armado, esa victoria es una dura victoria. Si eres capaz de ver lo sutil y de darte cuenta de lo oculto, irrumpiendo antes del orden de batalla, la victoria así obtenida es un victoria fácil.',\n",
       " 'En consecuencia, las victorias de los buenos guerreros no destacan por su inteligencia o su bravura. Así pues, las victorias que ganan en batalla no son debidas a la suerte. Sus victorias no son casualidades, sino que son debidas a haberse situado previamente en posición de poder ganar con seguridad, imponiéndose sobre los que ya han perdido de antemano.',\n",
       " 'La gran sabiduría no es algo obvio, el mérito grande no se anuncia. Cuando eres capaz de ver lo sutil, es fácil ganar; ¿qué tiene esto que ver con la inteligencia o la bravura?',\n",
       " 'Cuando se resuelven los problemas antes de que surjan, ¿quién llama a esto inteligencia? Cuando hay victoria sin batalla, ¿quién habla de bravura?',\n",
       " 'Así pues, los buenos guerreros toman posición en un terreno en el que no pueden perder, y no pasan por alto las condiciones que hacen a su adversario proclive a la derrota.',\n",
       " 'En consecuencia, un ejército victorioso gana primero y entabla la batalla después; un ejército derrotado lucha primero e intenta obtener la victoria después.',\n",
       " 'Esta es la diferencia entre los que tienen estrategia y los que no tienen planes premeditados.',\n",
       " 'Los que utilizan bien las armas cultivan el Camino y observan las leyes. Así pueden gobernar prevaleciendo sobre los corruptos.',\n",
       " 'Servirse de la armonía para desvanecer la oposición, no atacar un ejército inocente, no hacer prisioneros o tomar botín par donde pasa el ejército, no cortar los árboles ni contaminar los pozos, limpiar y purificar los templos de las ciudades y montañas del camino que atraviesas, no repetir los errores de una civilización decadente, a todo esto se llama el Camino y sus leyes.',\n",
       " 'Cuando el ejército está estrictamente disciplinado, hasta el punto en que los soldados morirían antes que desobedecer las órdenes, y las recompensas y los castigos merecen confianza y están bien establecidos, cuando los jefes y oficiales son capaces de actuar de esta forma, pueden vencer a un Príncipe enemigo corrupto.',\n",
       " 'Las reglas militares son cinco: medición, valoración, cálculo, comparación y victoria. El terreno da lugar a las mediciones, éstas dan lugar a las valoraciones, las valoraciones a los cálculos, éstos a las comparaciones, y las comparaciones dan lugar a las victorias.',\n",
       " 'Mediante las comparaciones de las dimensiones puedes conocer dónde se haya la victoria o la derrota.',\n",
       " 'En consecuencia, un ejército victorioso es como un kilo comparado con un gramo; un ejército derrotado es como un gramo comparado con un kilo.',\n",
       " 'Cuando el que gana consigue que su pueblo vaya a la batalla como si estuviera dirigiendo una gran corriente de agua hacia un cañón profundo, esto es una cuestión de orden de batalla.',\n",
       " 'Cuando el agua se acumula en un cañón profundo, nadie puede medir su cantidad, lo mismo que nuestra defensa no muestra su forma. Cuando se suelta el agua, se precipita hacia abajo como un torrente, de manera tan irresistible como nuestro propio ataque.',\n",
       " 'Capítulo 5. Sobre la firmeza',\n",
       " 'La fuerza es la energía acumulada o la que se percibe. Esto es muy cambiante. Los expertos son capaces de vencer al enemigo creando una percepción favorable en ellos, así obtener la victoria sin necesidad de ejercer su fuerza.',\n",
       " 'Gobernar sobre muchas personas como si fueran poco es una cuestión de dividirlas en grupos o sectores: es organización. Batallar contra un gran número de tropas como si fueran pocas es una cuestión de demostrar la fuerza, símbolos y señales.',\n",
       " 'Se refiere a lograr una percepción de fuerza y poder en la oposición. En el campo de batalla se refiere a las formaciones y banderas utilizadas para desplegar las tropas y coordinar sus movimientos.',\n",
       " 'Lograr que el ejército sea capaz de combatir contra el adversario sin ser derrotado es una cuestión de emplear métodos ortodoxos o heterodoxos.',\n",
       " 'La ortodoxia y la heterodoxia no es algo fijo, sino que se utilizan como un ciclo. Un emperador que fue un famoso guerrero y administrador, hablaba de manipular las percepciones de los adversarios sobre lo que es ortodoxo y heterodoxo, y después atacar inesperadamente, combinando ambos métodos hasta convertirlo en uno, volviéndose así indefinible para el enemigo.',\n",
       " 'Que el efecto de las fuerzas sea como el de piedras arrojadas sobre huevos, es una cuestión de lleno y vacío.',\n",
       " 'Cuando induces a los adversarios a atacarte en tu territorio, su fuerza siempre está vacía (en desventaja); mientras que no compitas en lo que son los mejores, tu fuerza siempre estará llena. Atacar con lo vacío contra lo lleno es como arrojar piedras sobre huevos: de seguro se rompen.',\n",
       " 'Cuando se entabla una batalla de manera directa, la victoria se gana por sorpresa.',\n",
       " 'El ataque directo es ortodoxo. El ataque indirecto es heterodoxo.',\n",
       " 'Sólo hay dos clases de ataques en la batalla: el extraordinario por sorpresa y el directo ordinario, pero sus variantes son innumerables. Lo ortodoxo y lo heterodoxo se originan recíprocamente, como un círculo sin comienzo ni fin; ¿quién podría agotarlos?',\n",
       " 'Cuando la velocidad del agua que fluye alcanza el punto en el que puede mover las piedras, ésta es la fuerza directa. Cuando la velocidad y maniobrabilidad del halcón es tal que puede atacar y matar, esto es precisión. Lo mismo ocurre con los guerreros expertos:',\n",
       " 'su fuerza es rápida, su precisión certera. Su fuerza es como disparar una catapulta, su precisión es dar en el objetivo previsto y causar el efecto esperado.',\n",
       " 'El desorden llega del orden, la cobardía surge del valor, la debilidad brota de la fuerza.',\n",
       " 'Si quieres fingir desorden para convencer a tus adversarios y distraerlos, primero tienes que organizar el orden, porque sólo entonces puedes crear un desorden artificial. Si quieres fingir cobardía para conocer la estrategia de los adversarios, primero tienes que ser extremadamente valiente, porque sólo entonces puedes actuar como tímido de manera artificial. Si quieres fingir debilidad para inducir la arrogancia en tus enemigos, primero has de ser extremadamente fuerte porque sólo entonces puedes pretender ser débil.',\n",
       " 'El orden y el desorden son una cuestión de organización; la cobardía es una cuestión valentía y la de ímpetu; la fuerza y la debilidad son una cuestión de la formación en la batalla.',\n",
       " 'Cuando un ejército tiene la fuerza del ímpetu (percepción), incluso el tímido se vuelve valiente, cuando pierde la fuerza del ímpetu, incluso el valiente se convierte en tímido. Nada está fijado en las leyes de la guerra: éstas se desarrollan sobre la base del ímpetu.',\n",
       " 'Con astucia se puede anticipar y lograr que los adversarios se convenzan a sí mismos cómo proceder y moverse; les ayuda a caminar por el camino que les traza. Hace moverse a los enemigos con la perspectiva del triunfo, para que caigan en la emboscada.',\n",
       " 'Los buenos guerreros buscan la efectividad en la batalla a partir de la fuerza del ímpetu (percepción) y no dependen sólo de la fuerza de sus soldados. Son capaces de escoger a la mejor gente, desplegarlos adecuadamente y dejar que la fuerza del ímpetu logre sus objetivos.',\n",
       " 'Cuando hay entusiasmo, convicción, orden, organización, recursos, compromiso de los soldados, tienes la fuerza del ímpetu, y el tímido es valeroso. Así es posible asignar a los soldados por sus capacidades, habilidades y encomendarle deberes y responsabilidades adecuadas. El valiente puede luchar, el cuidadoso puede hacer de centinela, y el inteligente puede estudiar, analizar y comunicar. Cada cual es útil.',\n",
       " 'Hacer que los soldados luchen permitiendo que la fuerza del ímpetu haga su trabajo es como hacer rodar rocas. Las rocas permanecen inmóviles cuando están en un lugar plano, pero ruedan en un plano inclinado; se quedan fijas cuando son cuadradas, pero giran si son redondas. Por lo tanto, cuando se conduce a los hombres a la batalla con astucia, el impulso es como rocas redondas que se precipitan montaña abajo: ésta es la fuerza que produce la victoria.',\n",
       " 'Capítulo 6. Sobre lo lleno y lo vacío',\n",
       " 'Los que anticipan, se preparan y llegan primero al campo de batalla y esperan al adversario están en posición descansada; los que llegan los últimos al campo de batalla, los que improvisan y entablan la lucha quedan agotados.',\n",
       " 'Los buenos guerreros hacen que los adversarios vengan a ellos, y de ningún modo se dejan atraer fuera de su fortaleza.',\n",
       " 'Si haces que los adversarios vengan a ti para combatir, su fuerza estará siempre vacía. Si no sales a combatir, tu fuerza estará siempre llena. Este es el arte de vaciar a los demás y de llenarte a ti mismo.',\n",
       " 'Lo que impulsa a los adversarios a venir hacia ti por propia decisión es la perspectiva de ganar. Lo que desanima a los adversarios de ir hacia ti es la probabilidad de sufrir daños.',\n",
       " 'Cuando los adversarios están en posición favorable, debes cansarlos. Cuando están bien alimentados, cortar los suministros. Cuando están descansando, hacer que se pongan en movimiento.',\n",
       " 'Ataca inesperadamente, haciendo que los adversarios se agoten corriendo para salvar sus vidas. Interrumpe sus provisiones, arrasa sus campos y corta sus vías de aprovisionamiento. Aparece en lugares críticos y ataca donde menos se lo esperen, haciendo que tengan que acudir al rescate.',\n",
       " 'Aparece donde no puedan ir, se dirige hacia donde menos se lo esperen. Para desplazarte cientos de kilómetros sin cansancio, atraviesa tierras despobladas.',\n",
       " 'Atacar un espacio abierto no significa sólo un espacio en el que el enemigo no tiene defensa. Mientras su defensa no sea estricta — el lugar no esté bien guardado —, los enemigos se desperdigarán ante ti, como si estuvieras atravesando un territorio despoblado.',\n",
       " 'Para tomar infaliblemente lo que atacas, ataca donde no haya defensa. Para mantener una defensa infaliblemente segura, defiende donde no haya ataque.',\n",
       " 'Así, en el caso de los que son expertos en el ataque, sus enemigos no saben por dónde atacar.',\n",
       " 'Cuando se cumplen las instrucciones, las personas son sinceramente leales y comprometidas, los planes y preparativos para la defensa implantados con firmeza,',\n",
       " 'siendo tan sutil y reservado que no se revelan las estrategias de ninguna forma, y los adversarios se sienten inseguros, y su inteligencia no les sirve para nada.',\n",
       " 'Sé extremadamente sutil, discreto, hasta el punto de no tener forma. Sé completamente misterioso y confidencial, hasta el punto de ser silencioso. De esta manera podrás dirigir el destino de tus adversarios.',\n",
       " 'Para avanzar sin encontrar resistencia, arremete por sus puntos débiles. Para retirarte de manera esquiva, sé más rápido que ellos.',\n",
       " 'Las situaciones militares se basan en la velocidad: llega como el viento, muévete como el relámpago, y los adversarios no podrán vencerte.',\n",
       " 'Por lo tanto, cuando quieras entrar en batalla, incluso si el adversario está atrincherado en una posición defensiva, no podrá evitar luchar si atacas en el lugar en el que debe acudir irremediablemente al rescate.',\n",
       " 'Cuando no quieras entrar en batalla, incluso si trazas una línea en el terreno que quieres conservar, el adversario no puede combatir contigo porque le das una falsa pista.',\n",
       " 'Esto significa que cuando los adversarios llegan para atacarte, no luchas con ellos, sino que estableces un cambio estratégico para confundirlos y llenarlos de incertidumbre.',\n",
       " 'Por consiguiente, cuando induces a otros a efectuar una formación, mientras que tú mismo permaneces sin forma, estás concentrado, mientras que tu adversario está dividido.',\n",
       " 'Haz que los adversarios vean como extraordinario lo que es ordinario para ti; haz que vean como ordinario lo que es extraordinario para ti. Esto es inducir al enemigo a efectuar una formación. Una vez vista la formación del adversario, concentras tus tropas contra él. Como tu formación no está a la vista, el adversario dividirá seguramente sus fuerzas.',\n",
       " 'Cuando estás concentrado formando una sola fuerza, mientras que el enemigo está dividido en diez, estás atacando a una concentración de uno contra diez, así que tus fuerzas superan a las suyas.',\n",
       " 'Si puedes atacar a unos pocos soldados con muchos, diezmarás el número de tus adversarios.',\n",
       " 'Cuando estás fuertemente atrincherado, te has hecho fuerte tras buenas barricadas, y no dejas filtrar ninguna información sobre tus fuerzas, sal afuera sin formación precisa, ataca y conquista de manera incontenible.',\n",
       " 'No han de conocer dónde piensas librar la batalla, porque cuando no se conoce, el enemigo destaca muchos puestos de vigilancia, y en el momento en el que se establecen numerosos puestos sólo tienes que combatir contra pequeñas unidades.',\n",
       " 'Así pues, cuando su vanguardia está preparada, su retaguardia es defectuosa, y cuando su retaguardia está preparada, su vanguardia presenta puntos débiles.',\n",
       " 'Las preparaciones de su ala derecha significarán carencia en su ala izquierda. Las preparaciones por todas partes significará ser vulnerable por todas partes.',\n",
       " 'Esto significa que cuando las tropas están de guardia en muchos lugares, están forzosamente desperdigadas en pequeñas unidades.',\n",
       " 'Cuando se dispone de pocos soldados se está a la defensiva contra el adversario el que dispone de muchos hace que el enemigo tenga que defenderse.',\n",
       " 'Cuantas más defensas induces a adoptar a tu enemigo, más debilitado quedará.',\n",
       " 'Así, si conoces el lugar y la fecha de la batalla, puedes acudir a ella aunque estés a mil kilómetros de distancia. Si no conoces el lugar y la fecha de la batalla, entonces tu flanco izquierdo no puede salvar al derecho, tu vanguardia no puede salvar a tu retaguardia, y tu retaguardia no puede salvar a tu vanguardia, ni siquiera en un territorio de unas pocas docenas de kilómetros.',\n",
       " 'Si tienes muchas más tropas que los demás, ¿cómo puede ayudarte este factor para obtener la victoria?',\n",
       " 'Si no conoces el lugar y la fecha de la batalla, aunque tus tropas sean más numerosas que las de ellos, ¿cómo puedes saber si vas a ganar o a perder?',\n",
       " 'Así pues, se dice que la victoria puede ser creada.',\n",
       " 'Si haces que los adversarios no sepan el lugar y la fecha de la batalla, siempre puedes vencer.',\n",
       " 'Incluso si los enemigos son numerosos, puede hacerse que no entren en combate.',\n",
       " 'Por tanto, haz tu valoración sobre ellos para averiguar sus planes, y determinar qué estrategia puede tener éxito y cuál no. Incítalos a la acción para descubrir cuál es el esquema general de sus movimientos y descansa.',\n",
       " 'Haz algo por o en contra de ellos para su atención, de manera que puedas de ellos para atraer descubrir sus hábitos de comportamiento de ataque y de defensa.',\n",
       " 'Indúcelos a adoptar formaciones específicas, para conocer sus puntos flacos.',\n",
       " 'Esto significa utilizar muchos métodos para confundir y perturbar al enemigo con el objetivo de observar sus formas de respuesta hacia ti; después de haberlas observado, actúas en consecuencia, de manera que puedes saber qué clase de situaciones significan vida y cuáles significan muerte.',\n",
       " 'Pruébalos para averiguar sus puntos fuertes y sus puntos débiles. Por lo tanto, el punto final de la formación de un ejército es llegar a la no forma. Cuando no tienes forma, los informadores no pueden descubrir nada, ya que la información no puede crear una estrategia.',\n",
       " 'Una vez que no tienes forma perceptible, no dejas huellas que puedan ser seguidas, los informadores no encuentran ninguna grieta por donde mirar y los que están a cargo de la planificación no pueden establecer ningún plan realizable.',\n",
       " 'La victoria sobre multitudes mediante formaciones precisas debe ser desconocida par las multitudes. Todo el mundo conoce la forma mediante la que resultó vencedor, pero nadie conoce la forma mediante la que aseguró la victoria.',\n",
       " 'En consecuencia, la victoria en la guerra no es repetitiva, sino que adapta su forma continuamente.',\n",
       " 'Determinar los cambios apropiados, significa no repetir las estrategias previas para obtener la victoria. Para lograrla, puedo adaptarme desde el principio a cualquier formación que los adversarios puedan adoptar.',\n",
       " 'Las formaciones son como el agua: la naturaleza del agua es evitar lo alto e ir hacia abajo; la naturaleza de los ejércitos es evitar lo lleno y atacar lo vacío; el flujo del agua está determinado par la tierra; la victoria viene determinada por el adversario.',\n",
       " 'Así pues, un ejército no tiene formación constante, lo mismo que el agua no tiene forma constante: se llama genio a la capacidad de obtener la victoria cambiando y adaptándose según el enemigo.',\n",
       " 'Capítulo 7. Sobre el enfrentamiento directo e indirecto',\n",
       " 'las autoridades civiles y después reúne y concentra a las tropas, acuartelándolas juntas. Nada es más difícil que la lucha armada.',\n",
       " 'Luchar con otros cara a cara para conseguir ventajas es lo más arduo del mundo.',\n",
       " 'La dificultad de la lucha armada es hacer cercanas las distancias largas y convertir los problemas en ventajas.',\n",
       " 'Mientras que das la apariencia de estar muy lejos, empiezas tu camino y llegas antes que el enemigo.',\n",
       " 'Por lo tanto, haces que su ruta sea larga, atrayéndole con la esperanza de ganar. Cuando emprendes la marcha después que los otros y llegas antes que ellos, conoces la estrategia de hacer que las distancias sean cercanas.',\n",
       " 'Sírvete de una unidad especial para engañar al enemigo atrayéndole a una falsa persecución, haciéndole creer que el grueso de tus fuerzas está muy lejos; entonces, lanzas una fuerza de ataque sorpresa que llega antes, aunque emprendió el camino después.',\n",
       " 'Por consiguiente, la lucha armada puede ser provechosa y puede ser peligrosa.',\n",
       " 'Para el experto es provechosa, para el inexperto peligrosa.',\n",
       " 'Movilizar a todo el ejército para el combate en aras de obtener alguna ventaja tomaría mucho tiempo, pero combatir por una ventaja con un ejército incompleto tendría como resultado una falta de recursos.',\n",
       " 'Si te movilizas rápidamente y sin parar día y noche, recorriendo el doble de la distancia habitual, y si luchas por obtener alguna ventaja a miles de kilómetros, tus jefes militares serán hechos prisioneros. Los soldados que sean fuertes llegarán allí primero, los más cansados llegarán después — como regla general, sólo lo conseguirá uno de cada diez.',\n",
       " 'Cuando la ruta es larga las tropas se cansan; si han gastado su fuerza en la movilización, llegan agotadas mientras que sus adversarios están frescos; así pues, es seguro que serán atacadas.',\n",
       " 'Combatir por una ventaja a cincuenta kilómetros de distancia frustrará los planes del mando, y, como regla general, sólo la mitad de los soldados lo harán.',\n",
       " 'Si se combate por obtener una ventaja a treinta kilómetros de distancia, sólo dos de cada tres soldados los recorrerán.',\n",
       " 'Así pues, un ejército perece si no está equipado, si no tiene provisiones o si no tiene dinero.',\n",
       " 'Estas tres cosas son necesarias: no puedes combatir para ganar con un ejército no equipado, o sin provisiones, lo que el dinero facilita.',\n",
       " 'Por tanto, si ignoras los planes de tus rivales, no puedes hacer alianzas precisas.',\n",
       " 'A menos que conozcas las montañas y los bosques, los desfiladeros y los pasos, y la condición de los pantanos, no puedes maniobrar con una fuerza armada. A menos que utilices guías locales, no puedes aprovecharte de las ventajas del terreno.',\n",
       " 'Sólo cuando conoces cada detalle de la condición del terreno puedes maniobrar y guerrear.',\n",
       " 'Por consiguiente, una fuerza militar se usa según la estrategia prevista, se moviliza mediante la esperanza de recompensa, y se adapta mediante la división y la combinación.',\n",
       " 'Una fuerza militar se establece mediante la estrategia en el sentido de que distraes al enemigo para que no pueda conocer cuál es tu situación real y no pueda imponer su supremacía. Se moviliza mediante la esperanza de recompensa, en el sentido de que entra en acción cuando ve la posibilidad de obtener una ventaja. Dividir y volver a hacer combinaciones de tropas se hace para confundir al adversario y observar cómo reacciona frente a ti; de esta manera puedes adaptarte para obtener la victoria.',\n",
       " 'Por eso, cuando una fuerza militar se mueve con rapidez es como el viento; cuando va lentamente es como el bosque; es voraz como el fuego e inmóvil como las montañas.',\n",
       " 'Es rápida como el viento en el sentido que llega sin avisar y desaparece como el relámpago. Es como un bosque porque tiene un orden. Es voraz como el fuego que devasta una planicie sin dejar tras sí ni una brizna de hierba. Es inmóvil como una montaña cuando se acuartela.',\n",
       " 'Es tan difícil de conocer como la oscuridad; su movimiento es como un trueno que retumba.',\n",
       " 'Para ocupar un lugar, divide a tus tropas. Para expandir tu territorio, divide los beneficios.',\n",
       " 'La regla general de las operaciones militares es desproveer de alimentos al enemigo todo lo que se pueda. Sin embargo, en localidades donde la gente no tiene mucho, es necesario dividir a las tropas en grupos más pequeños para que puedan tomar en diversas partes lo que necesitan, ya que sólo así tendrán suficiente.',\n",
       " 'En cuanto a dividir el botín, significa que es necesario repartirlo entre las tropas para guardar lo que ha sido ganado, no dejando que el enemigo lo recupere.',\n",
       " 'Actúa después de haber hecho una estimación. Gana el que conoce primero la medida de lo que está lejos y lo que está cerca: ésta es la regla general de la lucha armada.',\n",
       " 'El primero que hace el movimiento es el \"invitado\", el último es el \"anfitrión\". El \"invitado\" lo tiene difícil, el \"anfitrión lo tiene fácil\". Cerca y lejos significan desplazamiento: el cansancio, el hambre y el frío surgen del desplazamiento.',\n",
       " 'Un antiguo libro que trata de asuntos militares dice: \"Las palabras no son escuchadas, par eso se hacen los símbolos y los tambores. Las banderas y los estandartes se hacen a causa de la ausencia de visibilidad.\" Símbolos, tambores, banderas y estandartes se utilizan para concentrar y unificar los oídos y los ojos de los soldados. Una vez que están unificados, el valiente no puede actuar solo, ni el tímido puede retirarse solo: ésta es la regla general del empleo de un grupo.',\n",
       " 'Unificar los oídos y los ojos de los soldados significa hacer que miren y escuchen al unísono de manera que no caigan en la confusión y el desorden. La señales se utilizan para indicar direcciones e impedir que los individuos vayan a donde se les antoje.',\n",
       " 'Así pues, en batallas nocturnas, utiliza fuegos y tambores, y en batallas diurnas sírvete de banderas y estandartes, para manipular los oídos y los ojos de los soldados.',\n",
       " 'Utiliza muchas señales para confundir las percepciones del enemigo y hacerle temer tu temible poder militar.',\n",
       " 'De esta forma, haces desaparecer la energía de sus ejércitos y desmoralizas a sus generales.',\n",
       " 'En primer lugar, has de ser capaz de mantenerte firme en tu propio corazón; sólo entonces puedes desmoralizar a los generales enemigos. Por esto, la tradición afirma que los habitantes de otros tiempos tenían la firmeza para desmoralizar, y la antigua ley de los que conducían carros de combate decía que cuando la mente original es firme, la energía fresca es victoriosa.',\n",
       " 'De este modo, la energía de la mañana está llena de ardor, la del mediodía decae y la energía de la noche se retira; en consecuencia, los expertos en el manejo de las armas prefieren la energía entusiasta, atacan la decadente y la que se bate en retirada. Son ellos los que dominan la energía.',\n",
       " 'Cualquier débil en el mundo se dispone a combatir en un minuto si se siente animado, pero cuando se trata realmente de tomar las armas y de entrar en batalla, es poseído por la energía; cuando esta energía se desvanece, se detendrá, estará asustado y se arrepentirá de haber comenzado. La razón por la que esa clase de ejércitos miran por encima del hombro a enemigos fuertes, lo mismo que miran a las doncellas vírgenes, es porque se están aprovechando de su agresividad, estimulada por cualquier causa.',\n",
       " 'Utilizar el orden para enfrentarse al desorden, utilizar la calma para enfrentarse con los que se agitan, esto es dominar el corazón.',\n",
       " 'A menos que tu corazón esté totalmente abierto y tu mente en orden, no puedes esperar ser capaz de adaptarte a responder sin límites, a manejar los acontecimientos de manera infalible, a enfrentarte a dificultades graves e inesperadas sin turbarte, dirigiendo cada cosa sin confusión.',\n",
       " 'Dominar la fuerza es esperar a los que vienen de lejos, aguardar con toda comodidad a los que se han fatigado, y con el estómago saciado a los hambrientos.',\n",
       " 'Esto es lo que se quiere decir cuando se habla de atraer a otros hacia donde estás, al tiempo que evitas ser inducido a ir hacia donde están ellos.',\n",
       " 'Evitar la confrontación contra formaciones de combate bien ordenadas y no atacar grandes batallones constituye el dominio de la adaptación.',\n",
       " 'Por tanto, la regla general de las operaciones militares es no enfrentarse a una gran montaña ni oponerse al enemigo de espaldas a ésta.',\n",
       " 'Esto significa que si los adversarios están en un terreno elevado, no debes atacarles cuesta arriba, y que cuando efectúan una carga cuesta abajo, no debes hacerles frente.',\n",
       " 'No persigas a los enemigos cuando finjan una retirada, ni ataques tropas expertas.',\n",
       " 'Si los adversarios huyen de repente antes de agotar su energía, seguramente hay emboscadas esperándote para atacar a tus tropas; en este caso, debes retener a tus oficiales para que no se lancen en su persecución.',\n",
       " 'No consumas la comida de sus soldados.',\n",
       " 'Si el enemigo abandona de repente sus provisiones, éstas han de ser probadas antes de ser comidas, por si están envenenadas.',\n",
       " 'No detengas a ningún ejército que esté en camino a su país.',\n",
       " 'Bajo estas circunstancias, un adversario luchará hasta la muerte. Hay que dejarle una salida a un ejército rodeado.',\n",
       " 'Muéstrales una manera de salvar la vida para que no estén dispuestos a luchar hasta la muerte, y así podrás aprovecharte para atacarles.',\n",
       " 'No presiones a un enemigo desesperado.',\n",
       " 'Un animal agotado seguirá luchando, pues esa es la ley de la naturaleza.',\n",
       " 'Estas son las leyes de las operaciones militares.',\n",
       " 'Capítulo 8. Sobre los nueve cambios',\n",
       " 'Por lo general, las operaciones militares están bajo el del gobernante civil para dirigir al ejército.',\n",
       " 'El General no debe levantar su campamento en un terreno difícil. Deja que se establezcan relaciones diplomáticas en las fronteras. No permanezcas en un territorio árido ni aislado.',\n",
       " 'Cuando te halles en un terreno cerrado, prepara alguna estrategia y muévete. Cuando te halles en un terreno mortal, lucha.',\n",
       " 'Terreno cerrado significa que existen lugares escarpados que te rodean por todas partes, de manera que el enemigo tiene movilidad, que puede llegar e irse con libertad, pero a ti te es difícil salir y volver.',\n",
       " 'Cada ruta debe ser estudiada para que sea la mejor. Hay rutas que no debes usar, ejércitos que no han de ser atacados, ciudades que no deben ser rodeadas, terrenos sobre los que no se debe combatir, y órdenes de gobernantes civiles que no deben ser obedecidas.',\n",
       " 'En consecuencia, los generales que conocen las variables posibles para aprovecharse del terreno sabe cómo manejar las fuerzas armadas. Si los generales no saben cómo adaptarse de manera ventajosa, aunque conozcan la condición del terreno, no pueden aprovecharse de él.',\n",
       " 'Si están al mando de ejércitos, pero ignoran las artes de la total adaptabilidad, aunque conozcan el objetivo a lograr, no pueden hacer que los soldados luchen por él.',\n",
       " 'Si eres capaz de ajustar la campaña cambiar conforme al ímpetu de las fuerzas, entonces la ventaja no cambia, y los únicos que son perjudicados son los enemigos. Por esta razón, no existe una estructura permanente. Si puedes comprender totalmente este principio, puedes hacer que los soldados actúen en la mejor forma posible.',\n",
       " 'Por lo tanto, las consideraciones de la persona inteligente siempre incluyen el analizar objetivamente el beneficio y el daño. Cuando considera el beneficio, su acción se expande; cuando considera el daño, sus problemas pueden resolverse.',\n",
       " 'El beneficio y el daño son interdependientes, y los sabios los tienen en cuenta.',\n",
       " 'Por ello, lo que retiene a los adversarios es el daño, lo que les mantiene ocupados es la acción, y lo que les motiva es el beneficio.',\n",
       " 'Cansa a los enemigos manteniéndolos ocupados y no dejándoles respirar. Pero antes de lograrlo, tienes que realizar previamente tu propia labor. Esa labor consiste en desarrollar un ejército fuerte, un pueblo próspero, una sociedad armoniosa y una manera ordenada de vivir.',\n",
       " 'Así pues, la norma general de las operaciones militares consiste en no contar con que el enemigo no acuda, sino confiar en tener los medios de enfrentarte a él; no contar con que el adversario no ataque, sino confiar en poseer lo que no puede ser atacado.',\n",
       " 'Si puedes recordar siempre el peligro cuando estás a salvo y el caos en tiempos de orden, permanece atento al peligro y al caos mientras no tengan todavía forma, y evítalos antes de que se presenten; ésta es la mejor estrategia de todas.',\n",
       " 'Por esto, existen cinco rasgos que son peligrosos en los generales. Los que están dispuestos a morir, pueden perder la vida; los que quieren preservar la vida, pueden ser hechos prisioneros; los que son dados a los apasionamientos irracionales, pueden ser ridiculizados; los que son muy puritanos, pueden ser deshonrados; los que son compasivos, pueden ser turbados.',\n",
       " 'Si te presentas en un lugar que con toda seguridad los enemigos se precipitarán a defender, las personas compasivas se apresurarán invariablemente a rescatar a sus habitantes, causándose a sí mismos problemas y cansancio.',\n",
       " 'Estos son cinco rasgos que constituyen defectos en los generales y que son desastrosos para las operaciones militares.',\n",
       " 'Los buenos generales son de otra manera: se comprometen hasta la muerte, pero no se aferran a la esperanza de sobrevivir; actúan de acuerdo con los acontecimientos, en forma racional y realista, sin dejarse llevar por las emociones ni estar sujetos a quedar confundidos. Cuando ven una buena oportunidad, son como tigres, en caso contrario cierran sus puertas. Su acción y su no acción son cuestiones de estrategia, y no pueden ser complacidos ni enfadados.',\n",
       " 'Capítulo 9. Sobre la distribución de los medios',\n",
       " 'Las maniobras militares son el resultado de los planes y las estrategias en la manera más ventajosa para ganar. Determinan la movilidad y efectividad de las tropas.',\n",
       " 'Si vas a colocar tu ejército en posición de observar al enemigo, atraviesa rápido las montañas y vigílalos desde un valle.',\n",
       " 'Considera el efecto de la luz y manténte en la posición más elevada del valle. Cuando combatas en una montaña, ataca desde arriba hacia abajo y no al revés.',\n",
       " 'Combate estando cuesta abajo y nunca cuesta arriba. Evita que el agua divida tus fuerzas, aléjate de las condiciones desfavorables lo antes que te sea posible. No te enfrentes a los enemigos dentro del agua; es conveniente dejar que pasen la mitad de sus tropas y en ese momento dividirlas y atacarlas.',\n",
       " 'No te sitúes río abajo. No camines en contra de la corriente, ni en contra del viento.',\n",
       " 'Si acampas en la ribera de un río, tus ejércitos pueden ser sorprendidos de noche, empujados a ahogarse o se les puede colocar veneno en la corriente. Tus barcas no deben ser amarradas corriente abajo, para impedir que el enemigo aproveche la corriente lanzando sus barcas contra ti. Si atraviesas pantanos, hazlo rápidamente. Si te encuentras frente a un ejército en media de un pantano, permanece cerca de sus plantas acuáticas o respaldado por los árboles.',\n",
       " 'En una llanura, toma posiciones desde las que sea fácil maniobrar, manteniendo las elevaciones del terreno detrás y a tu derecha, estando las partes más bajas delante y las más altos detrás.',\n",
       " 'Generalmente, un ejército prefiere un terreno elevado y evita un terreno bajo, aprecia la luz y detesta la oscuridad.',\n",
       " 'Los terrenos elevados son estimulantes, y por lo tanto, la gente se halla a gusto en ellos, además son convenientes para adquirir la fuerza del ímpetu. Los terrenos bajos son húmedos, lo cual provoca enfermedades y dificulta el combate.',\n",
       " 'Cuida de la salud física de tus soldados con los mejores recursos disponibles.',\n",
       " 'Cuando no existe la enfermedad en un ejército, se dice que éste es invencible.',\n",
       " 'Donde haya montículos y terraplenes, sitúate en su lado soleado, manteniéndolos siempre a tu derecha y detrás.',\n",
       " 'Colocarse en la mejor parte del terreno es ventajoso para una fuerza militar.',\n",
       " 'La ventaja en una operación militar consiste en aprovecharse de todos los factores beneficiosos del terreno.',\n",
       " 'Cuando llueve río arriba y la corriente trae consigo la espuma, si quieres cruzarlo, espera a que escampe.',\n",
       " 'Siempre que un terreno presente barrancos infranqueables, lugares cerrados, trampas, riesgos, grietas y prisiones naturales, debes abandonarlo rápidamente y no acercarte a él. En lo que a mí concierne, siempre me mantengo alejado de estos accidentes del terreno, de manera que los adversarios estén más cerca que yo de ellos; doy la cara a estos accidentes, de manera que queden a espaldas del enemigo.',\n",
       " 'Entonces estás en situación ventajosa, y él tiene condiciones desfavorables.',\n",
       " 'Cuando un ejército se está desplazando, si atraviesa territorios montañosos con muchas corrientes de agua y pozos, o pantanos cubiertos de juncos, o bosques vírgenes llenos de árboles y vegetación, es imprescindible escudriñarlos totalmente y con cuidado, ya que estos lugares ayudan a las emboscadas y a los espías.',\n",
       " 'Es esencial bajar del caballo y escudriñar el terreno, por si existen tropas escondidas para tenderte una emboscada. También podría ser que hubiera espías al acecho observándote y escuchando tus instrucciones y movimientos.',\n",
       " 'Cuando el enemigo está cerca, pero permanece en calma, quiere decir que se halla en una posición fuerte. Cuando está lejos pero intenta provocar hostilidades, quiere que avances. Si, además, su posición es accesible, eso quiere decir que le es favorable.',\n",
       " 'Si un adversario no conserva la posición que le es favorable por las condiciones del terreno y se sitúa en otro lugar conveniente, debe ser porque existe alguna ventaja táctica para obrar de esta manera.',\n",
       " 'Si se mueven los árboles, es que el enemigo se está acercando. Si hay obstáculos entre los matorrales, es que has tomado un mal camino.',\n",
       " 'La idea de poner muchos obstáculos entre la maleza es hacerte pensar que existen tropas emboscadas escondidas en medio de ella.',\n",
       " 'Si los pájaros alzan el vuelo, hay tropas emboscadas en el lugar. Si los animales están asustados, existen tropas atacantes. Si se elevan columnas de polvo altas y espesas, hay carros que se están acercando; si son bajas y anchas, se acercan soldados a pie. Humaredas esparcidas significan que se está cortando leña. Pequeñas polvaredas que van y vienen indican que hay que levantar el campamento.',\n",
       " 'Si los emisarios del enemigo pronuncian palabras humildes mientras que éste incrementa sus preparativos de guerra, esto quiere decir que va a avanzar. Cuando se pronuncian palabras altisonantes y se avanza ostentosamente, es señal de que el enemigo se va a retirar.',\n",
       " 'Si sus emisarios vienen con palabras humildes, envía espías para observar al enemigo y comprobarás que está aumentando sus preparativos de guerra.',\n",
       " 'Cuando los carros ligeros salen en primer lugar y se sitúan en los flancos, están estableciendo un frente de batalla.',\n",
       " 'Si los emisarios llegan pidiendo la paz sin firmar un tratado, significa que están tramando algún complot.',\n",
       " 'Si el enemigo dispone rápidamente a sus carros en filas de combate, es que está esperando refuerzos.',\n",
       " 'No se precipitarán para un encuentro ordinario si no entienden que les ayudará, o debe haber una fuerza que se halla a distancia y que es esperada en un determinado momento para unir sus tropas y atacarte. Conviene anticipar, prepararse inmediatamente para esta eventualidad.',\n",
       " 'Si la mitad de sus tropas avanza y la otra mitad retrocede, es que el enemigo piensa atraerte a una trampa.',\n",
       " 'El enemigo está fingiendo en este caso confusión y desorden para incitarte a que avances.',\n",
       " 'Si los soldados enemigos se apoyan unos en otros, es que están hambrientos.',\n",
       " 'Si los aguadores beben en primer lugar, es que las tropas están sedientas.',\n",
       " 'Si el enemigo ve una ventaja pero no la aprovecha, es que está cansado.',\n",
       " 'Si los pájaros se reúnen en el campo enemigo, es que el lugar está vacío.',\n",
       " 'Si hay pájaros sobrevolando una ciudad, el ejército ha huido.',\n",
       " 'Si se producen llamadas nocturnas, es que los soldados enemigos están atemorizados. Tienen miedo y están inquietos, y por eso se llaman unos a otros.',\n",
       " 'Si el ejército no tiene disciplina, esto quiere decir que el general no es tomado en serio.',\n",
       " 'Si los estandartes se mueven, es que está sumido en la confusión.',\n",
       " 'Las señales se utilizan para unificar el grupo; así pues, si se desplaza de acá para allá sin orden ni concierto, significa que sus filas están confusas.',\n",
       " 'Si sus emisarios muestran irritación, significa que están cansados.',\n",
       " 'Si matan sus caballos para obtener carne, es que los soldados carecen de alimentos; cuando no tienen marmitas y no vuelven a su campamento, son enemigos completamente desesperados.',\n",
       " 'Si se producen murmuraciones, faltas de disciplina y los soldados hablan mucho entre sí, quiere decir que se ha perdido la lealtad de la tropa.',\n",
       " 'Las murmuraciones describen la expresión de los verdaderos sentimientos; las faltas de disciplina indican problemas con los superiores. Cuando el mando ha perdido la lealtad de las tropas, los soldados se hablan con franqueza entre sí sobre los problemas con sus superiores.',\n",
       " 'Si se otorgan numerosas recompensas, es que el enemigo se halla en un callejón sin salida; cuando se ordenan demasiados castigos, es que el enemigo está desesperado.',\n",
       " 'Cuando la fuerza de su ímpetu está agotada, otorgan constantes recompensas para tener contentos a los soldados, para evitar que se rebelen en masa. Cuando los soldados están tan agotados que no pueden cumplir las órdenes, son castigados una y otra vez para restablecer la autoridad.',\n",
       " 'Ser violento al principio y terminar después temiendo a los propios soldados es el colmo de la ineptitud.',\n",
       " 'Los emisarios que acuden con actitud conciliatoria indican que el enemigo quiere una tregua.',\n",
       " 'Si las tropas enemigas se enfrentan a ti con ardor, pero demoran el momento de entrar en combate sin abandonar no obstante el terreno, has de observarlos cuidadosamente.',\n",
       " 'Están preparando un ataque por sorpresa.',\n",
       " 'En asuntos militares, no es necesariamente más beneficioso ser superior en fuerzas, sólo evitar actuar con violencia innecesaria; es suficiente con consolidar tu poder, hacer estimaciones sobre el enemigo y conseguir reunir tropas; eso es todo.',\n",
       " 'El enemigo que actúa aisladamente, que carece de estrategia y que toma a la ligera a sus adversarios, inevitablemente acabará siendo derrotado.',\n",
       " 'Si tu plan no contiene una estrategia de retirada o posterior al ataque, sino que confías exclusivamente en la fuerza de tus soldados, y tomas a la ligera a tus adversarios sin valorar su condición, con toda seguridad caerás prisionero.',\n",
       " 'Si se castiga a los soldados antes de haber conseguido que sean leales al mando, no obedecerán, y si no obedecen, serán difíciles de emplear.',\n",
       " 'Tampoco podrán ser empleados si no se lleva a cabo ningún castigo, incluso después de haber obtenido su lealtad.',\n",
       " 'Cuando existe un sentimiento subterráneo de aprecio y confianza, y los corazones de los soldados están ya vinculados al mando, si se relaja la disciplina, los soldados se volverán arrogantes y será imposible emplearlos.',\n",
       " 'Por lo tanto, dirígelos mediante el arte civilizado y unifícalos mediante las artes marciales; esto significa una victoria continua.',\n",
       " 'Arte civilizado significa humanidad, y artes marciales significan reglamentos. Mándalos con humanidad y benevolencia, unifícalos de manera estricta y firme. Cuando la benevolencia y la firmeza son evidentes, es posible estar seguro de la victoria.',\n",
       " 'Cuando las órdenes se dan de manera clara, sencilla y consecuente a las tropas, éstas las aceptan. Cuando las órdenes son confusas, contradictorias y cambiantes las tropas no las aceptan o no las entienden.',\n",
       " 'Cuando las órdenes son razonables, justas, sencillas, claras y consecuentes, existe una satisfacción recíproca entre el líder y el grupo.',\n",
       " 'Capítulo 10. Sobre la topología',\n",
       " 'Algunos terrenos son fáciles, otros difíciles, algunos neutros, otros estrechos, accidentados o abiertos.',\n",
       " 'Cuando el terreno sea accesible, sé el primero en establecer tu posición, eligiendo las alturas soleadas; una posición que sea adecuada para transportar los suministros; así tendrás ventaja cuando libres la batalla.',\n",
       " 'Cuando estés en un terreno difícil de salir, estás limitado. En este terreno, si tu enemigo no está preparado, puedes vencer si sigues adelante, pero si el enemigo está preparado y sigues adelante, tendrás muchas dificultades para volver de nuevo a él, lo cual jugará en contra tuya.',\n",
       " 'Cuando es un terreno desfavorable para ambos bandos, se dice que es un terreno neutro. En un terreno neutro, incluso si el adversario te ofrece una ventaja, no te aproveches de ella: retírate, induciendo a salir a la mitad de las tropas enemigas, y entonces cae sobre él aprovechándote de esta condición favorable.',\n",
       " 'En un terreno estrecho, si eres el primero en llegar, debes ocuparlo totalmente y esperar al adversario. Si él llega antes, no lo persigas si bloquea los desfiladeros. Persíguelo sólo si no los bloquea.',\n",
       " 'En terreno accidentado, si eres el primero en llegar, debes ocupar sus puntos altos y soleados y esperar al adversario. Si éste los ha ocupado antes, retírate y no lo persigas.',\n",
       " 'En un terreno abierto, la fuerza del ímpetu se encuentra igualada, y es difícil provocarle a combatir de manera desventajosa para él.',\n",
       " 'Entender estas seis clases de terreno es la responsabilidad principal del general, y es imprescindible considerarlos.',\n",
       " 'Éstas son las configuraciones del terreno; los generales que las ignoran salen derrotados.',\n",
       " 'Así pues, entre las tropas están las que huyen, la que se retraen, las que se derrumban, las que se rebelan y las que son derrotadas. Ninguna de estas circunstancias constituyen desastres naturales, sino que son debidas a los errores de los generales.',\n",
       " 'Las tropas que tienen el mismo ímpetu, pero que atacan en proporción de uno contra diez, salen derrotadas. Los que tienen tropas fuertes pero cuyos oficiales son débiles, quedan retraídos.',\n",
       " 'Los que tienen soldados débiles al mando de oficiales fuertes, se verán en apuros. Cuando los oficiales superiores están encolerizados y son violentos, y se enfrentan al enemigo por su cuenta y por despecho, y cuando los generales ignoran sus capacidades, el ejército se desmoronará.',\n",
       " 'Como norma general, para poder vencer al enemigo, todo el mando militar debe tener una sola intención y todas las fuerzas militares deben cooperar.',\n",
       " 'Cuando los generales son débiles y carecen de autoridad, cuando las órdenes no son claras, cuando oficiales y soldados no tienen solidez y las formaciones son anárquicas, se produce revuelta.',\n",
       " 'Los generales que son derrotados son aquellos que son incapaces de calibrar a los adversarios, entran en combate con fuerzas superiores en número o mejor equipadas, y no seleccionan a sus tropas según los niveles de preparación de las mismas.',\n",
       " 'Si empleas soldados sin seleccionar a los preparados de los no preparados, a los arrojados y a los timoratos, te estás buscando tu propia derrota.',\n",
       " 'Estas son las seis maneras de ser derrotado. La comprensión de estas situaciones es la responsabilidad suprema de los generales y deben ser consideradas.',\n",
       " 'La primera es no calibrar el número de fuerzas; la segunda, la ausencia de un sistema claro de recompensas y castigos; la tercera, la insuficiencia de entrenamiento; la cuarta es la pasión irracional; la quinta es la ineficacia de la ley del orden; y la sexta es el fallo de no seleccionar a los soldados fuertes y resueltos.',\n",
       " 'La configuración del terreno puede ser un apoyo para el ejército; para los jefes militares, el curso de la acción adecuada es calibrar al adversario para asegurar la victoria y calcular los riesgos y las distancias. Salen vencedores los que libran batallas conociendo estos elementos; salen derrotados los que luchan ignorándolos.',\n",
       " 'Por lo tanto, cuando las leyes de la guerra señalan una victoria segura es claramente apropiado entablar batalla, incluso si el gobierno ha dada órdenes de no atacar. Si las leyes de la guerra no indican una victoria segura, es adecuado no entrar en batalla, aunque el gobierno haya dada la orden de atacar. De este modo se avanza sin pretender la gloria, se ordena la retirada sin evitar la responsabilidad, con el único propósito de proteger a la población y en beneficio también del gobierno; así se rinde un servicio valioso a la nación.',\n",
       " 'Avanzar y retirarse en contra de las órdenes del gobierno no se hace por interés personal, sino para salvaguardar las vidas de la población y en auténtico beneficio del gobierno. Servidores de esta talla son muy útiles para un pueblo.',\n",
       " 'Mira por tus soldados como miras por un recién nacido; así estarán dispuestos a seguirte hasta los valles más profundos; cuida de tus soldados como cuidas de tus queridos hijos, y morirán gustosamente contigo.',\n",
       " 'Pero si eres tan amable con ellos que no los puedes utilizar, si eres tan indulgente que no les puedes dar órdenes, tan informal que no puedes disciplinarlos, tus soldados serán como niños mimados y, por lo tanto, inservibles.',\n",
       " 'Las recompensas no deben utilizarse solas, ni debe confiarse solamente en los castigos. En caso contrario, las tropas, como niños mimosos, se acostumbran a disfrutar o a quedar resentidas por todo. Esto es dañino y los vuelve inservibles.',\n",
       " 'Si sabes que tus soldados son capaces de atacar, pero ignoras si el enemigo es invulnerable a un ataque, tienes sólo la mitad de posibilidades de ganar. Si sabes que tu enemigo es vulnerable a un ataque, pero ignoras si tus soldados son capaces de atacar, sólo tienes la mitad de posibilidades de ganar. Si sabes que el enemigo es vulnerable a un ataque, y tus soldados pueden llevarlo a cabo, pero ignoras si la condición del terreno es favorable para la batalla, tienes la mitad de probabilidades de vencer.',\n",
       " 'Por lo tanto, los que conocen las artes marciales no pierden el tiempo cuando efectúan sus movimientos, ni se agotan cuando atacan. Debido a esto se dice que cuando te conoces a ti mismo y conoces a los demás, la victoria no es un peligro; cuando conoces el cielo y la tierra, la victoria es inagotable.',\n",
       " 'Capítulo 11. Sobre las nueve clases de terreno',\n",
       " 'Conforme a las leyes de las operaciones militares, existen nueve clases de terreno. Si',\n",
       " 'intereses locales luchan entre sí en su propio territorio, a éste se le llama terreno de dispersión.',\n",
       " 'Cuando los soldados están apegados a su casa y combaten cerca de su hogar, pueden ser dispersados con facilidad.',\n",
       " 'Cuando penetras en un territorio ajeno, pero no lo haces en profundidad, a éste se le llama territorio ligero.',\n",
       " 'Esto significa que los soldados pueden regresar fácilmente.',\n",
       " 'El territorio que puede resultarte ventajoso si lo tomas, y ventajoso al enemigo si es él quien lo conquista, se llama terreno clave.',\n",
       " 'Un terreno de lucha inevitable es cualquier enclave defensivo o paso estratégico.',\n",
       " 'Un territorio igualmente accesible para ti y para los demás se llama terreno de comunicación.',\n",
       " 'El territorio que está rodeado por tres territorios rivales y es el primero en proporcionar libre acceso a él a todo el mundo se llama terreno de intersección.',\n",
       " 'El terreno de intersección es aquel en el que convergen las principales vías de comunicación uniéndolas entre sí: sé el primero en ocuparlo, y la gente tendrá que ponerse de tu lado. Si lo obtienes, te encuentras seguro; si lo pierdes, corres peligro.',\n",
       " 'Cuando penetras en profundidad en un territorio ajeno, y dejas detrás muchas ciudades y pueblos, a este terreno se le llama difícil.',\n",
       " 'Es un terreno del que es difícil regresar.',\n",
       " 'Cuando atraviesas montañas boscosas, desfiladeros abruptos u otros accidentes difíciles de atravesar, a esto se le llama terreno desfavorable.',\n",
       " 'Cuando el acceso es estrecho y la salida es tortuosa, de manera que una pequeña unidad enemiga puede atacarte, aunque tus tropas sean más numerosas, a éste se le llama terreno cercado.',\n",
       " 'Si eres capaz de una gran adaptación, puedes atravesar este territorio.',\n",
       " 'Si sólo puedes sobrevivir en un territorio luchando con rapidez, y si es fácil morir si no lo haces, a éste se le llama terreno mortal.',\n",
       " 'Las tropas que se encuentran en un terreno mortal están en la misma situación que si se encontraran en una barca que se hunde o en una casa ardiendo.',\n",
       " 'Así pues, no combatas en un terreno de dispersión, no te detengas en un terreno ligero, no ataques en un terreno clave (ocupado por el enemigo), no dejes que tus tropas sean divididas en un terreno de comunicación. En terrenos de intersección, establece comunicaciones; en terrenos difíciles, entra aprovisionado; en terrenos desfavorables, continúa marchando; en terrenos cercados, haz planes; en terrenos mortales, lucha.',\n",
       " 'En un terreno de dispersión, los soldados pueden huir. Un terreno ligero es cuando los soldados han penetrado en territorio enemigo, pero todavía no tienen las espaldas cubiertas: por eso, sus mentes no están realmente concentradas y no están listos para la batalla. No es ventajoso atacar al enemigo en un terreno clave; lo que es ventajoso es llegar el primero a él. No debe permitirse que quede aislado el terreno de comunicación, para poder servirse de las rutas de suministros. En terrenos de intersección, estarás a salvo si estableces alianzas; si las pierdes, te encontrarás en peligro. En terrenos difíciles, entrar aprovisionado significa reunir todo lo necesario para estar allí mucho tiempo. En terrenos desfavorables, ya que no puedes atrincherarte en ello, debes apresurarte a salir. En terrenos cercados, introduce tácticas sorpresivas.',\n",
       " 'Si las tropas caen en un terreno mortal, todo el mundo luchará de manera espontánea. Por esto se dice: \"Sitúa a las tropas en un terreno mortal y sobrevivirán.\"',\n",
       " 'Los que eran antes considerados como expertos en el arte de la guerra eran capaces de hacer que el enemigo perdiera contacto entre su vanguardia y su retaguardia, la confianza entre las grandes y las pequeñas unidades, el interés recíproco par el bienestar de los diferentes rangos, el apoyo mutuo entre gobernantes y gobernados, el alistamiento de soldados y la coherencia de sus ejércitos. Estos expertos entraban en acción cuando les era ventajoso, y se retenían en caso contrario.',\n",
       " 'Introducían cambios para confundir al enemigo, atacándolos aquí y allá, aterrorizándolos y sembrando en ellos la confusión, de tal manera que no les daban tiempo para hacer planes.',\n",
       " 'Se podría preguntar cómo enfrentarse a fuerzas enemigas numerosas y bien organizadas que se dirigen hacia ti. La respuesta es quitarles en primer lugar algo que aprecien, y después te escucharán.',\n",
       " 'La rapidez de acción es el factor esencial de la condición de la fuerza militar, aprovechándose de los errores de los adversarios, desplazándose por caminos que no esperan y atacando cuando no están en guardia.',\n",
       " 'Esto significa que para aprovecharse de la falta de preparación, de visión y de cautela de los adversarios, es necesario actuar con rapidez, y que si dudas, esos errores no te servirán de nada.',\n",
       " 'En una invasión, por regla general, cuanto más se adentran los invasores en el territorio ajeno, más fuertes se hacen, hasta el punto de que el gobierno nativo no puede ya expulsarlos.',\n",
       " 'Escoge campos fértiles, y las tropas tendrán suficiente para comer. Cuida de su salud y evita el cansancio, consolida su energía, aumenta su fuerza. Que los movimientos de tus tropas y la preparación de tus planes sean insondables.',\n",
       " 'Consolida la energía más entusiasta de tus tropas, ahorra las fuerzas sobrantes, mantén en secreto tus formaciones y tus planes, permaneciendo insondable para los enemigos, y espera a que se produzca un punto vulnerable para avanzar.',\n",
       " 'Sitúa a tus tropas en un punto que no tenga salida, de manera que tengan que morir antes de poder escapar. Porque, ¿ante la posibilidad de la muerte, qué no estarán dispuestas a hacer? Los guerreros dan entonces lo mejor de sus fuerzas. Cuando se hallan ante un grave peligro, pierden el miedo. Cuando no hay ningún sitio a donde ir, permanecen firmes; cuando están totalmente implicados en un terreno, se aferran a él. Si no tienen otra opción, lucharán hasta el final.',\n",
       " 'Por esta razón, los soldados están vigilantes sin tener que ser estimulados, se alistan sin tener que ser llamados a filas, son amistosos sin necesidad de promesas, y se puede confiar en ellos sin necesidad de órdenes.',\n",
       " 'Esto significa que cuando los combatientes se encuentran en peligro de muerte, sea cual sea su rango, todos tienen el mismo objetivo, y, por lo tanto, están alerta sin necesidad de ser estimulados, tienen buena voluntad de manera espontánea y sin necesidad de recibir órdenes, y puede confiarse de manera natural en ellos sin promesas ni necesidad de jerarquía.',\n",
       " 'Prohibe los augurios para evitar las dudas, y los soldados nunca te abandonarán. Si tus soldados no tienen riquezas, no es porque las desdeñen. Si no tienen más longevidad, no es porque no quieran vivir más tiempo. El día en que se da la orden de marcha, los soldados lloran.',\n",
       " 'Así pues, una operación militar preparada con pericia debe ser como una serpiente veloz que contraataca con su cola cuando alguien le ataca por la cabeza, contraataca con la cabeza cuando alguien le ataca por la cola y contraataca con cabeza y cola, cuando alguien le ataca por el medio.',\n",
       " 'Esta imagen representa el método de una línea de batalla que responde velozmente cuando es atacada. Un manual de ocho formaciones clásicas de batalla dice: \"Haz del frente la retaguardia, haz de la retaguardia el frente, con cuatro cabezas y ocho colas. Haz que la cabeza esté en todas partes, y cuando el enemigo arremeta por el centro, cabeza y cola acudirán al rescate.\"',\n",
       " 'Puede preguntarse la cuestión de si es posible hacer que una fuerza militar sea como una serpiente rápida. La respuesta es afirmativa. Incluso las personas que se tienen antipatía, encontrándose en el mismo barco, se ayudarán entre sí en caso de peligro de zozobrar.',\n",
       " 'Es la fuerza de la situación la que hace que esto suceda.',\n",
       " 'Por esto, no basta con depositar la confianza en caballos atados y ruedas fijadas.',\n",
       " 'Se atan los caballos para formar una línea de combate estable, y se fijan las ruedas para hacer que los carros no se puedan mover. Pero aun así, esto no es suficientemente seguro ni se puede confiar en ello. Es necesario permitir que haya variantes a los cambios que se hacen, poniendo a los soldados en situaciones mortales, de manera que combatan de forma espontánea y se ayuden unos a otros codo con codo: éste es el camino de la seguridad y de la obtención de una victoria cierta.',\n",
       " 'La mejor organización es hacer que se exprese el valor y mantenerlo constante. Tener éxito tanto con tropas débiles como con tropas aguerridas se basa en la configuración de las circunstancias.',\n",
       " 'Si obtienes la ventaja del terreno, puedes vencer a los adversarios, incluso con tropas ligeras y débiles; ¿cuánto más te sería posible si tienes tropas poderosas y aguerridas? Lo que hace posible la victoria a ambas clases de tropas es las circunstancias del terreno.',\n",
       " 'Por lo tanto, los expertos en operaciones militares logran la cooperación de la tropa, de tal manera que dirigir un grupo es como dirigir a un solo individuo que no tiene más que una sola opción.',\n",
       " 'Corresponde al general ser tranquilo, reservado, justo y metódico.',\n",
       " 'Sus planes son tranquilos y absolutamente secretos para que nadie pueda descubrirlos. Su mando es justo y metódico, así que nadie se atreve a tomarlo a la ligera.',\n",
       " 'Puede mantener a sus soldados sin información y en completa ignorancia de sus planes.',\n",
       " 'Cambia sus acciones y revisa sus planes, de manera que nadie pueda reconocerlos. Cambia de lugar su emplazamiento y se desplaza por caminos sinuosos, de manera que nadie pueda anticiparse.',\n",
       " 'Puedes ganar cuando nadie puede entender en ningún momento cuáles son tus intenciones.',\n",
       " 'Dice un Gran Hombre: \"El principal engaño que se valora en las operaciones militares no se dirige sólo a los enemigos, sino que empieza por las propias tropas, para hacer que le sigan a uno sin saber adónde van.\" Cuando un general fija una meta a sus tropas, es como el que sube a un lugar elevado y después retira la escalera. Cuando un general se adentra muy en el interior del territorio enemigo, está poniendo a prueba todo su potencial.',\n",
       " 'Ha hecho quemar las naves a sus tropas y destruir sus casas; así las conduce como un rebaño y todos ignoran hacia dónde se encaminan.',\n",
       " 'Incumbe a los generales reunir a los ejércitos y ponerlos en situaciones peligrosas. También han de examinar las adaptaciones a los diferentes terrenos, las ventajas de concentrarse o dispersarse, y las pautas de los sentimientos y situaciones humanas.',\n",
       " 'Cuando se habla de ventajas y de desventajas de la concentración y de la dispersión, quiere decir que las pautas de los comportamientos humanos cambian según los diferentes tipos de terreno.',\n",
       " 'En general, la pauta general de los invasores es unirse cuando están en el corazón del territorio enemigo, pero tienden a dispersarse cuando están en las franjas fronterizas. Cuando dejas tu territorio y atraviesas la frontera en una operación militar, te hallas en un terreno aislado.',\n",
       " 'Cuando es accesible desde todos los puntos, es un terreno de comunicación.',\n",
       " 'Cuando te adentras en profundidad, estás en un terreno difícil. Cuando penetras poco, estás en un terreno ligero.',\n",
       " 'Cuando a tus espaldas se hallen espesuras infranqueables y delante pasajes estrechos, estás en un terreno cercado.',\n",
       " 'Cuando no haya ningún sitio a donde ir, se trata de un terreno mortal.',\n",
       " 'Así pues, en un terreno de dispersión, yo unificaría las mentes de los soldados. En un terreno ligero, las mantendría en contacto. En un terreno clave, les haría apresurarse para tomarlo. En un terreno de intersección, prestaría atención a la defensa. En un terreno de comunicación, establecería sólidas alianzas. En un terreno difícil, aseguraría suministros continuados. En un terreno desfavorable, urgiría a mis tropas a salir rápidamente de él. En un terreno cercado, cerraría las entradas. En un terreno mortal, indicaría a mis tropas que no existe ninguna posibilidad de sobrevivir.',\n",
       " 'Por esto, la psicología de los soldados consiste en resistir cuando se ven rodeados, luchar cuando no se puede evitar, y obedecer en casos extremos.',\n",
       " 'Hasta que los soldados no se ven rodeados, no tienen la determinación de resistir al enemigo hasta alcanzar la victoria. Cuando están desesperados, presentan una defensa unificada.',\n",
       " 'Por ello, los que ignoran los planes enemigos no pueden preparar alianzas.',\n",
       " 'Los que ignoran las circunstancias del terreno no pueden hacer maniobrar a sus fuerzas. Los que no utilizan guías locales no pueden aprovecharse del terreno. Los militares de un gobierno eficaz deben conocer todos estos factores.',\n",
       " 'Cuando el ejército de un gobierno eficaz ataca a un gran territorio, el pueblo no se puede unir. Cuando su poder sobrepasa a los adversarios, es imposible hacer alianzas.',\n",
       " 'Si puedes averiguar los planes de tus adversarios, aprovéchate del terreno y haz maniobrar al enemigo de manera que se encuentre indefenso; en este caso, ni siquiera un gran territorio puede reunir suficientes tropas para detenerte.',\n",
       " 'Por lo tanto, si no luchas por obtener alianzas, ni aumentas el poder de ningún país, pero extiendes tu influencia personal amenazando a los adversarios, todo ello hace que el país y las ciudades enemigas sean vulnerables.',\n",
       " 'Otorga recompensas que no estén reguladas y da órdenes desacostumbradas.',\n",
       " 'Considera la ventaja de otorgar recompensas que no tengan precedentes, observa cómo el enemigo hace promesas sin tener en cuenta los códigos establecidos.',\n",
       " 'Maneja las tropas como si fueran una sola persona. Empléalas en tareas reales, pero no les hables. Motívalas con recompensas, pero no les comentes los perjuicios posibles.',\n",
       " 'Emplea a tus soldados sólo en combatir, sin comunicarles tu estrategia. Déjales conocer los beneficios que les esperan, pero no les hables de los daños potenciales. Si la verdad se filtra, tu estrategia puede hundirse. Si los soldados empiezan a preocuparse, se volverán vacilantes y temerosos.',\n",
       " 'Colócalos en una situación de posible exterminio, y entonces lucharán para vivir. Ponles en peligro de muerte, y entonces sobrevivirán. Cuando las tropas afrontan peligros, son capaces de luchar para obtener la victoria.',\n",
       " 'Así pues, la tarea de una operación militar es fingir acomodarse a las intenciones del enemigo. Si te concentras totalmente en éste, puedes matar a su general aunque estés a kilómetros de distancia. A esto se llama cumplir el objetivo con pericia.',\n",
       " 'Al principio te acomodas a sus intenciones, después matas a sus generales: ésta es la pericia en el cumplimiento del objetivo.',\n",
       " 'Así, el día en que se declara la guerra, se cierran las fronteras, se rompen los salvoconductos y se impide el paso de emisarios.',\n",
       " 'Los asuntos se deciden rigurosamente desde que se comienza a planificar y establecer la estrategia desde la casa o cuartel general.',\n",
       " 'El rigor en los cuarteles generales en la fase de planificación se refiere al mantenimiento del secreto.',\n",
       " 'Cuando el enemigo ofrece oportunidades, aprovéchalas inmediatamente.',\n",
       " 'Entérate primero de lo que pretende, y después anticípate a él. Mantén la disciplina y adáptate al enemigo, para determinar el resultado de la guerra. Así, al principio eres como',\n",
       " 'una doncella y el enemigo abre sus puertas; entonces, tú eres como una liebre suelta, y el enemigo no podrá expulsarte.',\n",
       " 'Capítulo 12. Sobre el arte de atacar por el fuego',\n",
       " 'Existen cinco clases de ataques mediante el fuego: quemar a las personas, quemar los suministros, quemar el equipo, quemar los almacenes y quemar las armas.',\n",
       " 'El uso del fuego tiene que tener una base, y exige ciertos medios. Existen momentos adecuados para encender fuegos, concretamente cuando el tiempo es seco y ventoso.',\n",
       " 'Normalmente, en ataques mediante el fuego es imprescindible seguir los cambios producidos por éste. Cuando el fuego está dentro del campamento enemigo, prepárate rápidamente desde fuera. Si los soldados se mantienen en calma cuando el fuego se ha declarado, espera y no ataques. Cuando el fuego alcance su punto álgido, síguelo, si puedes; si no, espera.',\n",
       " 'En general, el fuego se utiliza para sembrar la confusión en el enemigo y así poder atacarle.',\n",
       " 'Cuando el fuego puede ser prendido en campo abierto, no esperes a hacerlo en su interior; hazlo cuando sea oportuno.',\n",
       " 'Cuando el fuego sea atizado par el viento, no ataques en dirección contraria a éste.',\n",
       " 'No es eficaz luchar contra el ímpetu del fuego, porque el enemigo luchará en este caso hasta la muerte.',\n",
       " 'Si ha soplado el viento durante el día, a la noche amainará.',\n",
       " 'Un viento diurno cesará al anochecer; un viento nocturno cesará al amanecer.',\n",
       " 'Los ejércitos han de saber que existen variantes de las cinco clases de ataques mediante el fuego, y adaptarse a éstas de manera racional.',\n",
       " 'No basta saber cómo atacar a los demás con el fuego, es necesario saber cómo impedir que los demás te ataquen a ti.',\n",
       " 'Así pues, la utilización del fuego para apoyar un ataque significa claridad, y la utilización del agua para apoyar un ataque significa fuerza. El agua puede incomunicar, pero no puede arrasar.',\n",
       " 'El agua puede utilizarse para dividir a un ejército enemigo, de manera que su fuerza se desuna y la tuya se fortalezca.',\n",
       " 'Ganar combatiendo o llevar a cabo un asedio victorioso sin recompensar a los que han hecho méritos trae mala fortuna y se hace merecedor de ser llamado avaro. Por eso se dice que un gobierno esclarecido lo tiene en cuenta y que un buen mando militar recompensa el mérito. No moviliza a sus tropas cuando no hay ventajas que obtener, ni actúa cuando no hay nada que ganar, ni luchan cuando no existe peligro.',\n",
       " 'Las armas son instrumentos de mal augurio, y la guerra es un asunto peligroso. Es indispensable impedir una derrota desastrosa, y por lo tanto, no vale la pena movilizar un ejército por razones insignificantes: Las armas sólo deben utilizarse cuando no existe otro remedio.',\n",
       " 'Un gobierno no debe movilizar un ejército por ira, y los jefes militares no deben provocar la guerra por cólera.',\n",
       " 'Actúa cuando sea beneficioso; en caso contrario, desiste. La ira puede convertirse en alegría, y la cólera puede convertirse en placer, pero un pueblo destruido no puede hacérsele renacer, y la muerte no puede convertirse en vida. En consecuencia, un gobierno esclarecido presta atención a todo esto, y un buen mando militar lo tiene en cuenta. Ésta es la manera de mantener a la nación a salvo y de conservar intacto a su ejército.',\n",
       " 'Capítulo 13. Sobre la concordia y la discordia',\n",
       " 'Una Operación militar significa un gran esfuerzo para el pueblo, y la guerra puede durar muchos años para obtener una victoria de un día. Así pues, fallar en conocer la situación de los adversarios por economizar en aprobar gastos para investigar y estudiar a la oposición es extremadamente inhumano, y no es típico de un buen jefe militar, de un consejero de gobierno, ni de un gobernante victorioso. Por lo tanto, lo que posibilita a un gobierno inteligente y a un mando militar sabio vencer a los demás y lograr triunfos extraordinarios con esa información esencial.',\n",
       " 'La información previa no puede obtenerse de fantasmas ni espíritus, ni se puede tener por analogía, ni descubrir mediante cálculos. Debe obtenerse de personas; personas que conozcan la situación del adversario.',\n",
       " 'Existen cinco clases de espías: el espía nativo, el espía interno, el doble agente, el espía liquidable, y el espía flotante. Cuando están activos todos ellos, nadie conoce sus rutas: a esto se le llama genio organizativo, y se aplica al gobernante.',\n",
       " 'Los espías nativos se contratan entre los habitantes de una localidad. Los espías internos se contratan entre los funcionarios enemigos. Los agentes dobles se contratan entre los espías enemigos. Los espías liquidables transmiten falsos datos a los espías enemigos. Los espías flotantes vuelven para traer sus informes.',\n",
       " 'Entre los funcionarios del régimen enemigo, se hallan aquéllos con los que se puede establecer contacto y a los que se puede sobornar para averiguar la situación de su país y descubrir cualquier plan que se trame contra ti, también pueden ser utilizados para crear desavenencias y desarmonía.',\n",
       " 'En consecuencia, nadie en las fuerzas armadas es tratado con tanta familiaridad como los espías, ni a nadie se le otorgan recompensas tan grandes como a ellos, ni hay asunto más secreto que el espionaje.',\n",
       " 'Si no se trata bien a los espías, pueden convertirse en renegados y trabajar para el enemigo.',\n",
       " 'No se pueden utilizar a los espías sin sagacidad y conocimiento; no puede uno servirse de espías sin humanidad y justicia, no se puede obtener la verdad de los espías sin sutileza. Ciertamente, es un asunto muy delicado. Los espías son útiles en todas partes.',\n",
       " 'Cada asunto requiere un conocimiento previo.',\n",
       " 'Si algún asunto de espionaje es divulgado antes de que el espía haya informado, éste y el que lo haya divulgado deben eliminarse.',\n",
       " 'Siempre que quieras atacar a un ejército, asediar una ciudad o atacar a una persona, has de conocer previamente la identidad de los generales que la defienden, de sus aliados, sus visitantes, sus centinelas y de sus criados; así pues, haz que tus espías averigüen todo sobre ellos.',\n",
       " 'Siempre que vayas a atacar y a combatir, debes conocer primero los talentos de los servidores del enemigo, y así puedes enfrentarte a ellos según sus capacidades.',\n",
       " 'Debes buscar a agentes enemigos que hayan venido a espiarte, sobornarlos e inducirlos a pasarse a tu lado, para poder utilizarlos como agentes dobles. Con la información obtenida de esta manera, puedes encontrar espías nativos y espías internos para contratarlos. Con la información obtenida de éstos, puedes fabricar información falsa sirviéndote de espías liquidables. Con la información así obtenida, puedes hacer que los espías flotantes actúen según los planes previstos.',\n",
       " 'Es esencial para un gobernante conocer las cinco clases de espionaje, y este conocimiento depende de los agentes dobles; así pues, éstos deben ser bien tratados.',\n",
       " 'Así, sólo un gobernante brillante o un general sabio que pueda utilizar a los más inteligentes para el espionaje, puede estar seguro de la victoria. El espionaje es esencial para las operaciones militares, y los ejércitos dependen de él para llevar a cabo sus acciones.',\n",
       " 'No será ventajoso para el ejército actuar sin conocer la situación del enemigo, y conocer la situación del enemigo no es posible sin el espionaje.']"
      ]
     },
     "execution_count": 140,
     "metadata": {},
     "output_type": "execute_result"
    }
   ],
   "source": [
    "# Cada oración se guarda en una lista lo guardamos en una lista\n",
    "text = list(df.loc[:,0])\n",
    "text"
   ]
  },
  {
   "cell_type": "code",
   "execution_count": 141,
   "metadata": {
    "id": "CMu9CX34J8RQ"
   },
   "outputs": [],
   "source": [
    "# Segmentación del texto con Keras\n",
    "segmented_sentences = [text_to_word_sequence(sentence) for sentence in text]"
   ]
  },
  {
   "cell_type": "code",
   "execution_count": 142,
   "metadata": {
    "id": "neCJEVNvkkjE"
   },
   "outputs": [
    {
     "name": "stdout",
     "output_type": "stream",
     "text": [
      "Texto: Sun Tzu El Arte de la Guerra\n",
      "Texto segmentado: ['sun', 'tzu', 'el', 'arte', 'de', 'la', 'guerra']\n"
     ]
    }
   ],
   "source": [
    "# Vemos como queda el texto antes y después de la segmentación\n",
    "print(f'Texto: {text[0]}')\n",
    "print(f'Texto segmentado: {segmented_sentences[0]}')"
   ]
  },
  {
   "cell_type": "code",
   "execution_count": 143,
   "metadata": {
    "id": "x35rV7QZH49n"
   },
   "outputs": [
    {
     "data": {
      "image/png": "[encoded data removed]",
      "text/plain": [
       "<Figure size 1000x600 with 1 Axes>"
      ]
     },
     "metadata": {},
     "output_type": "display_data"
    }
   ],
   "source": [
    "# Longitud de cada secuencia\n",
    "length_sentences = [len(sentence) for sentence in segmented_sentences]\n",
    "\n",
    "# Distribución de oraciones\n",
    "plt.figure(figsize=(10, 6))\n",
    "plt.hist(length_sentences, bins=20, color='orangered', edgecolor='black', alpha = 0.5)\n",
    "plt.title(\"Distribución de la longitud de las oraciones\", fontsize=14)\n",
    "plt.xlabel(\"Longitud de las oraciones (número de palabras)\", fontsize=12)\n",
    "plt.ylabel(\"Frecuencia\", fontsize=12)\n",
    "plt.grid(axis='y', linestyle='--', alpha=0.7)\n",
    "plt.show()"
   ]
  },
  {
   "cell_type": "markdown",
   "metadata": {},
   "source": [
    "En el gráfico se puede observar que:\n",
    "\n",
    "- La mayoría de las oraciones tienen una longitud entre 0 y 50 palabras, con un pico entre 10 y 30 palabras.\n",
    "- Hay pocas oraciones extremadamente largas (por encima de 100 palabras).\n",
    "- La distribución es asimétrica hacia la derecha, lo que sugiere que las oraciones suelen ser cortas."
   ]
  },
  {
   "cell_type": "code",
   "execution_count": 144,
   "metadata": {
    "id": "wumBNwdjJM3j"
   },
   "outputs": [
    {
     "name": "stdout",
     "output_type": "stream",
     "text": [
      "max_context_size: 54\n"
     ]
    }
   ],
   "source": [
    "#En este caso, para determinar el máximo tamaño de contexto, elegimos el percentil 90\n",
    "max_context_size = int(np.percentile(length_sentences, 90)-1)\n",
    "print(f'max_context_size: {max_context_size}')"
   ]
  },
  {
   "cell_type": "markdown",
   "metadata": {
    "id": "2oIUjVU0LB0r"
   },
   "source": [
    "###  Tokenizar"
   ]
  },
  {
   "cell_type": "code",
   "execution_count": 145,
   "metadata": {
    "id": "_XKQIpRiLNbg"
   },
   "outputs": [],
   "source": [
    "# Se instancia el tokenizador\n",
    "tok = Tokenizer()\n",
    "\n",
    "tok.fit_on_texts(segmented_sentences)\n",
    "\n",
    "# Convertimos las palabras a números (input palabras -> output números)\n",
    "tokenized_sentences = tok.texts_to_sequences(segmented_sentences)"
   ]
  },
  {
   "cell_type": "code",
   "execution_count": 146,
   "metadata": {
    "id": "AK2wfHyslrTz"
   },
   "outputs": [
    {
     "data": {
      "text/plain": [
       "[709, 710, 5, 184, 1, 2, 88]"
      ]
     },
     "execution_count": 146,
     "metadata": {},
     "output_type": "execute_result"
    }
   ],
   "source": [
    "tokenized_sentences[0]"
   ]
  },
  {
   "cell_type": "code",
   "execution_count": 147,
   "metadata": {
    "id": "s-93u9lxlwlP"
   },
   "outputs": [
    {
     "data": {
      "text/plain": [
       "['sun', 'tzu', 'el', 'arte', 'de', 'la', 'guerra']"
      ]
     },
     "execution_count": 147,
     "metadata": {},
     "output_type": "execute_result"
    }
   ],
   "source": [
    "segmented_sentences[0]"
   ]
  },
  {
   "cell_type": "markdown",
   "metadata": {
    "id": "l3iPTx-UJl6r"
   },
   "source": [
    "En la variable `tokenized_sentences` tenemos los versos tokenizados. Vamos a quedarnos con un conjunto de validación que utilizaremos para medir la calidad de la generación de secuencias con la métrica de perplejidad."
   ]
  },
  {
   "cell_type": "code",
   "execution_count": 148,
   "metadata": {},
   "outputs": [],
   "source": [
    "def pad_and_concat(tokenized_sentences, max_context_size):\n",
    "    \"\"\"\n",
    "    Apply padding to sentences so that all have the same length and concatenate them into a single tensor.\n",
    "    \"\"\"\n",
    "    padded_sentences = []\n",
    "    for sent in tokenized_sentences:\n",
    "        subseq = [sent[:i+2] for i in range(len(sent)-1)]\n",
    "        padded_sentences.append(pad_sequences(subseq, maxlen=max_context_size+1, padding='pre'))\n",
    "    return np.concatenate(padded_sentences, axis=0)"
   ]
  },
  {
   "cell_type": "code",
   "execution_count": 149,
   "metadata": {
    "id": "cSeqVGyV_wz5"
   },
   "outputs": [],
   "source": [
    "tokenized_sentences_train, tokenized_sentences_val, _, _ = train_test_split(tokenized_sentences, tokenized_sentences, test_size=0.2, random_state=42)"
   ]
  },
  {
   "cell_type": "code",
   "execution_count": 150,
   "metadata": {},
   "outputs": [
    {
     "name": "stdout",
     "output_type": "stream",
     "text": [
      "Dimensiones train_sequences: (11039, 55)\n",
      "Dimensiones val_sequences shape: (2578, 55)\n"
     ]
    }
   ],
   "source": [
    "train_sequences = pad_and_concat(tokenized_sentences_train, max_context_size)\n",
    "val_sequences = pad_and_concat(tokenized_sentences_val, max_context_size)\n",
    "print(f\"Dimensiones train_sequences: {train_sequences.shape}\")\n",
    "print(f\"Dimensiones val_sequences shape: {val_sequences.shape}\")"
   ]
  },
  {
   "cell_type": "code",
   "execution_count": null,
   "metadata": {},
   "outputs": [],
   "source": [
    "# Definimos los conjuntos de entrenamiento / validación\n",
    "X_train = train_sequences[:,:-1]\n",
    "X_val = val_sequences[:,:-1]\n",
    "y_train = train_sequences[:,-1]\n",
    "y_val = val_sequences[:,-1]"
   ]
  },
  {
   "cell_type": "markdown",
   "metadata": {
    "id": "gmsoPbV6LxcW"
   },
   "source": [
    "Vamos a splitear las oraciones que tienen tamaño mayor al contexto máximo, para generarnos más secuencias de entrenamiento."
   ]
  },
  {
   "cell_type": "code",
   "execution_count": 152,
   "metadata": {
    "id": "E5BPO4qPPnNR"
   },
   "outputs": [],
   "source": [
    "tok_sent = []\n",
    "\n",
    "for sent in tokenized_sentences_train:\n",
    "\n",
    "  # si la secuencia tiene más términos que el tamaño de contexto máximo,\n",
    "  # armo varias sub-secuencias de tamaño máximo\n",
    "  if len(sent) > (max_context_size+1):\n",
    "    extra = len(sent)-(max_context_size+1) + 1\n",
    "    for i in range(extra):\n",
    "      tok_sent.append(sent[i:i+max_context_size+1])\n",
    "  else: # si la secuencia tiene menos términos el tamaño de contexto máximo, dejo la secuencia como está\n",
    "    tok_sent.append(sent)\n"
   ]
  },
  {
   "cell_type": "code",
   "execution_count": 153,
   "metadata": {
    "id": "RiEt0AAz_64v"
   },
   "outputs": [
    {
     "data": {
      "text/plain": [
       "1109"
      ]
     },
     "execution_count": 153,
     "metadata": {},
     "output_type": "execute_result"
    }
   ],
   "source": [
    "len(tok_sent)"
   ]
  },
  {
   "cell_type": "markdown",
   "metadata": {
    "id": "QnwSC7A_LWfd"
   },
   "source": [
    "Ahora aumentamos los datos aprovechando que de una secuencia grande se pueden generar varias más pequeñas:\n"
   ]
  },
  {
   "cell_type": "code",
   "execution_count": null,
   "metadata": {
    "id": "lWdhVV04htki"
   },
   "outputs": [],
   "source": [
    "tok_sent_augm = []\n",
    "\n",
    "for sent in tok_sent:\n",
    "\n",
    "  # Generamos todas las sub-secuencias\n",
    "  subseq = [sent[:i+2] for i in range(len(sent)-1)]\n",
    "  # Paddeamos al tamaño de contexto máximo\n",
    "  tok_sent_augm.append(pad_sequences(subseq, maxlen=max_context_size+1, padding='pre'))\n"
   ]
  },
  {
   "cell_type": "code",
   "execution_count": null,
   "metadata": {
    "id": "THXXBya1tnZ8"
   },
   "outputs": [],
   "source": [
    "# Concatenamos todas las secuencias en un único array de numpy\n",
    "train_seqs = np.concatenate(tok_sent_augm, axis=0)"
   ]
  },
  {
   "cell_type": "code",
   "execution_count": 156,
   "metadata": {
    "id": "o5Uiflnwt10J"
   },
   "outputs": [
    {
     "data": {
      "text/plain": [
       "(50842, 55)"
      ]
     },
     "execution_count": 156,
     "metadata": {},
     "output_type": "execute_result"
    }
   ],
   "source": [
    "train_seqs.shape"
   ]
  },
  {
   "cell_type": "code",
   "execution_count": 158,
   "metadata": {
    "id": "WtzINYjWCMf1"
   },
   "outputs": [
    {
     "data": {
      "text/plain": [
       "2821"
      ]
     },
     "execution_count": 158,
     "metadata": {},
     "output_type": "execute_result"
    }
   ],
   "source": [
    "# Cantidad de palabras en el vocabulario\n",
    "vocab_size = len(tok.word_counts)\n",
    "vocab_size"
   ]
  },
  {
   "cell_type": "code",
   "execution_count": null,
   "metadata": {
    "id": "spTBxmFQc6h8"
   },
   "outputs": [
    {
     "name": "stdout",
     "output_type": "stream",
     "text": [
      "{'de': 1, 'la': 2, 'que': 3, 'y': 4, 'el': 5, 'los': 6, 'en': 7, 'a': 8, 'no': 9, 'se': 10, 'es': 11, 'las': 12, 'un': 13, 'si': 14, 'para': 15, 'cuando': 16, 'una': 17, 'por': 18, 'lo': 19, 'del': 20, 'enemigo': 21, 'sus': 22, 'terreno': 23, 'son': 24, 'con': 25, 'al': 26, 'su': 27, 'como': 28, 'tropas': 29, 'soldados': 30, 'tus': 31, 'ser': 32, 'puede': 33, 'ejército': 34, 'están': 35, 'victoria': 36, 'sin': 37, 'así': 38, 'tu': 39, 'esto': 40, 'está': 41, 'fuerza': 42, 'batalla': 43, 'pero': 44, 'adversarios': 45, 'manera': 46, 'puedes': 47, 'o': 48, 'más': 49, 'te': 50, 'ni': 51, 'general': 52, 'pueden': 53, 'sobre': 54, 'hacer': 55, 'fuerzas': 56, 'significa': 57, 'militares': 58, 'pues': 59, 'enemigos': 60, 'tanto': 61, 'lugar': 62, 'adversario': 63, 'sólo': 64, 'atacar': 65, 'ti': 66, 'todo': 67, 'debe': 68, 'entre': 69, 'militar': 70, 'territorio': 71, 'ellos': 72, 'tienen': 73, 'le': 74, 'sea': 75, 'espías': 76, 'planes': 77, 'tiene': 78, 'antes': 79, 'generales': 80, 'ataque': 81, 'primero': 82, 'donde': 83, 'forma': 84, 'contra': 85, 'él': 86, 'mismo': 87, 'guerra': 88, 'hay': 89, 'tiempo': 90, 'esta': 91, 'después': 92, 'llama': 93, 'fuego': 94, 'este': 95, 'obtener': 96, 'estrategia': 97, 'orden': 98, 'conocer': 99, 'mediante': 100, 'entonces': 101, 'poder': 102, 'les': 103, 'bien': 104, 'mando': 105, 'ha': 106, 'hasta': 107, 'gobierno': 108, 'ejércitos': 109, 'órdenes': 110, 'pueblo': 111, 'tener': 112, 'han': 113, 'situación': 114, 'porque': 115, 'aunque': 116, 'ganar': 117, 'defensa': 118, 'conoces': 119, 'agua': 120, 'ímpetu': 121, 'ventaja': 122, 'terrenos': 123, 'capítulo': 124, 'dice': 125, 'hacia': 126, 'hace': 127, 'peligro': 128, 'mucho': 129, 'estás': 130, 'mientras': 131, 'lucha': 132, 'demás': 133, 'deben': 134, 'otros': 135, 'combatir': 136, 'difícil': 137, 'cada': 138, 'capaz': 139, 'recompensas': 140, 'operaciones': 141, 'gran': 142, 'luchar': 143, 'mundo': 144, 'debes': 145, 'posición': 146, 'energía': 147, 'siempre': 148, 'tienes': 149, 'éste': 150, 'camino': 151, 'cinco': 152, 'mejor': 153, 'vencer': 154, 'país': 155, 'quiere': 156, 'consecuencia': 157, 'haz': 158, 'caso': 159, 'posible': 160, 'incluso': 161, 'existen': 162, 'sino': 163, 'expertos': 164, 'cuestión': 165, 'eres': 166, 'combate': 167, 'muerte': 168, 'estos': 169, 'suministros': 170, 'uno': 171, 'decir': 172, 'todas': 173, 'ataca': 174, 'estas': 175, 'desde': 176, 'e': 177, 'sí': 178, 'guerreros': 179, 'sean': 180, 'formación': 181, 'punto': 182, 'nadie': 183, 'arte': 184, 'derrotado': 185, 'cerca': 186, 'lejos': 187, 'armas': 188, 'ningún': 189, 'operación': 190, 'alimentos': 191, 'todos': 192, 'regla': 193, 'superiores': 194, 'cómo': 195, 'tan': 196, 'existe': 197, 'haya': 198, 'clases': 199, 'evitar': 200, 'información': 201, 'acción': 202, 'factores': 203, 'condiciones': 204, 'disciplina': 205, 'oficiales': 206, 'ventajas': 207, 'fuertes': 208, 'seguro': 209, 'ventajoso': 210, 'partes': 211, 'muchas': 212, 'menos': 213, 'totalmente': 214, 'objetivo': 215, 'muy': 216, 'príncipe': 217, 'alianzas': 218, 'eso': 219, 'personas': 220, 'utilizar': 221, 'ya': 222, 'situaciones': 223, 'abajo': 224, 'formaciones': 225, 'ataques': 226, 'ésta': 227, 'débiles': 228, 'viento': 229, 'mitad': 230, 'cualquier': 231, 'fácil': 232, 'campo': 233, '¿qué': 234, 'actuar': 235, 'fuerte': 236, 'trata': 237, 'enemigas': 238, 'vez': 239, 'utilizan': 240, 'tres': 241, 'provisiones': 242, 'par': 243, 'carros': 244, 'artes': 245, 'frente': 246, 'necesidad': 247, 'beneficio': 248, 'entrar': 249, 'problemas': 250, 'descubrir': 251, 'cuenta': 252, 'necesario': 253, 'leyes': 254, 'capaces': 255, 'desorden': 256, 'kilómetros': 257, 'puntos': 258, 'muchos': 259, 'retaguardia': 260, 'condición': 261, 'pueda': 262, 'mortal': 263, 'vida': 264, 'ello': 265, 'esté': 266, 'gobernante': 267, 'día': 268, 'abierto': 269, 'lugares': 270, 'cual': 271, 'tomar': 272, 'indican': 273, 'derrota': 274, 'ciudad': 275, 'sé': 276, 'haber': 277, 'propio': 278, 'principio': 279, 'estar': 280, 'recursos': 281, 'diez': 282, 'cabeza': 283, 'marciales': 284, 'cabo': 285, 'número': 286, 'llegar': 287, 'aprovecharse': 288, 'momento': 289, 'salir': 290, 'lograr': 291, 'esa': 292, 'conoce': 293, 'buenos': 294, 'hacen': 295, 'éstas': 296, 'corriente': 297, 'favorable': 298, 'has': 299, 'nada': 300, 'haces': 301, 'ir': 302, 'distancia': 303, 'saber': 304, 'según': 305, 'rápidamente': 306, 'confusión': 307, 'ignoran': 308, 'emisarios': 309, 'comunicación': 310, 'quemar': 311, 'espionaje': 312, 'resultado': 313, 'modo': 314, 'noche': 315, 'dónde': 316, 'organización': 317, 'aquel': 318, 'castigos': 319, 'dos': 320, 'victorioso': 321, 'será': 322, 'tras': 323, 'atención': 324, 'espera': 325, 'causa': 326, 'nunca': 327, 'medios': 328, 'gente': 329, 'bajo': 330, 'habitantes': 331, 'hecho': 332, 'propia': 333, 'recompensa': 334, 'prisioneros': 335, 'seguridad': 336, 'jefes': 337, 'batallas': 338, 'ciudades': 339, 'firmeza': 340, 'salida': 341, 'avanzar': 342, 'dirigir': 343, 'otra': 344, 'primer': 345, 'ver': 346, 'sutil': 347, 'obtenida': 348, 'considera': 349, 'montañas': 350, 'movimientos': 351, 'vacío': 352, 'llega': 353, 'quieres': 354, 'valiente': 355, 'tímido': 356, 'llegan': 357, 'salvar': 358, 'puedan': 359, 'ninguna': 360, 'vanguardia': 361, 'significan': 362, 'cambios': 363, 'armada': 364, 'maniobrar': 365, 'circunstancias': 366, 'esencial': 367, 'salen': 368, 'difíciles': 369, 'dispersión': 370, 'ligero': 371, 'intersección': 372, 'asunto': 373, 'espía': 374, 'comparaciones': 375, 'determinar': 376, 'vidas': 377, 'distancias': 378, 'rutas': 379, 'naturaleza': 380, 'qué': 381, 'consejo': 382, 'crear': 383, 'atraer': 384, 'durante': 385, 'intenta': 386, 'filas': 387, 'aparece': 388, 'cálculos': 389, 'ella': 390, 'estés': 391, 'campaña': 392, 'debilidad': 393, 'podrás': 394, 'dejar': 395, 'rápido': 396, 'trueno': 397, 'oídos': 398, 'relámpago': 399, 'servirse': 400, 'pericia': 401, 'veces': 402, 'movilizar': 403, 'constituyen': 404, 'inteligente': 405, 'beneficios': 406, 'grandes': 407, 'consiguiente': 408, 'suficiente': 409, 'cambia': 410, 'hechos': 411, 'realmente': 412, 'atacan': 413, 'buen': 414, 'plan': 415, 'imprescindible': 416, 'ley': 417, 'pequeño': 418, 'evita': 419, 'numerosos': 420, 'firme': 421, 'sabes': 422, 'débil': 423, 'asuntos': 424, 'llevar': 425, 'perder': 426, 'métodos': 427, 'saben': 428, 'preparativos': 429, 'da': 430, 'quedan': 431, 'vulnerabilidad': 432, 'estén': 433, 'tiempos': 434, 'tierra': 435, 'movimiento': 436, 'buena': 437, 'enfrentarte': 438, 'victorias': 439, 'inteligencia': 440, 'algo': 441, 'gana': 442, 'árboles': 443, 'atraviesas': 444, 'errores': 445, 'confianza': 446, 'dan': 447, 'percepción': 448, 'señales': 449, 'banderas': 450, 'lleno': 451, 'atacarte': 452, 'estará': 453, 'sorpresa': 454, 'ordinario': 455, 'fingir': 456, 'extremadamente': 457, 'montaña': 458, 'tengan': 459, 'cansancio': 460, 'sola': 461, 'unos': 462, 'dejas': 463, 'pequeñas': 464, 'vulnerable': 465, 'dispone': 466, 'fecha': 467, 'numerosas': 468, 'averiguar': 469, 'confundir': 470, 'observar': 471, 'establecer': 472, 'esperanza': 473, 'alguna': 474, 'serán': 475, 'ignoras': 476, 'dividir': 477, 'rapidez': 478, 'actúa': 479, 'palabras': 480, 'estandartes': 481, 'grupo': 482, 'impedir': 483, 'corazón': 484, 'retirada': 485, 'enfrentarse': 486, 'esperar': 487, 'espaldas': 488, 'cuesta': 489, 'arriba': 490, 'emboscadas': 491, 'campamento': 492, 'daño': 493, 'consiste': 494, 'confiar': 495, 'contrario': 496, 'desfavorables': 497, 'detrás': 498, 'halla': 499, 'también': 500, 'accesible': 501, 'reunir': 502, 'clave': 503, 'cola': 504, 'convertirse': 505, 'agentes': 506, 'dar': 507, 'bandos': 508, 'rivales': 509, 'estrechos': 510, 'influencia': 511, 'posibilidades': 512, 'sabiduría': 513, 'benevolencia': 514, 'último': 515, 'rangos': 516, 'sabio': 517, 'instrucciones': 518, 'mi': 519, 'ese': 520, 'aparentar': 521, 'mueven': 522, 'hallan': 523, 'preparado': 524, 'muestran': 525, 'acciones': 526, 'tuyos': 527, 'final': 528, 'experto': 529, 'beneficioso': 530, 'veloz': 531, 'inmediatamente': 532, 'alcanzar': 533, 'regresar': 534, 'propias': 535, 'tomas': 536, 'población': 537, 'alto': 538, 'gastos': 539, 'base': 540, 'hombres': 541, 'ofrece': 542, 'conseguir': 543, 'luchen': 544, 'nación': 545, 'conservar': 546, 'intacto': 547, 'decía': 548, 'dirección': 549, 'mejores': 550, 'lleva': 551, 'preparar': 552, 'asedio': 553, 'cólera': 554, 'planificación': 555, 'conquista': 556, 'emplear': 557, 'bloquea': 558, 'completa': 559, 'total': 560, 'estratégico': 561, 'produce': 562, 'utilización': 563, 'guardia': 564, 'dominar': 565, 'caos': 566, 'tú': 567, 'valor': 568, 'valoración': 569, 'adecuada': 570, 'servidores': 571, 'servicio': 572, 'maneras': 573, 'retirarse': 574, 'maniobras': 575, 'vacilantes': 576, 'cuándo': 577, 'pocas': 578, 'enfrentan': 579, 'civiles': 580, 'mismos': 581, 'invencible': 582, 'vulnerables': 583, '¿cómo': 584, 'cielo': 585, 'vengan': 586, 'levantar': 587, 'vista': 588, 'medio': 589, 'eran': 590, 'bravura': 591, 'debidas': 592, 'previamente': 593, 'perdido': 594, '¿quién': 595, 'habla': 596, 'oposición': 597, 'éstos': 598, 'fueran': 599, 'símbolos': 600, 'refiere': 601, 'ortodoxo': 602, 'heterodoxo': 603, 'efecto': 604, 'piedras': 605, 'induces': 606, 'llena': 607, 'directo': 608, 'extraordinario': 609, 'variantes': 610, 'podría': 611, 'velocidad': 612, 'tal': 613, 'precisión': 614, 'rápida': 615, 'cobardía': 616, 'capacidades': 617, 'rocas': 618, 'esperan': 619, 'acudir': 620, 'rescate': 621, 'atraviesa': 622, '—': 623, 'mantener': 624, 'segura': 625, 'estrategias': 626, 'quieras': 627, 'línea': 628, 'falsa': 629, 'luchas': 630, 'unidades': 631, 'preparada': 632, 'derecha': 633, 'adoptar': 634, 'cuál': 635, 'respuesta': 636, 'encuentran': 637, 'constante': 638, 'cara': 639, 'ruta': 640, 'desfiladeros': 641, 'pantanos': 642, 'locales': 643, 'moviliza': 644, 'sentido': 645, 'posibilidad': 646, 'volver': 647, 'va': 648, 'tambores': 649, 'unificar': 650, 'ojos': 651, 'solo': 652, 'utiliza': 653, 'razón': 654, 'calma': 655, 'vienen': 656, 'toda': 657, 'elevado': 658, 'persigas': 659, 'luchará': 660, 'dispuestos': 661, 'nueve': 662, 'aislado': 663, 'ventajosa': 664, 'conozcan': 665, 'persona': 666, 'vivir': 667, 'salvo': 668, 'permanece': 669, 'morir': 670, 'sobrevivir': 671, 'ven': 672, 'río': 673, 'cuida': 674, 'lado': 675, 'accidentes': 676, 'sitúa': 677, 'pájaros': 678, 'avanza': 679, 'caballos': 680, 'lealtad': 681, 'otorgan': 682, 'ligera': 683, 'humanidad': 684, 'desfavorable': 685, 'responsabilidad': 686, 'derrotados': 687, 'calibrar': 688, 'preparación': 689, 'luchan': 690, 'utilizarse': 691, 'casa': 692, 'penetras': 693, 'ajeno': 694, 'profundidad': 695, 'cercado': 696, 'espontánea': 697, 'contacto': 698, 'diferentes': 699, 'secreto': 700, 'promesas': 701, 'contraataca': 702, 'alguien': 703, 'intenciones': 704, 'eficaz': 705, 'contratan': 706, 'dobles': 707, 'conocimiento': 708, 'sun': 709, 'tzu': 710, 'evaluación': 711, 'dominio': 712, 'supervivencia': 713, 'pérdida': 714, 'concierne': 715, 'prueba': 716, 'fundamentales': 717, 'diversas': 718, 'doctrina': 719, 'armonía': 720, 'siga': 721, 'temer': 722, 'frío': 723, 'cambio': 724, 'conocidos': 725, 'vence': 726, 'siguiente': 727, 'siete': 728, 'mayor': 729, 'cuidado': 730, 'observan': 731, 'ciertamente': 732, 'cumplimiento': 733, 'acuerdo': 734, 'basa': 735, 'engaño': 736, 'hacerle': 737, 'creer': 738, 'poner': 739, 'prepararse': 740, 'estimaciones': 741, 'cuidadosamente': 742, 'favorables': 743, 'menores': 744, 'oportunidades': 745, 'tendrá': 746, 'método': 747, 'examinar': 748, 'claramente': 749, 'espada': 750, 'instrumentos': 751, 'mala': 752, 'suerte': 753, 'hierro': 754, 'matan': 755, 'agotadas': 756, 'sabios': 757, 'cosas': 758, 'he': 759, 'oído': 760, 'hablar': 761, 'sido': 762, 'retumba': 763, 'hayas': 764, 'podido': 765, 'conscientes': 766, 'desventaja': 767, 'segunda': 768, 'movilización': 769, 'proporcionar': 770, 'distante': 771, 'precios': 772, 'elevados': 773, 'bienestar': 774, 'arruina': 775, 'largas': 776, 'agotan': 777, 'agotado': 778, 'parte': 779, 'elevan': 780, 'desproveer': 781, 'arrasa': 782, 'tratados': 783, 'futuro': 784, 'serás': 785, 'vayas': 786, 'cargo': 787, 'ánimo': 788, 'violencia': 789, 'matas': 790, 'defensas': 791, 'ganan': 792, 'emperador': 793, 'táctica': 794, 'asediar': 795, 'emplea': 796, 'coordinar': 797, 'maestro': 798, 'otras': 799, 'relaciones': 800, 'corta': 801, 'tácticas': 802, 'quede': 803, 'empleo': 804, 'inferiores': 805, 'manténte': 806, 'continuamente': 807, 'fallo': 808, 'mantenerte': 809, 'enfrentamiento': 810, 'aplica': 811, 'casos': 812, 'suyas': 813, 'retirarte': 814, 'buscar': 815, 'bando': 816, 'cae': 817, 'prisionero': 818, 'grande': 819, 'atreve': 820, 'inevitablemente': 821, 'tampoco': 822, 'ordena': 823, 'hacerlo': 824, 'ignora': 825, 'comparte': 826, 'pie': 827, 'confusos': 828, 'empiezan': 829, 'civil': 830, 'aquellos': 831, 'cuyos': 832, 'vencedor': 833, 'correrás': 834, 'medida': 835, 'invencibles': 836, 'hacerte': 837, 'aguardar': 838, 'invencibilidad': 839, 'observado': 840, 'prepárate': 841, 'esconden': 842, 'alturas': 843, 'huellas': 844, 'fantasmas': 845, 'espíritus': 846, 'vuestro': 847, 'constituye': 848, 'elogia': 849, 'darte': 850, 'oculto': 851, 'requiere': 852, 'era': 853, 'asegurar': 854, 'mérito': 855, 'entabla': 856, 'gobernar': 857, 'botín': 858, 'cortar': 859, 'pozos': 860, 'repetir': 861, 'decadente': 862, 'establecidos': 863, 'valoraciones': 864, 'kilo': 865, 'comparado': 866, 'gramo': 867, 'dirigiendo': 868, 'cañón': 869, 'profundo': 870, 'suelta': 871, 'poco': 872, 'dividirlas': 873, 'grupos': 874, 'manipular': 875, 'percepciones': 876, 'inesperadamente': 877, 'ambos': 878, 'huevos': 879, 'vacía': 880, 'rompen': 881, 'directa': 882, 'indirecto': 883, 'mover': 884, 'matar': 885, 'artificial': 886, 'inducir': 887, 'pretender': 888, 'vuelve': 889, 'astucia': 890, 'anticipar': 891, 'moverse': 892, 'perspectiva': 893, 'caigan': 894, 'emboscada': 895, 'efectividad': 896, 'dependen': 897, 'estudiar': 898, 'analizar': 899, 'permanecen': 900, 'plano': 901, 'redondas': 902, 'conduce': 903, 'agotados': 904, 'fuera': 905, 'daños': 906, 'haciendo': 907, 'campos': 908, 'vías': 909, 'esperen': 910, 'dirige': 911, 'espacio': 912, 'estricta': 913, 'ante': 914, 'infaliblemente': 915, 'atacas': 916, 'leales': 917, 'siendo': 918, 'reservado': 919, 'completamente': 920, 'encontrar': 921, 'muévete': 922, 'podrán': 923, 'atrincherado': 924, 'defensiva': 925, 'podrá': 926, 'contigo': 927, 'das': 928, 'estableces': 929, 'efectuar': 930, 'concentrado': 931, 'dividido': 932, 'vean': 933, 'concentras': 934, 'seguramente': 935, 'atacando': 936, 'concentración': 937, 'pocos': 938, 'puestos': 939, 'preparaciones': 940, 'ala': 941, 'tenga': 942, 'siquiera': 943, 'factor': 944, 'vas': 945, 'éxito': 946, 'clase': 947, 'cuáles': 948, 'informadores': 949, 'multitudes': 950, 'precisas': 951, 'adapta': 952, 'determinado': 953, 'genio': 954, 'cercanas': 955, 'llegas': 956, 'larga': 957, 'atrayéndole': 958, 'marcha': 959, 'sírvete': 960, 'unidad': 961, 'persecución': 962, 'provechosa': 963, 'peligrosa': 964, 'falta': 965, 'doble': 966, 'llegarán': 967, 'allí': 968, 'cansados': 969, 'equipado': 970, 'dinero': 971, 'bosques': 972, 'guías': 973, 'aprovecharte': 974, 'establece': 975, 'entra': 976, 've': 977, 'adaptarte': 978, 'bosque': 979, 'voraz': 980, 'inmóvil': 981, 'oscuridad': 982, 'ocupar': 983, 'divide': 984, 'tendrán': 985, 'cuanto': 986, 'invitado': 987, 'anfitrión': 988, 'desplazamiento': 989, 'ausencia': 990, 'nocturnas': 991, 'fuegos': 992, 'desmoralizar': 993, 'mente': 994, 'ardor': 995, 'retira': 996, 'entusiasta': 997, 'miran': 998, 'vírgenes': 999, 'manejar': 1000, 'acontecimientos': 1001, 'dificultades': 1002, 'hambrientos': 1003, 'adaptación': 1004, 'atacarles': 1005, 'efectúan': 1006, 'huyen': 1007, 'repente': 1008, 'detengas': 1009, 'rodeado': 1010, 'desesperado': 1011, 'luchando': 1012, 'fronteras': 1013, 'halles': 1014, 'cerrado': 1015, 'movilidad': 1016, 'gobernantes': 1017, 'conocen': 1018, 'posibles': 1019, 'armadas': 1020, 'adaptarse': 1021, 'conforme': 1022, 'actúen': 1023, 'ocupados': 1024, 'manteniéndolos': 1025, 'labor': 1026, 'norma': 1027, 'contar': 1028, 'todavía': 1029, 'rasgos': 1030, 'precipitarán': 1031, 'aferran': 1032, 'racional': 1033, 'quedar': 1034, 'cierran': 1035, 'puertas': 1036, 'colocar': 1037, 'valle': 1038, 'luz': 1039, 'combatas': 1040, 'estando': 1041, 'dentro': 1042, 'conveniente': 1043, 'barcas': 1044, 'hazlo': 1045, 'encuentras': 1046, 'toma': 1047, 'bajas': 1048, 'delante': 1049, 'altos': 1050, 'además': 1051, 'salud': 1052, 'trae': 1053, 'infranqueables': 1054, 'riesgos': 1055, 'naturales': 1056, 'yo': 1057, 'territorios': 1058, 'escondidas': 1059, 'provocar': 1060, 'avances': 1061, 'otro': 1062, 'acercando': 1063, 'obstáculos': 1064, 'tomado': 1065, 'mal': 1066, 'van': 1067, 'pronuncian': 1068, 'humildes': 1069, 'tratado': 1070, 'algún': 1071, 'entienden': 1072, 'unir': 1073, 'producen': 1074, 'miedo': 1075, 'desplaza': 1076, 'allá': 1077, 'confusas': 1078, 'carecen': 1079, 'vuelven': 1080, 'desesperados': 1081, 'murmuraciones': 1082, 'faltas': 1083, 'hablan': 1084, 'tropa': 1085, 'sentimientos': 1086, 'cumplir': 1087, 'autoridad': 1088, 'volverán': 1089, 'imposible': 1090, 'civilizado': 1091, 'unifícalos': 1092, 'aceptan': 1093, 'claras': 1094, 'algunos': 1095, 'tendrás': 1096, 'sigues': 1097, 'adelante': 1098, 'tuya': 1099, 'neutro': 1100, 'retírate': 1101, 'estrecho': 1102, 'ocuparlo': 1103, 'ocupado': 1104, 'entender': 1105, 'seis': 1106, 'principal': 1107, 'derrotadas': 1108, 'seleccionar': 1109, 'preparados': 1110, 'configuración': 1111, 'apoyo': 1112, 'dada': 1113, 'interés': 1114, 'personal': 1115, 'útiles': 1116, 'estarán': 1117, 'niños': 1118, 'inservibles': 1119, 'confiarse': 1120, 'pierden': 1121, 'paso': 1122, 'acceso': 1123, 'obtienes': 1124, 'pierdes': 1125, 'atravesar': 1126, 'aprovisionado': 1127, 'cercados': 1128, 'mortales': 1129, 'mentes': 1130, 'sobrevivirán': 1131, 'caminos': 1132, 'dudas': 1133, 'invasores': 1134, 'nativo': 1135, 'consolida': 1136, 'mantén': 1137, 'sitio': 1138, 'opción': 1139, 'lucharán': 1140, 'estimulados': 1141, 'serpiente': 1142, 'ocho': 1143, 'basta': 1144, 'ruedas': 1145, 'poniendo': 1146, 'codo': 1147, 'aguerridas': 1148, 'justo': 1149, 'metódico': 1150, 'tomarlo': 1151, 'interior': 1152, 'dispersarse': 1153, 'pautas': 1154, 'mis': 1155, 'resistir': 1156, 'rodeados': 1157, 'hables': 1158, 'verdad': 1159, 'cesará': 1160, 'apoyar': 1161, 'esclarecido': 1162, 'ira': 1163, 'obtenerse': 1164, 'nativos': 1165, 'internos': 1166, 'funcionarios': 1167, 'liquidables': 1168, 'flotantes': 1169, 'divulgado': 1170, '1': 1171, 'vital': 1172, 'importancia': 1173, 'estado': 1174, 'imperio': 1175, 'forzoso': 1176, 'manejarla': 1177, 'reflexionar': 1178, 'seriamente': 1179, 'culpable': 1180, 'indiferencia': 1181, 'respecta': 1182, 'conservación': 1183, 'nos': 1184, 'mas': 1185, 'querido': 1186, 'ocurrir': 1187, 'nosotros': 1188, 'valorarla': 1189, 'términos': 1190, 'vistas': 1191, 'segundo': 1192, 'tercero': 1193, 'cuarto': 1194, 'quinto': 1195, 'aquello': 1196, 'correr': 1197, 'ying': 1198, 'yang': 1199, 'calor': 1200, 'días': 1201, 'despejados': 1202, 'lluviosos': 1203, 'estaciones': 1204, 'implica': 1205, 'referencia': 1206, 'desplazarse': 1207, 'cualidades': 1208, 'sinceridad': 1209, 'coraje': 1210, 'comprendida': 1211, 'graduaciones': 1212, 'regulación': 1213, 'provisión': 1214, 'material': 1215, 'domina': 1216, 'sale': 1217, 'trazar': 1218, 'compararse': 1219, 'valorando': 1220, 'dirigente': 1221, 'comandante': 1222, 'posee': 1223, 'talento': 1224, 'obtiene': 1225, '¿en': 1226, 'regulaciones': 1227, 'entrenadas': 1228, 'administra': 1229, 'justa': 1230, 'estudio': 1231, 'seré': 1232, 'adivinar': 1233, 'saldrá': 1234, 'vencerá': 1235, 'mantenido': 1236, 'ignore': 1237, 'destituido': 1238, 'prestar': 1239, 'contribuya': 1240, 'quiero': 1241, 'consideración': 1242, 'incapacidad': 1243, 'inactividad': 1244, 'cebos': 1245, 'golpear': 1246, 'desordenado': 1247, 'evitarle': 1248, 'oponente': 1249, 'temperamento': 1250, 'colérico': 1251, 'irritarle': 1252, 'arrogante': 1253, 'fomentar': 1254, 'egoísmo': 1255, 'preparadas': 1256, 'reorganización': 1257, 'desordenarlas': 1258, 'unidas': 1259, 'siembra': 1260, 'disensión': 1261, 'claves': 1262, 'estratega': 1263, 'ahora': 1264, 'realizadas': 1265, 'realizados': 1266, 'cuidadosa': 1267, 'realiza': 1268, 'absoluto': 1269, 'gracias': 1270, '2': 1271, 'iniciación': 1272, 'comenzada': 1273, 'ganando': 1274, 'continuar': 1275, 'desanimará': 1276, 'embotará': 1277, 'sitiando': 1278, 'agotarás': 1279, 'mantienes': 1280, 'agotarán': 1281, 'emplearlas': 1282, 'producirá': 1283, 'calamidades': 1284, 'dicho': 1285, 'mueren': 1286, 'desanimadas': 1287, 'embotada': 1288, 'escasos': 1289, 'aprovecharán': 1290, 'sublevarse': 1291, 'tengas': 1292, 'consejeros': 1293, 'salgan': 1294, 'torpes': 1295, 'repentinas': 1296, 'visto': 1297, 'mantuviese': 1298, 'prolongue': 1299, 'comúnmente': 1300, 'taparte': 1301, 'relumbra': 1302, 'pestañear': 1303, 'utilizarlas': 1304, 'activan': 1305, 'proporcionan': 1306, 'ocasiones': 1307, 'quitan': 1308, 'quitas': 1309, 'abastecido': 1310, 'armamento': 1311, 'empobrece': 1312, 'transporte': 1313, 'transportas': 1314, 'empobrecerá': 1315, 'habitan': 1316, 'vender': 1317, 'cosechas': 1318, 'acaba': 1319, 'mayoría': 1320, 'transportan': 1321, 'costo': 1322, 'mercados': 1323, 'cercanos': 1324, 'mercancías': 1325, 'aumentan': 1326, 'campañas': 1327, 'lacra': 1328, 'impuestos': 1329, 'recaudan': 1330, 'presión': 1331, 'priva': 1332, 'presupuesto': 1333, 'armamentos': 1334, 'felicidad': 1335, 'respetar': 1336, 'sobrio': 1337, 'austero': 1338, 'públicos': 1339, 'porción': 1340, 'tomados': 1341, 'equivale': 1342, 'veinte': 1343, 'suministras': 1344, 'imprudencia': 1345, 'motivación': 1346, 'asumir': 1347, 'recompenses': 1348, 'ostentaban': 1349, 'harás': 1350, 'iniciativa': 1351, 'tenía': 1352, 'valientes': 1353, 'tome': 1354, 'habrá': 1355, 'soldado': 1356, 'animar': 1357, 'colores': 1358, 'utilízalos': 1359, 'mezclados': 1360, 'préstales': 1361, 'incrementar': 1362, 'añadidura': 1363, 'utilizas': 1364, 'derrotar': 1365, 'poderoso': 1366, 'importante': 1367, 'persistencia': 1368, 'última': 1369, 'beneficiosa': 1370, 'apagas': 1371, 'consumirá': 1372, 'sabemos': 1373, '3': 1374, 'proposiciones': 1375, 'destruirlo': 1376, 'capturar': 1377, 'conquistarlos': 1378, 'dominas': 1379, 'practica': 1380, 'calcula': 1381, 'pierdan': 1382, 'inservible': 1383, 'destruyes': 1384, 'asaltas': 1385, 'disparando': 1386, 'reúnes': 1387, 'muchedumbre': 1388, 'usurpas': 1389, 'profesionales': 1390, 'consiguen': 1391, 'rindan': 1392, 'impotentes': 1393, 'ajenos': 1394, 'maestros': 1395, 'proyectando': 1396, 'luego': 1397, 'deshacen': 1398, 'espadas': 1399, 'desnudas': 1400, 'peor': 1401, 'acorralar': 1402, 'recurso': 1403, 'meses': 1404, 'artefactos': 1405, 'prisas': 1406, 'aconsejable': 1407, 'tomarse': 1408, 'coordinación': 1409, 'verdadero': 1410, 'asediarlas': 1411, 'destruye': 1412, 'deshace': 1413, 'estropea': 1414, 'venciendo': 1415, 'facciones': 1416, 'acuartelado': 1417, 'asediada': 1418, 'destrucción': 1419, 'prolonga': 1420, 'vencido': 1421, 'rodéalo': 1422, 'atácalo': 1423, 'divídelo': 1424, 'iguales': 1425, 'acarrearía': 1426, 'peores': 1427, 'consecuencias': 1428, 'abrigo': 1429, 'prudencia': 1430, 'cansar': 1431, 'equivalentes': 1432, 'inmersas': 1433, 'desmoralizados': 1434, 'obstinado': 1435, 'enemistarse': 1436, 'potencia': 1437, 'convertirá': 1438, 'conquistado': 1439, 'completo': 1440, 'defectuoso': 1441, 'desastre': 1442, 'ignorando': 1443, 'inmovilizar': 1444, 'igualdad': 1445, 'acaban': 1446, 'igual': 1447, 'procedentes': 1448, 'trastornar': 1449, 'aspecto': 1450, 'intentas': 1451, 'confusa': 1452, 'triunfan': 1453, 'discernir': 1454, 'desprevenidos': 1455, 'competentes': 1456, 'limitados': 1457, 'gobiernos': 1458, 'solicitarle': 1459, 'permiso': 1460, 'apagar': 1461, 'autorizado': 1462, 'cenizas': 1463, 'cien': 1464, 'perderás': 1465, 'ganarás': 1466, '4': 1467, 'disposición': 1468, 'antiguamente': 1469, 'hacían': 1470, 'aguardaban': 1471, 'conocerte': 1472, 'informarse': 1473, 'negligencias': 1474, 'fallos': 1475, 'vencerlos': 1476, 'pertrechados': 1477, 'percibida': 1478, 'fabricada': 1479, 'vulnerabilidades': 1480, 'oculta': 1481, 'finalidad': 1482, 'preservarte': 1483, 'atacarlos': 1484, 'escasez': 1485, 'abundancia': 1486, 'profundidades': 1487, 'elevadas': 1488, 'protegerse': 1489, 'acalláis': 1490, 'voces': 1491, 'borráis': 1492, 'escondidos': 1493, 'invisibles': 1494, 'grito': 1495, 'fulgurante': 1496, 'prever': 1497, 'cualquiera': 1498, 'verdadera': 1499, 'destreza': 1500, 'ganada': 1501, 'verdaderamente': 1502, 'deseable': 1503, 'mucha': 1504, 'cabello': 1505, 'aguda': 1506, 'sol': 1507, 'luna': 1508, 'necesita': 1509, 'escuchar': 1510, 'retumbar': 1511, 'antigüedad': 1512, 'vencían': 1513, 'conflicto': 1514, 'armado': 1515, 'dura': 1516, 'irrumpiendo': 1517, 'destacan': 1518, 'casualidades': 1519, 'haberse': 1520, 'situado': 1521, 'imponiéndose': 1522, 'antemano': 1523, 'obvio': 1524, 'anuncia': 1525, 'resuelven': 1526, 'surjan': 1527, 'toman': 1528, 'pasan': 1529, 'proclive': 1530, 'diferencia': 1531, 'premeditados': 1532, 'cultivan': 1533, 'prevaleciendo': 1534, 'corruptos': 1535, 'desvanecer': 1536, 'inocente': 1537, 'pasa': 1538, 'contaminar': 1539, 'limpiar': 1540, 'purificar': 1541, 'templos': 1542, 'civilización': 1543, 'estrictamente': 1544, 'disciplinado': 1545, 'morirían': 1546, 'desobedecer': 1547, 'merecen': 1548, 'corrupto': 1549, 'reglas': 1550, 'medición': 1551, 'cálculo': 1552, 'comparación': 1553, 'mediciones': 1554, 'dimensiones': 1555, 'consigue': 1556, 'vaya': 1557, 'estuviera': 1558, 'acumula': 1559, 'medir': 1560, 'cantidad': 1561, 'nuestra': 1562, 'muestra': 1563, 'precipita': 1564, 'torrente': 1565, 'irresistible': 1566, 'nuestro': 1567, '5': 1568, 'acumulada': 1569, 'percibe': 1570, 'cambiante': 1571, 'creando': 1572, 'ejercer': 1573, 'sectores': 1574, 'batallar': 1575, 'demostrar': 1576, 'utilizadas': 1577, 'desplegar': 1578, 'ortodoxos': 1579, 'heterodoxos': 1580, 'ortodoxia': 1581, 'heterodoxia': 1582, 'fijo': 1583, 'ciclo': 1584, 'fue': 1585, 'famoso': 1586, 'guerrero': 1587, 'administrador': 1588, 'hablaba': 1589, 'combinando': 1590, 'convertirlo': 1591, 'volviéndose': 1592, 'indefinible': 1593, 'arrojadas': 1594, 'compitas': 1595, 'arrojar': 1596, 'innumerables': 1597, 'originan': 1598, 'recíprocamente': 1599, 'círculo': 1600, 'comienzo': 1601, 'fin': 1602, 'agotarlos': 1603, 'fluye': 1604, 'alcanza': 1605, 'maniobrabilidad': 1606, 'halcón': 1607, 'ocurre': 1608, 'certera': 1609, 'disparar': 1610, 'catapulta': 1611, 'previsto': 1612, 'causar': 1613, 'esperado': 1614, 'surge': 1615, 'brota': 1616, 'convencer': 1617, 'distraerlos': 1618, 'organizar': 1619, 'arrogancia': 1620, 'valentía': 1621, 'pierde': 1622, 'convierte': 1623, 'fijado': 1624, 'desarrollan': 1625, 'convenzan': 1626, 'proceder': 1627, 'ayuda': 1628, 'caminar': 1629, 'traza': 1630, 'triunfo': 1631, 'buscan': 1632, 'partir': 1633, 'escoger': 1634, 'desplegarlos': 1635, 'adecuadamente': 1636, 'logre': 1637, 'objetivos': 1638, 'entusiasmo': 1639, 'convicción': 1640, 'compromiso': 1641, 'valeroso': 1642, 'asignar': 1643, 'habilidades': 1644, 'encomendarle': 1645, 'deberes': 1646, 'responsabilidades': 1647, 'adecuadas': 1648, 'cuidadoso': 1649, 'centinela': 1650, 'comunicar': 1651, 'útil': 1652, 'permitiendo': 1653, 'haga': 1654, 'trabajo': 1655, 'rodar': 1656, 'inmóviles': 1657, 'ruedan': 1658, 'inclinado': 1659, 'fijas': 1660, 'cuadradas': 1661, 'giran': 1662, 'impulso': 1663, 'precipitan': 1664, '6': 1665, 'anticipan': 1666, 'preparan': 1667, 'descansada': 1668, 'últimos': 1669, 'improvisan': 1670, 'entablan': 1671, 'dejan': 1672, 'fortaleza': 1673, 'sales': 1674, 'vaciar': 1675, 'llenarte': 1676, 'impulsa': 1677, 'venir': 1678, 'decisión': 1679, 'desanima': 1680, 'probabilidad': 1681, 'sufrir': 1682, 'cansarlos': 1683, 'alimentados': 1684, 'descansando': 1685, 'pongan': 1686, 'agoten': 1687, 'corriendo': 1688, 'interrumpe': 1689, 'aprovisionamiento': 1690, 'críticos': 1691, 'desplazarte': 1692, 'cientos': 1693, 'tierras': 1694, 'despobladas': 1695, 'guardado': 1696, 'desperdigarán': 1697, 'estuvieras': 1698, 'atravesando': 1699, 'despoblado': 1700, 'defiende': 1701, 'cumplen': 1702, 'sinceramente': 1703, 'comprometidas': 1704, 'implantados': 1705, 'revelan': 1706, 'sienten': 1707, 'inseguros': 1708, 'sirve': 1709, 'discreto': 1710, 'misterioso': 1711, 'confidencial': 1712, 'silencioso': 1713, 'destino': 1714, 'resistencia': 1715, 'arremete': 1716, 'esquiva': 1717, 'basan': 1718, 'vencerte': 1719, 'irremediablemente': 1720, 'trazas': 1721, 'pista': 1722, 'confundirlos': 1723, 'llenarlos': 1724, 'incertidumbre': 1725, 'permaneces': 1726, 'dividirá': 1727, 'formando': 1728, 'superan': 1729, 'diezmarás': 1730, 'fuertemente': 1731, 'buenas': 1732, 'barricadas': 1733, 'filtrar': 1734, 'sal': 1735, 'afuera': 1736, 'precisa': 1737, 'incontenible': 1738, 'piensas': 1739, 'librar': 1740, 'destaca': 1741, 'vigilancia': 1742, 'establecen': 1743, 'defectuosa': 1744, 'presenta': 1745, 'significarán': 1746, 'carencia': 1747, 'izquierda': 1748, 'significará': 1749, 'forzosamente': 1750, 'desperdigadas': 1751, 'defenderse': 1752, 'cuantas': 1753, 'debilitado': 1754, 'quedará': 1755, 'mil': 1756, 'flanco': 1757, 'izquierdo': 1758, 'derecho': 1759, 'unas': 1760, 'docenas': 1761, 'ayudarte': 1762, 'creada': 1763, 'sepan': 1764, 'hacerse': 1765, 'entren': 1766, 'incítalos': 1767, 'esquema': 1768, 'descansa': 1769, 'puedas': 1770, 'hábitos': 1771, 'comportamiento': 1772, 'indúcelos': 1773, 'específicas': 1774, 'flacos': 1775, 'perturbar': 1776, 'formas': 1777, 'haberlas': 1778, 'actúas': 1779, 'pruébalos': 1780, 'perceptible': 1781, 'seguidas': 1782, 'grieta': 1783, 'mirar': 1784, 'realizable': 1785, 'desconocida': 1786, 'resultó': 1787, 'aseguró': 1788, 'repetitiva': 1789, 'apropiados': 1790, 'previas': 1791, 'lograrla': 1792, 'puedo': 1793, 'adaptarme': 1794, 'flujo': 1795, 'viene': 1796, 'determinada': 1797, 'capacidad': 1798, 'cambiando': 1799, 'adaptándose': 1800, '7': 1801, 'autoridades': 1802, 'reúne': 1803, 'concentra': 1804, 'acuartelándolas': 1805, 'juntas': 1806, 'arduo': 1807, 'dificultad': 1808, 'convertir': 1809, 'apariencia': 1810, 'empiezas': 1811, 'emprendes': 1812, 'especial': 1813, 'engañar': 1814, 'haciéndole': 1815, 'grueso': 1816, 'lanzas': 1817, 'emprendió': 1818, 'inexperto': 1819, 'aras': 1820, 'tomaría': 1821, 'incompleto': 1822, 'tendría': 1823, 'movilizas': 1824, 'parar': 1825, 'recorriendo': 1826, 'habitual': 1827, 'miles': 1828, 'conseguirá': 1829, 'cansan': 1830, 'gastado': 1831, 'frescos': 1832, 'atacadas': 1833, 'cincuenta': 1834, 'frustrará': 1835, 'harán': 1836, 'treinta': 1837, 'recorrerán': 1838, 'perece': 1839, 'necesarias': 1840, 'facilita': 1841, 'conozcas': 1842, 'pasos': 1843, 'utilices': 1844, 'detalle': 1845, 'guerrear': 1846, 'usa': 1847, 'prevista': 1848, 'división': 1849, 'combinación': 1850, 'distraes': 1851, 'real': 1852, 'imponer': 1853, 'supremacía': 1854, 'combinaciones': 1855, 'reacciona': 1856, 'mueve': 1857, 'lentamente': 1858, 'avisar': 1859, 'desaparece': 1860, 'devasta': 1861, 'planicie': 1862, 'brizna': 1863, 'hierba': 1864, 'acuartela': 1865, 'expandir': 1866, 'embargo': 1867, 'localidades': 1868, 'pequeños': 1869, 'necesitan': 1870, 'repartirlo': 1871, 'guardar': 1872, 'ganado': 1873, 'dejando': 1874, 'recupere': 1875, 'estimación': 1876, 'hambre': 1877, 'surgen': 1878, 'antiguo': 1879, 'libro': 1880, 'escuchadas': 1881, 'visibilidad': 1882, 'concentrar': 1883, 'unificados': 1884, 'miren': 1885, 'escuchen': 1886, 'unísono': 1887, 'indicar': 1888, 'direcciones': 1889, 'individuos': 1890, 'vayan': 1891, 'antoje': 1892, 'diurnas': 1893, 'temible': 1894, 'desaparecer': 1895, 'desmoralizas': 1896, 'tradición': 1897, 'afirma': 1898, 'tenían': 1899, 'antigua': 1900, 'conducían': 1901, 'original': 1902, 'fresca': 1903, 'victoriosa': 1904, 'mañana': 1905, 'mediodía': 1906, 'decae': 1907, 'manejo': 1908, 'prefieren': 1909, 'bate': 1910, 'dominan': 1911, 'minuto': 1912, 'siente': 1913, 'animado': 1914, 'poseído': 1915, 'desvanece': 1916, 'detendrá': 1917, 'asustado': 1918, 'arrepentirá': 1919, 'comenzado': 1920, 'encima': 1921, 'hombro': 1922, 'doncellas': 1923, 'aprovechando': 1924, 'agresividad': 1925, 'estimulada': 1926, 'agitan': 1927, 'responder': 1928, 'límites': 1929, 'infalible': 1930, 'graves': 1931, 'inesperadas': 1932, 'turbarte': 1933, 'cosa': 1934, 'comodidad': 1935, 'fatigado': 1936, 'estómago': 1937, 'saciado': 1938, 'evitas': 1939, 'inducido': 1940, 'confrontación': 1941, 'ordenadas': 1942, 'batallones': 1943, 'oponerse': 1944, 'carga': 1945, 'hacerles': 1946, 'finjan': 1947, 'expertas': 1948, 'agotar': 1949, 'esperándote': 1950, 'retener': 1951, 'lancen': 1952, 'consumas': 1953, 'comida': 1954, 'abandona': 1955, 'probadas': 1956, 'comidas': 1957, 'envenenadas': 1958, 'dejarle': 1959, 'muéstrales': 1960, 'presiones': 1961, 'animal': 1962, 'seguirá': 1963, '8': 1964, 'deja': 1965, 'establezcan': 1966, 'diplomáticas': 1967, 'permanezcas': 1968, 'árido': 1969, 'prepara': 1970, 'escarpados': 1971, 'rodean': 1972, 'irse': 1973, 'libertad': 1974, 'estudiada': 1975, 'usar': 1976, 'atacados': 1977, 'rodeadas': 1978, 'obedecidas': 1979, 'variables': 1980, 'sabe': 1981, 'adaptabilidad': 1982, 'ajustar': 1983, 'cambiar': 1984, 'únicos': 1985, 'perjudicados': 1986, 'estructura': 1987, 'permanente': 1988, 'comprender': 1989, 'consideraciones': 1990, 'incluyen': 1991, 'objetivamente': 1992, 'expande': 1993, 'resolverse': 1994, 'interdependientes': 1995, 'retiene': 1996, 'mantiene': 1997, 'motiva': 1998, 'cansa': 1999, 'dejándoles': 2000, 'respirar': 2001, 'lograrlo': 2002, 'realizar': 2003, 'desarrollar': 2004, 'próspero': 2005, 'sociedad': 2006, 'armoniosa': 2007, 'ordenada': 2008, 'acuda': 2009, 'poseer': 2010, 'atacado': 2011, 'recordar': 2012, 'atento': 2013, 'evítalos': 2014, 'presenten': 2015, 'peligrosos': 2016, 'quieren': 2017, 'preservar': 2018, 'dados': 2019, 'apasionamientos': 2020, 'irracionales': 2021, 'ridiculizados': 2022, 'puritanos': 2023, 'deshonrados': 2024, 'compasivos': 2025, 'turbados': 2026, 'presentas': 2027, 'defender': 2028, 'compasivas': 2029, 'apresurarán': 2030, 'invariablemente': 2031, 'rescatar': 2032, 'causándose': 2033, 'defectos': 2034, 'desastrosos': 2035, 'comprometen': 2036, 'actúan': 2037, 'realista': 2038, 'dejarse': 2039, 'emociones': 2040, 'sujetos': 2041, 'confundidos': 2042, 'oportunidad': 2043, 'tigres': 2044, 'cuestiones': 2045, 'complacidos': 2046, 'enfadados': 2047, '9': 2048, 'distribución': 2049, 'determinan': 2050, 'vigílalos': 2051, 'elevada': 2052, 'revés': 2053, 'divida': 2054, 'aléjate': 2055, 'enfrentes': 2056, 'pasen': 2057, 'atacarlas': 2058, 'sitúes': 2059, 'camines': 2060, 'acampas': 2061, 'ribera': 2062, 'sorprendidos': 2063, 'empujados': 2064, 'ahogarse': 2065, 'veneno': 2066, 'amarradas': 2067, 'aproveche': 2068, 'lanzando': 2069, 'media': 2070, 'pantano': 2071, 'plantas': 2072, 'acuáticas': 2073, 'respaldado': 2074, 'llanura': 2075, 'posiciones': 2076, 'manteniendo': 2077, 'elevaciones': 2078, 'generalmente': 2079, 'prefiere': 2080, 'aprecia': 2081, 'detesta': 2082, 'estimulantes': 2083, 'gusto': 2084, 'convenientes': 2085, 'adquirir': 2086, 'bajos': 2087, 'húmedos': 2088, 'provoca': 2089, 'enfermedades': 2090, 'dificulta': 2091, 'física': 2092, 'disponibles': 2093, 'enfermedad': 2094, 'montículos': 2095, 'terraplenes': 2096, 'sitúate': 2097, 'soleado': 2098, 'colocarse': 2099, 'beneficiosos': 2100, 'llueve': 2101, 'consigo': 2102, 'espuma': 2103, 'cruzarlo': 2104, 'escampe': 2105, 'presente': 2106, 'barrancos': 2107, 'cerrados': 2108, 'trampas': 2109, 'grietas': 2110, 'prisiones': 2111, 'abandonarlo': 2112, 'acercarte': 2113, 'mí': 2114, 'me': 2115, 'mantengo': 2116, 'alejado': 2117, 'doy': 2118, 'queden': 2119, 'desplazando': 2120, 'montañosos': 2121, 'corrientes': 2122, 'cubiertos': 2123, 'juncos': 2124, 'llenos': 2125, 'vegetación': 2126, 'escudriñarlos': 2127, 'ayudan': 2128, 'bajar': 2129, 'caballo': 2130, 'escudriñar': 2131, 'tenderte': 2132, 'hubiera': 2133, 'acecho': 2134, 'observándote': 2135, 'escuchando': 2136, 'hostilidades': 2137, 'conserva': 2138, 'obrar': 2139, 'matorrales': 2140, 'idea': 2141, 'maleza': 2142, 'pensar': 2143, 'alzan': 2144, 'vuelo': 2145, 'animales': 2146, 'asustados': 2147, 'atacantes': 2148, 'columnas': 2149, 'polvo': 2150, 'altas': 2151, 'espesas': 2152, 'anchas': 2153, 'acercan': 2154, 'humaredas': 2155, 'esparcidas': 2156, 'cortando': 2157, 'leña': 2158, 'polvaredas': 2159, 'incrementa': 2160, 'altisonantes': 2161, 'ostentosamente': 2162, 'señal': 2163, 'retirar': 2164, 'envía': 2165, 'comprobarás': 2166, 'aumentando': 2167, 'ligeros': 2168, 'sitúan': 2169, 'flancos': 2170, 'estableciendo': 2171, 'pidiendo': 2172, 'paz': 2173, 'firmar': 2174, 'tramando': 2175, 'complot': 2176, 'esperando': 2177, 'refuerzos': 2178, 'encuentro': 2179, 'ayudará': 2180, 'esperada': 2181, 'conviene': 2182, 'eventualidad': 2183, 'retrocede': 2184, 'piensa': 2185, 'atraerte': 2186, 'trampa': 2187, 'fingiendo': 2188, 'incitarte': 2189, 'apoyan': 2190, 'aguadores': 2191, 'beben': 2192, 'sedientas': 2193, 'aprovecha': 2194, 'cansado': 2195, 'reúnen': 2196, 'sobrevolando': 2197, 'huido': 2198, 'llamadas': 2199, 'atemorizados': 2200, 'inquietos': 2201, 'llaman': 2202, 'serio': 2203, 'sumido': 2204, 'acá': 2205, 'concierto': 2206, 'irritación': 2207, 'carne': 2208, 'marmitas': 2209, 'describen': 2210, 'expresión': 2211, 'verdaderos': 2212, 'franqueza': 2213, 'callejón': 2214, 'ordenan': 2215, 'demasiados': 2216, 'agotada': 2217, 'constantes': 2218, 'contentos': 2219, 'rebelen': 2220, 'masa': 2221, 'castigados': 2222, 'restablecer': 2223, 'violento': 2224, 'terminar': 2225, 'temiendo': 2226, 'propios': 2227, 'colmo': 2228, 'ineptitud': 2229, 'acuden': 2230, 'actitud': 2231, 'conciliatoria': 2232, 'tregua': 2233, 'demoran': 2234, 'abandonar': 2235, 'obstante': 2236, 'observarlos': 2237, 'preparando': 2238, 'necesariamente': 2239, 'superior': 2240, 'innecesaria': 2241, 'consolidar': 2242, 'aisladamente': 2243, 'carece': 2244, 'acabará': 2245, 'contiene': 2246, 'posterior': 2247, 'confías': 2248, 'exclusivamente': 2249, 'valorar': 2250, 'caerás': 2251, 'castiga': 2252, 'conseguido': 2253, 'obedecerán': 2254, 'obedecen': 2255, 'empleados': 2256, 'castigo': 2257, 'obtenido': 2258, 'sentimiento': 2259, 'subterráneo': 2260, 'aprecio': 2261, 'corazones': 2262, 'vinculados': 2263, 'relaja': 2264, 'arrogantes': 2265, 'emplearlos': 2266, 'dirígelos': 2267, 'continua': 2268, 'reglamentos': 2269, 'mándalos': 2270, 'evidentes': 2271, 'clara': 2272, 'sencilla': 2273, 'consecuente': 2274, 'contradictorias': 2275, 'cambiantes': 2276, 'razonables': 2277, 'justas': 2278, 'sencillas': 2279, 'consecuentes': 2280, 'satisfacción': 2281, 'recíproca': 2282, 'líder': 2283, '10': 2284, 'topología': 2285, 'fáciles': 2286, 'neutros': 2287, 'accidentados': 2288, 'abiertos': 2289, 'eligiendo': 2290, 'soleadas': 2291, 'transportar': 2292, 'libres': 2293, 'limitado': 2294, 'nuevo': 2295, 'jugará': 2296, 'aproveches': 2297, 'induciendo': 2298, 'aprovechándote': 2299, 'persíguelo': 2300, 'accidentado': 2301, 'soleados': 2302, 'encuentra': 2303, 'igualada': 2304, 'provocarle': 2305, 'desventajosa': 2306, 'considerarlos': 2307, 'configuraciones': 2308, 'retraen': 2309, 'derrumban': 2310, 'rebelan': 2311, 'desastres': 2312, 'proporción': 2313, 'retraídos': 2314, 'verán': 2315, 'apuros': 2316, 'encolerizados': 2317, 'violentos': 2318, 'despecho': 2319, 'desmoronará': 2320, 'intención': 2321, 'cooperar': 2322, 'solidez': 2323, 'anárquicas': 2324, 'revuelta': 2325, 'incapaces': 2326, 'entran': 2327, 'equipadas': 2328, 'seleccionan': 2329, 'niveles': 2330, 'mismas': 2331, 'empleas': 2332, 'arrojados': 2333, 'timoratos': 2334, 'buscando': 2335, 'comprensión': 2336, 'suprema': 2337, 'consideradas': 2338, 'primera': 2339, 'sistema': 2340, 'claro': 2341, 'tercera': 2342, 'insuficiencia': 2343, 'entrenamiento': 2344, 'cuarta': 2345, 'pasión': 2346, 'irracional': 2347, 'quinta': 2348, 'ineficacia': 2349, 'sexta': 2350, 'resueltos': 2351, 'curso': 2352, 'calcular': 2353, 'vencedores': 2354, 'libran': 2355, 'conociendo': 2356, 'elementos': 2357, 'ignorándolos': 2358, 'señalan': 2359, 'apropiado': 2360, 'entablar': 2361, 'adecuado': 2362, 'gloria': 2363, 'único': 2364, 'propósito': 2365, 'proteger': 2366, 'rinde': 2367, 'valioso': 2368, 'salvaguardar': 2369, 'auténtico': 2370, 'talla': 2371, 'mira': 2372, 'miras': 2373, 'recién': 2374, 'nacido': 2375, 'seguirte': 2376, 'valles': 2377, 'profundos': 2378, 'cuidas': 2379, 'queridos': 2380, 'hijos': 2381, 'morirán': 2382, 'gustosamente': 2383, 'amable': 2384, 'indulgente': 2385, 'informal': 2386, 'disciplinarlos': 2387, 'mimados': 2388, 'solas': 2389, 'solamente': 2390, 'mimosos': 2391, 'acostumbran': 2392, 'disfrutar': 2393, 'resentidas': 2394, 'dañino': 2395, 'invulnerable': 2396, 'llevarlo': 2397, 'probabilidades': 2398, 'debido': 2399, 'inagotable': 2400, '11': 2401, 'intereses': 2402, 'apegados': 2403, 'combaten': 2404, 'hogar': 2405, 'dispersados': 2406, 'facilidad': 2407, 'fácilmente': 2408, 'resultarte': 2409, 'quien': 2410, 'inevitable': 2411, 'enclave': 2412, 'defensivo': 2413, 'igualmente': 2414, 'libre': 2415, 'convergen': 2416, 'principales': 2417, 'uniéndolas': 2418, 'ponerse': 2419, 'corres': 2420, 'pueblos': 2421, 'boscosas': 2422, 'abruptos': 2423, 'u': 2424, 'tortuosa': 2425, 'pequeña': 2426, 'enemiga': 2427, 'misma': 2428, 'encontraran': 2429, 'barca': 2430, 'hunde': 2431, 'ardiendo': 2432, 'dejes': 2433, 'divididas': 2434, 'comunicaciones': 2435, 'continúa': 2436, 'marchando': 2437, 'huir': 2438, 'penetrado': 2439, 'cubiertas': 2440, 'concentradas': 2441, 'listos': 2442, 'permitirse': 2443, 'estarás': 2444, 'encontrarás': 2445, 'atrincherarte': 2446, 'apresurarte': 2447, 'introduce': 2448, 'sorpresivas': 2449, 'caen': 2450, 'considerados': 2451, 'perdiera': 2452, 'recíproco': 2453, 'mutuo': 2454, 'gobernados': 2455, 'alistamiento': 2456, 'coherencia': 2457, 'entraban': 2458, 'retenían': 2459, 'introducían': 2460, 'atacándolos': 2461, 'aquí': 2462, 'aterrorizándolos': 2463, 'sembrando': 2464, 'daban': 2465, 'preguntar': 2466, 'organizadas': 2467, 'dirigen': 2468, 'quitarles': 2469, 'aprecien': 2470, 'escucharán': 2471, 'aprovechándose': 2472, 'desplazándose': 2473, 'visión': 2474, 'cautela': 2475, 'esos': 2476, 'servirán': 2477, 'invasión': 2478, 'adentran': 2479, 'expulsarlos': 2480, 'escoge': 2481, 'fértiles': 2482, 'comer': 2483, 'aumenta': 2484, 'insondables': 2485, 'ahorra': 2486, 'sobrantes': 2487, 'permaneciendo': 2488, 'insondable': 2489, 'produzca': 2490, 'escapar': 2491, '¿ante': 2492, 'dispuestas': 2493, 'grave': 2494, 'firmes': 2495, 'implicados': 2496, 'vigilantes': 2497, 'alistan': 2498, 'llamados': 2499, 'amistosos': 2500, 'combatientes': 2501, 'rango': 2502, 'alerta': 2503, 'voluntad': 2504, 'recibir': 2505, 'natural': 2506, 'jerarquía': 2507, 'prohibe': 2508, 'augurios': 2509, 'abandonarán': 2510, 'riquezas': 2511, 'desdeñen': 2512, 'longevidad': 2513, 'quieran': 2514, 'lloran': 2515, 'imagen': 2516, 'representa': 2517, 'responde': 2518, 'velozmente': 2519, 'atacada': 2520, 'manual': 2521, 'clásicas': 2522, 'cuatro': 2523, 'cabezas': 2524, 'colas': 2525, 'arremeta': 2526, 'centro': 2527, 'acudirán': 2528, 'preguntarse': 2529, 'afirmativa': 2530, 'antipatía': 2531, 'encontrándose': 2532, 'barco': 2533, 'ayudarán': 2534, 'zozobrar': 2535, 'suceda': 2536, 'depositar': 2537, 'atados': 2538, 'fijadas': 2539, 'atan': 2540, 'formar': 2541, 'estable': 2542, 'fijan': 2543, 'aun': 2544, 'suficientemente': 2545, 'permitir': 2546, 'combatan': 2547, 'ayuden': 2548, 'obtención': 2549, 'cierta': 2550, 'exprese': 2551, 'mantenerlo': 2552, 'ligeras': 2553, '¿cuánto': 2554, 'sería': 2555, 'poderosas': 2556, 'ambas': 2557, 'logran': 2558, 'cooperación': 2559, 'individuo': 2560, 'corresponde': 2561, 'tranquilo': 2562, 'tranquilos': 2563, 'absolutamente': 2564, 'secretos': 2565, 'descubrirlos': 2566, 'ignorancia': 2567, 'revisa': 2568, 'reconocerlos': 2569, 'emplazamiento': 2570, 'sinuosos': 2571, 'anticiparse': 2572, 'hombre': 2573, 'valora': 2574, 'empieza': 2575, 'sigan': 2576, 'adónde': 2577, 'fija': 2578, 'meta': 2579, 'sube': 2580, 'escalera': 2581, 'adentra': 2582, 'potencial': 2583, 'naves': 2584, 'destruir': 2585, 'casas': 2586, 'rebaño': 2587, 'encaminan': 2588, 'incumbe': 2589, 'ponerlos': 2590, 'peligrosas': 2591, 'adaptaciones': 2592, 'concentrarse': 2593, 'humanas': 2594, 'desventajas': 2595, 'comportamientos': 2596, 'humanos': 2597, 'cambian': 2598, 'tipos': 2599, 'pauta': 2600, 'unirse': 2601, 'tienden': 2602, 'franjas': 2603, 'fronterizas': 2604, 'frontera': 2605, 'hallas': 2606, 'adentras': 2607, 'hallen': 2608, 'espesuras': 2609, 'pasajes': 2610, 'unificaría': 2611, 'mantendría': 2612, 'haría': 2613, 'apresurarse': 2614, 'prestaría': 2615, 'establecería': 2616, 'sólidas': 2617, 'aseguraría': 2618, 'continuados': 2619, 'urgiría': 2620, 'cerraría': 2621, 'entradas': 2622, 'indicaría': 2623, 'psicología': 2624, 'obedecer': 2625, 'extremos': 2626, 'determinación': 2627, 'presentan': 2628, 'unificada': 2629, 'sobrepasa': 2630, 'aprovéchate': 2631, 'encuentre': 2632, 'indefenso': 2633, 'suficientes': 2634, 'detenerte': 2635, 'aumentas': 2636, 'extiendes': 2637, 'amenazando': 2638, 'otorga': 2639, 'reguladas': 2640, 'desacostumbradas': 2641, 'otorgar': 2642, 'precedentes': 2643, 'observa': 2644, 'códigos': 2645, 'maneja': 2646, 'empléalas': 2647, 'tareas': 2648, 'reales': 2649, 'motívalas': 2650, 'comentes': 2651, 'perjuicios': 2652, 'comunicarles': 2653, 'déjales': 2654, 'potenciales': 2655, 'filtra': 2656, 'hundirse': 2657, 'preocuparse': 2658, 'temerosos': 2659, 'colócalos': 2660, 'exterminio': 2661, 'ponles': 2662, 'afrontan': 2663, 'peligros': 2664, 'tarea': 2665, 'acomodarse': 2666, 'acomodas': 2667, 'declara': 2668, 'salvoconductos': 2669, 'impide': 2670, 'deciden': 2671, 'rigurosamente': 2672, 'comienza': 2673, 'planificar': 2674, 'cuartel': 2675, 'rigor': 2676, 'cuarteles': 2677, 'fase': 2678, 'mantenimiento': 2679, 'aprovéchalas': 2680, 'entérate': 2681, 'pretende': 2682, 'anticípate': 2683, 'adáptate': 2684, 'doncella': 2685, 'abre': 2686, 'liebre': 2687, 'expulsarte': 2688, '12': 2689, 'equipo': 2690, 'almacenes': 2691, 'uso': 2692, 'exige': 2693, 'ciertos': 2694, 'momentos': 2695, 'adecuados': 2696, 'encender': 2697, 'concretamente': 2698, 'seco': 2699, 'ventoso': 2700, 'normalmente': 2701, 'seguir': 2702, 'producidos': 2703, 'mantienen': 2704, 'declarado': 2705, 'alcance': 2706, 'álgido': 2707, 'síguelo': 2708, 'sembrar': 2709, 'atacarle': 2710, 'prendido': 2711, 'esperes': 2712, 'oportuno': 2713, 'atizado': 2714, 'contraria': 2715, 'soplado': 2716, 'amainará': 2717, 'diurno': 2718, 'anochecer': 2719, 'nocturno': 2720, 'amanecer': 2721, 'ataquen': 2722, 'claridad': 2723, 'incomunicar': 2724, 'arrasar': 2725, 'desuna': 2726, 'fortalezca': 2727, 'combatiendo': 2728, 'recompensar': 2729, 'méritos': 2730, 'fortuna': 2731, 'merecedor': 2732, 'llamado': 2733, 'avaro': 2734, 'augurio': 2735, 'peligroso': 2736, 'indispensable': 2737, 'desastrosa': 2738, 'vale': 2739, 'pena': 2740, 'razones': 2741, 'insignificantes': 2742, 'remedio': 2743, 'desiste': 2744, 'alegría': 2745, 'placer': 2746, 'destruido': 2747, 'hacérsele': 2748, 'renacer': 2749, 'presta': 2750, '13': 2751, 'concordia': 2752, 'discordia': 2753, 'esfuerzo': 2754, 'durar': 2755, 'años': 2756, 'fallar': 2757, 'economizar': 2758, 'aprobar': 2759, 'investigar': 2760, 'inhumano': 2761, 'típico': 2762, 'jefe': 2763, 'consejero': 2764, 'posibilita': 2765, 'triunfos': 2766, 'extraordinarios': 2767, 'previa': 2768, 'analogía': 2769, 'interno': 2770, 'agente': 2771, 'liquidable': 2772, 'flotante': 2773, 'activos': 2774, 'organizativo': 2775, 'localidad': 2776, 'transmiten': 2777, 'falsos': 2778, 'datos': 2779, 'traer': 2780, 'informes': 2781, 'régimen': 2782, 'aquéllos': 2783, 'sobornar': 2784, 'trame': 2785, 'utilizados': 2786, 'desavenencias': 2787, 'desarmonía': 2788, 'tanta': 2789, 'familiaridad': 2790, 'renegados': 2791, 'trabajar': 2792, 'sagacidad': 2793, 'justicia': 2794, 'sutileza': 2795, 'delicado': 2796, 'previo': 2797, 'informado': 2798, 'eliminarse': 2799, 'identidad': 2800, 'defienden': 2801, 'aliados': 2802, 'visitantes': 2803, 'centinelas': 2804, 'criados': 2805, 'averigüen': 2806, 'talentos': 2807, 'hayan': 2808, 'venido': 2809, 'espiarte': 2810, 'sobornarlos': 2811, 'inducirlos': 2812, 'pasarse': 2813, 'utilizarlos': 2814, 'contratarlos': 2815, 'fabricar': 2816, 'sirviéndote': 2817, 'previstos': 2818, 'depende': 2819, 'brillante': 2820, 'inteligentes': 2821}\n"
     ]
    }
   ],
   "source": [
    "# Vemos índices para cada palabra\n",
    "# El sistema las ordena de las más populares a las menos populares\n",
    "print(tok.word_index)"
   ]
  },
  {
   "cell_type": "code",
   "execution_count": 160,
   "metadata": {
    "id": "nUDkjy80c77h"
   },
   "outputs": [
    {
     "name": "stdout",
     "output_type": "stream",
     "text": [
      "defaultdict(<class 'int'>, {'el': 215, 'de': 282, 'la': 230, 'sun': 2, 'guerra': 17, 'tzu': 2, 'arte': 9, '1': 1, 'capítulo': 13, 'sobre': 31, 'evaluación': 2, 'vital': 1, 'no': 163, 'supervivencia': 2, 'bien': 14, 'conservación': 1, 'ello': 6, 'y': 257, 'dominio': 2, 'vida': 5, 'imperio': 1, 'importancia': 1, 'ocurrir': 1, 'le': 18, 'respecta': 1, 'del': 80, 'querido': 1, 'nosotros': 1, 'que': 239, 'reflexionar': 1, 'hacia': 11, 'lo': 74, 'a': 191, 'seriamente': 1, 'dar': 3, 'entre': 18, 'culpable': 1, 'forzoso': 1, 'nos': 1, 'para': 110, 'muerte': 10, 'todo': 22, 'mas': 1, 'camino': 10, 'una': 100, 'dice': 13, 'o': 33, 'es': 155, 'manejarla': 1, 'concierne': 2, 'pérdida': 1, 'estado': 1, 'indiferencia': 1, 'debe': 19, 'prueba': 2, 'en': 202, 'condiciones': 6, 'estos': 9, 'terreno': 59, 'tercero': 1, 'determinar': 4, 'los': 205, 'resultado': 5, 'hacer': 26, 'rivales': 3, 'quinto': 1, 'bandos': 3, 'cuarto': 1, 'vistas': 1, 'valorarla': 1, 'primero': 16, 'mando': 15, 'comparaciones': 3, 'tiempo': 16, 'hay': 14, 'factores': 6, 'diversas': 2, 'términos': 1, 'disciplina': 8, 'fundamentales': 2, 'doctrina': 2, 'segundo': 1, 'con': 65, 'cinco': 11, 'ni': 26, 'siga': 2, 'por': 106, 'significa': 24, 'temer': 2, 'modo': 5, 'peligro': 11, 'sus': 70, 'sea': 18, 'gobernante': 6, 'su': 58, 'pueblo': 12, 'cualquier': 6, 'sin': 36, 'hace': 13, 'vidas': 4, 'esté': 6, 'correr': 1, 'armonía': 2, 'donde': 16, 'aquello': 1, 'frío': 2, 'estaciones': 1, 'cambio': 2, 'noche': 5, 'ying': 1, 'lluviosos': 1, 'días': 1, 'despejados': 1, 'yang': 1, 'día': 6, 'las': 135, 'calor': 1, 'lugares': 6, 'posibilidades': 2, 'estrechos': 3, 'implica': 1, 'esto': 42, 'fácil': 7, 'dónde': 5, 'distancias': 4, 'difícil': 12, 'desplazarse': 1, 'referencia': 1, 'abierto': 6, 'si': 112, 'campo': 6, 'influencia': 3, 'benevolencia': 2, 'coraje': 1, 'tener': 12, 'como': 48, 'cualidades': 1, 'ha': 14, 'sinceridad': 1, 'sabiduría': 3, 'último': 3, 'ser': 44, 'organización': 5, 'provisión': 1, 'militar': 20, 'rutas': 4, 'comprendida': 1, 'al': 65, 'material': 1, 'oficiales': 7, 'graduaciones': 1, 'suministros': 10, 'rangos': 3, 'regulación': 1, 'ejército': 46, 'han': 13, 'cada': 11, 'compararse': 1, 'mayor': 2, 'vence': 2, 'siete': 2, 'tanto': 25, 'conocidos': 2, 'trazar': 1, 'planes': 20, 'cuidado': 2, 'sale': 1, 'derrotado': 9, 'siguiente': 2, 'uno': 10, 'aquel': 4, 'valorando': 1, 'domina': 1, 'general': 29, 'dirigente': 1, '¿qué': 7, 'capaz': 11, 'sabio': 3, 'más': 33, 'talento': 1, 'posee': 1, 'comandante': 1, 'ventajas': 8, 'naturaleza': 3, 'obtiene': 1, 'se': 161, 'regulaciones': 1, 'qué': 4, 'instrucciones': 3, 'mejor': 11, '¿en': 1, 'observan': 2, 'tropas': 57, 'son': 58, 'fuertes': 8, 'entrenadas': 1, 'tiene': 17, 'forma': 17, 'justa': 1, 'castigos': 5, 'administra': 1, 'recompensas': 12, 'mediante': 11, 'seré': 1, 'saldrá': 1, 'cual': 5, 'victorioso': 5, 'estudio': 1, 'dos': 5, 'será': 5, 'adivinar': 1, 'ese': 2, 'seguro': 8, 'mantenido': 1, 'ciertamente': 2, 'mi': 2, 'destituido': 1, 'vencerá': 1, 'ignore': 1, 'consejo': 3, 'actuar': 7, 'tras': 5, 'cumplimiento': 2, 'contribuya': 1, 'tomar': 6, 'decir': 9, 'ventajoso': 6, 'prestar': 1, 'crear': 4, 'atención': 5, 'acuerdo': 2, 'situación': 11, 'consideración': 1, 'quiero': 1, 'cebos': 1, 'atraer': 4, 'cerca': 8, 'aparentar': 1, 'atacar': 20, 'inactividad': 1, 'creer': 2, 'incapacidad': 1, 'poner': 2, 'engaño': 2, 'basa': 2, 'está': 36, 'cuando': 109, 'mueven': 3, 'hacerle': 2, 'lejos': 8, 'enemigo': 78, 'egoísmo': 1, 'durante': 4, 'arrogante': 1, 'un': 117, 'contra': 18, 'oponente': 1, 'colérico': 1, 'evitarle': 1, 'fuerte': 6, 'intenta': 4, 'partes': 7, 'prepararse': 2, 'temperamento': 1, 'tu': 35, 'irritarle': 1, 'desordenado': 1, 'él': 19, 'trata': 7, 'fomentar': 1, 'golpear': 1, 'todas': 9, 'estas': 9, 'ataca': 7, 'preparadas': 1, 'hallan': 3, 'unidas': 1, 'filas': 4, 'reorganización': 1, 'claves': 1, 'victoria': 41, 'enemigas': 7, 'están': 43, 'preparado': 2, 'aparece': 4, 'estratega': 1, 'siembra': 1, 'espera': 4, 'te': 27, 'disensión': 1, 'desordenarlas': 1, 'oportunidades': 2, 'derrota': 6, 'estimaciones': 2, 'tus': 41, 'realizadas': 1, 'tendrá': 2, 'puede': 44, 'ella': 4, 'cálculos': 3, 'porque': 10, 'absoluto': 1, 'menores': 2, 'ahora': 1, 'vencer': 11, 'menos': 7, 'favorables': 1, 'muestran': 2, 'batalla': 37, 'cuidadosa': 1, 'cuidadosamente': 2, 'indican': 5, 'antes': 19, 'realizados': 1, 'realiza': 1, 'muchas': 8, 'método': 2, 'este': 17, 'examinar': 2, 'claramente': 2, 'gracias': 1, 'iniciación': 1, '2': 1, 'acciones': 3, 'ciudad': 5, 'mucho': 11, 'vez': 7, 'mantienes': 1, 'aunque': 14, 'estés': 4, 'estás': 11, 'fuerzas': 24, 'espada': 2, 'ganando': 1, 'comenzada': 1, 'sitiando': 1, 'embotará': 1, 'campaña': 4, 'continuar': 1, 'desanimará': 1, 'agotarás': 1, 'agotarán': 1, 'desanimadas': 1, 'debilidad': 4, 'dicho': 1, 'suerte': 2, 'tengas': 1, 'mala': 2, 'emplearlas': 1, 'consejeros': 1, 'embotada': 1, 'hasta': 13, 'sublevarse': 1, 'instrumentos': 2, 'calamidades': 1, 'producirá': 1, 'podrás': 4, 'hierro': 1, 'aprovecharán': 1, 'matan': 2, 'escasos': 1, 'mueren': 1, 'armas': 8, 'cosas': 2, 'final': 3, 'entonces': 12, 'sabios': 2, 'agotadas': 2, 'tuyos': 3, 'salgan': 1, 'operaciones': 12, 'prolongue': 1, 'pero': 36, 'sido': 2, 'ningún': 9, 'visto': 1, 'dejar': 4, 'nunca': 4, 'esta': 18, 'mantuviese': 1, 'torpes': 1, 'militares': 25, 'operación': 8, 'beneficioso': 3, 'hablar': 2, 'causa': 5, 'he': 1, 'experto': 3, 'país': 10, 'oído': 2, 'repentinas': 1, 'comúnmente': 1, 'podido': 1, 'trueno': 4, 'oídos': 4, 'taparte': 1, 'hayas': 2, 'rápido': 4, 'relámpago': 4, 'relumbra': 1, 'haber': 6, 'pestañear': 1, 'retumba': 2, 'veloz': 3, 'sé': 5, 'pueden': 26, 'conscientes': 1, 'servirse': 4, 'totalmente': 7, 'desventaja': 2, 'utilizarlas': 1, 'tres': 6, 'utilizan': 7, 'ocasiones': 1, 'medios': 5, 'mismo': 17, 'veces': 2, 'proporcionan': 1, 'alimentos': 7, 'pericia': 4, 'activan': 1, 'objetivo': 8, 'alcanzar': 3, 'propias': 3, 'regresar': 3, 'movilización': 2, 'principio': 6, 'proporcionar': 2, 'después': 16, 'quiere': 9, 'segunda': 2, 'propio': 6, 'inmediatamente': 3, 'quitan': 1, 'movilizar': 4, 'tomas': 3, 'quitas': 1, 'puedes': 32, 'estar': 6, 'armamento': 1, 'abastecido': 1, 'provisiones': 7, 'empobrece': 1, 'empobrecerá': 1, 'transporte': 1, 'transportas': 1, 'distante': 1, 'lugar': 21, 'desde': 8, 'acaba': 1, 'vender': 1, 'mayoría': 1, 'habitan': 1, 'precios': 2, 'bienestar': 2, 'cosechas': 1, 'elevados': 2, 'población': 3, 'alto': 3, 'lacra': 1, 'campañas': 1, 'mercancías': 1, 'constituyen': 4, 'aumentan': 1, 'muy': 8, 'gente': 5, 'mercados': 1, 'arruina': 2, 'costo': 1, 'cercanos': 1, 'largas': 2, 'transportan': 1, 'bajo': 5, 'impuestos': 1, 'poder': 16, 'agotado': 2, 'recaudan': 1, 'presupuesto': 1, 'gobierno': 11, 'recursos': 5, 'gastos': 3, 'elevan': 2, 'mientras': 12, 'priva': 1, 'armamentos': 1, 'agotan': 2, 'gran': 12, 'presión': 1, 'parte': 2, 'felicidad': 1, 'príncipe': 4, 'austero': 1, 'habitantes': 5, 'hecho': 5, 'respetar': 1, 'sobrio': 1, 'base': 3, 'públicos': 1, 'consecuencia': 11, 'inteligente': 4, 'ti': 18, 'desproveer': 2, 'porción': 1, 'veinte': 1, 'suministras': 1, 'tomados': 1, 'lucha': 13, 'equivale': 1, 'arrasa': 2, 'así': 47, 'imprudencia': 1, 'pues': 26, 'beneficios': 4, 'motivación': 1, 'adversarios': 41, 'asumir': 1, 'par': 7, 'luchar': 12, 'ostentaban': 1, 'hombres': 2, 'recompenses': 1, 'grandes': 4, 'iniciativa': 1, 'harás': 1, 'propia': 5, 'valientes': 1, 'tenía': 1, 'recompensa': 5, 'carros': 6, 'tome': 1, 'diez': 5, 'consiguiente': 4, 'tratados': 2, 'suficiente': 4, 'mundo': 10, 'habrá': 1, 'demás': 10, 'todos': 8, 'préstales': 1, 'hechos': 4, 'luchen': 3, 'llama': 17, 'ofrece': 3, 'soldado': 1, 'incrementar': 1, 'futuro': 2, 'utilízalos': 1, 'animar': 1, 'soldados': 51, 'prisioneros': 4, 'mezclados': 1, 'colores': 1, 'cambia': 3, 'deben': 12, 'enemigos': 24, 'conseguir': 3, 'añadidura': 1, 'e': 10, 'adversario': 24, 'serás': 2, 'utilizas': 1, 'derrotar': 1, 'poderoso': 1, 'vayas': 2, 'apagas': 1, 'persistencia': 1, 'beneficiosa': 1, 'fuego': 15, 'sí': 10, 'consumirá': 1, 'última': 1, 'importante': 1, 'cargo': 2, 'cabeza': 3, 'sabemos': 1, 'nación': 3, 'seguridad': 5, '3': 1, 'proposiciones': 1, 'intacto': 3, 'dominas': 1, 'capturar': 1, 'conquistarlos': 1, 'regla': 9, 'destruirlo': 1, 'conservar': 3, 'jefes': 5, 'marciales': 6, 'manera': 38, 'generales': 19, 'muchedumbre': 1, 'disparando': 1, 'ánimo': 2, 'decía': 3, 'destruyes': 1, 'reúnes': 1, 'defensas': 2, 'artes': 7, 'dirección': 3, 'territorio': 20, 'calcula': 1, 'matas': 2, 'practica': 1, 'fuerza': 36, 'ganar': 11, 'asaltas': 1, 'pierdan': 1, 'haz': 8, 'usurpas': 1, 'inservible': 1, 'violencia': 2, 'realmente': 4, 'ejércitos': 14, 'ajenos': 1, 'ganan': 2, 'consiguen': 1, 'rindan': 1, 'batallas': 4, 'mejores': 3, 'maestros': 1, 'impotentes': 1, 'profesionales': 1, 'superiores': 6, 'proyectando': 1, 'guerreros': 10, 'luego': 1, 'alianzas': 8, 'deshacen': 1, 'atacan': 4, 'desnudas': 1, 'asediar': 2, 'eso': 8, 'sólo': 21, 'acorralar': 1, 'lleva': 3, 'emperador': 2, 'táctica': 2, 'frente': 6, 'espadas': 1, 'recurso': 1, 'buen': 4, 'cabo': 6, 'peor': 1, 'coordinación': 1, 'meses': 1, 'emplea': 2, 'cólera': 3, 'aconsejable': 1, 'asedio': 3, 'artefactos': 1, 'prisas': 1, 'planificación': 3, 'coordinar': 2, 'tomarse': 1, 'preparar': 3, 'plan': 4, 'otros': 12, 'verdadero': 1, 'maestro': 2, 'destruye': 1, 'asediarlas': 1, 'conquista': 3, 'emplear': 3, 'otras': 1, 'ciudades': 5, 'estropea': 1, 'necesidad': 4, 'corta': 2, 'deshace': 1, 'relaciones': 2, 'tácticas': 2, 'bloquea': 2, 'venciendo': 1, 'estratégico': 3, 'ley': 4, 'total': 3, 'facciones': 1, 'obtener': 16, 'acuartelado': 1, 'beneficio': 6, 'completa': 3, 'quede': 2, 'imprescindible': 4, 'empleo': 2, 'destrucción': 1, 'produce': 3, 'caso': 11, 'vencido': 1, 'prolonga': 1, 'estrategia': 16, 'asediada': 1, 'utilización': 2, 'atácalo': 1, 'rodéalo': 1, 'divídelo': 1, 'fallo': 2, 'evita': 4, 'enfrentamiento': 2, 'prudencia': 1, 'incluso': 10, 'dominar': 3, 'pequeño': 3, 'continuamente': 2, 'consecuencias': 1, 'posible': 9, 'cansar': 1, 'acarrearía': 1, 'iguales': 1, 'peores': 1, 'personas': 7, 'abrigo': 1, 'numerosos': 4, 'inferiores': 2, 'llegar': 6, 'firmeza': 5, 'manténte': 2, 'número': 5, 'guardia': 3, 'mantenerte': 2, 'ellos': 21, 'equivalentes': 1, 'valor': 3, 'entrar': 7, 'sean': 10, 'suyas': 2, 'aplica': 2, 'buscar': 2, 'casos': 2, 'caos': 2, 'orden': 17, 'debes': 11, 'retirarte': 2, 'desmoralizados': 1, 'tú': 3, 'salida': 5, 'inmersas': 1, 'bando': 1, 'obstinado': 1, 'grande': 2, 'cae': 2, 'prisionero': 2, 'débil': 3, 'potencia': 1, 'tampoco': 2, 'adecuada': 3, 'defensa': 12, 'servicio': 2, 'defectuoso': 1, 'valoración': 3, 'inevitablemente': 2, 'conquistado': 1, 'enemistarse': 1, 'atreve': 2, 'firme': 3, 'sabes': 2, 'servidores': 3, 'convertirá': 1, 'completo': 1, 'avanzar': 5, 'trastornar': 1, 'igual': 1, 'acaban': 1, 'aspecto': 1, 'cómo': 7, 'vacilantes': 2, 'comparte': 1, 'inmovilizar': 1, 'maniobras': 3, 'problemas': 6, 'asuntos': 4, 'hacerlo': 2, 'empiezan': 2, 'ignorando': 1, 'perder': 4, 'llevar': 4, 'maneras': 3, 'retirarse': 3, 'confusos': 1, 'ordena': 2, 'pie': 2, 'ignora': 1, 'existen': 11, 'procedentes': 1, 'igualdad': 1, 'desastre': 1, 'intentas': 1, 'confusa': 1, 'dirigir': 4, 'métodos': 4, 'civil': 2, 'utilizar': 7, 'triunfan': 1, 'aquellos': 2, 'cuándo': 2, 'saben': 4, 'pocas': 3, 'discernir': 1, 'cuyos': 2, 'tienen': 17, 'preparativos': 4, 'enfrentan': 3, 'desprevenidos': 1, 'civiles': 3, 'limitados': 1, 'competentes': 1, 'gobiernos': 1, 'vencedor': 2, 'conocer': 16, 'apagar': 1, 'permiso': 1, 'cenizas': 1, 'solicitarle': 1, 'órdenes': 14, 'quedan': 4, 'autorizado': 1, 'ya': 8, 'sino': 10, 'da': 4, 'cien': 1, 'ganarás': 1, 'conoces': 6, 'otra': 5, 'correrás': 1, 'perderás': 1, 'medida': 2, '4': 1, 'disposición': 1, 'descubrir': 7, 'mismos': 3, 'vulnerabilidad': 4, 'aguardaban': 1, 'primer': 5, 'invencibles': 2, 'antiguamente': 1, 'expertos': 9, 'hacían': 1, 'invencible': 3, 'conocerte': 1, 'aguardar': 2, 'hacerte': 2, 'invencibilidad': 2, 'vulnerables': 3, 'fallos': 1, 'estén': 4, 'pertrechados': 1, 'informarse': 1, 'aprovecharse': 5, '¿cómo': 3, 'negligencias': 1, 'vencerlos': 1, 'percibida': 1, 'fabricada': 1, 'cuestión': 7, 'ataque': 16, 'oculta': 1, 'finalidad': 1, 'vulnerabilidades': 1, 'observado': 2, 'formación': 8, 'prepárate': 2, 'momento': 6, 'atacarlos': 1, 'preservarte': 1, 'salir': 6, 'tiempos': 3, 'escasez': 1, 'abundancia': 1, 'alturas': 2, 'lograr': 6, 'elevadas': 1, 'tierra': 4, 'protegerse': 1, 'profundidades': 1, 'cielo': 3, 'esconden': 1, 'movimiento': 4, 'escondidos': 1, 'fulgurante': 1, 'espíritus': 2, 'huellas': 2, 'invisibles': 1, 'acalláis': 1, 'voces': 1, 'grito': 1, 'borráis': 1, 'situaciones': 6, 'fantasmas': 2, 'vengan': 3, 'vuestro': 1, 'esa': 6, 'prever': 1, 'destreza': 1, 'cualquiera': 1, 'verdadera': 1, 'buena': 4, 'tan': 7, 'constituye': 2, 'ganada': 1, 'elogia': 2, 'existe': 9, 'ver': 4, 'oculto': 2, 'sutil': 5, 'cuenta': 7, 'darte': 2, 'deseable': 1, 'punto': 9, 'verdaderamente': 1, 'necesario': 7, 'luna': 1, 'escuchar': 1, 'requiere': 2, 'cabello': 1, 'aguda': 1, 'levantar': 3, 'sol': 1, 'necesita': 1, 'retumbar': 1, 'vista': 2, 'mucha': 1, 'conoce': 5, 'obtenida': 3, 'medio': 3, 'considera': 4, 'antigüedad': 1, 'eran': 2, 'buenos': 6, 'era': 2, 'vencían': 1, 'eres': 9, 'armado': 1, 'conflicto': 1, 'enfrentarte': 4, 'dura': 1, 'asegurar': 2, 'irrumpiendo': 1, 'casualidades': 1, 'antemano': 1, 'situado': 1, 'destacan': 1, 'haberse': 1, 'debidas': 2, 'inteligencia': 4, 'perdido': 3, 'posición': 10, 'previamente': 3, 'victorias': 2, 'imponiéndose': 1, 'bravura': 3, 'obvio': 1, 'anuncia': 1, 'mérito': 2, 'algo': 4, 'resuelven': 1, 'surjan': 1, '¿quién': 2, 'habla': 3, 'hacen': 5, 'pasan': 1, 'toman': 1, 'proclive': 1, 'gana': 4, 'entabla': 2, 'premeditados': 1, 'diferencia': 1, 'corruptos': 1, 'leyes': 6, 'prevaleciendo': 1, 'gobernar': 2, 'cultivan': 1, 'templos': 1, 'pasa': 1, 'oposición': 3, 'cortar': 2, 'repetir': 2, 'árboles': 4, 'contaminar': 1, 'purificar': 1, 'montañas': 5, 'botín': 2, 'decadente': 2, 'inocente': 1, 'desvanecer': 1, 'atraviesas': 4, 'errores': 4, 'limpiar': 1, 'civilización': 1, 'pozos': 2, 'disciplinado': 1, 'desobedecer': 1, 'establecidos': 2, 'estrictamente': 1, 'merecen': 1, 'capaces': 6, 'morirían': 1, 'corrupto': 1, 'confianza': 4, 'medición': 1, 'comparación': 1, 'cálculo': 1, 'reglas': 1, 'mediciones': 1, 'valoraciones': 1, 'éstos': 3, 'dan': 3, 'éstas': 6, 'dimensiones': 1, 'haya': 7, 'kilo': 1, 'gramo': 1, 'comparado': 1, 'profundo': 2, 'consigue': 1, 'dirigiendo': 2, 'cañón': 2, 'estuviera': 1, 'corriente': 4, 'agua': 9, 'vaya': 1, 'cantidad': 1, 'nuestro': 1, 'muestra': 1, 'abajo': 8, 'medir': 1, 'acumula': 1, 'precipita': 1, 'torrente': 1, 'suelta': 2, 'nuestra': 1, 'nadie': 7, 'irresistible': 1, '5': 1, 'energía': 8, 'cambiante': 1, 'percepción': 4, 'ejercer': 1, 'percibe': 1, 'favorable': 6, 'acumulada': 1, 'creando': 1, 'fueran': 2, 'sectores': 1, 'grupos': 2, 'señales': 4, 'demostrar': 1, 'batallar': 1, 'símbolos': 2, 'dividirlas': 2, 'poco': 2, 'movimientos': 5, 'formaciones': 8, 'banderas': 3, 'utilizadas': 1, 'desplegar': 1, 'refiere': 2, 'combatir': 12, 'heterodoxos': 1, 'ortodoxos': 1, 'ortodoxia': 1, 'heterodoxia': 1, 'guerrero': 1, 'administrador': 1, 'inesperadamente': 2, 'volviéndose': 1, 'fijo': 1, 'manipular': 2, 'ambos': 2, 'heterodoxo': 3, 'fue': 1, 'percepciones': 2, 'famoso': 1, 'hablaba': 1, 'indefinible': 1, 'ortodoxo': 3, 'combinando': 1, 'convertirlo': 1, 'ciclo': 1, 'piedras': 3, 'vacío': 5, 'lleno': 4, 'efecto': 3, 'huevos': 2, 'arrojadas': 1, 'induces': 3, 'arrojar': 1, 'estará': 3, 'vacía': 2, 'rompen': 2, 'compitas': 1, 'atacarte': 4, 'llena': 3, 'siempre': 9, 'sorpresa': 4, 'directa': 2, 'indirecto': 2, 'directo': 3, 'extraordinario': 2, 'podría': 3, 'ataques': 7, 'innumerables': 1, 'originan': 1, 'variantes': 3, 'comienzo': 1, 'clases': 9, 'círculo': 1, 'fin': 1, 'recíprocamente': 1, 'agotarlos': 1, 'ordinario': 3, 'mover': 2, 'precisión': 2, 'alcanza': 1, 'halcón': 1, 'ocurre': 1, 'velocidad': 2, 'tal': 3, 'matar': 2, 'fluye': 1, 'maniobrabilidad': 1, 'ésta': 8, 'disparar': 1, 'causar': 1, 'rápida': 3, 'esperado': 1, 'previsto': 1, 'certera': 1, 'catapulta': 1, 'brota': 1, 'desorden': 6, 'surge': 1, 'cobardía': 3, 'llega': 5, 'fingir': 2, 'quieres': 3, 'inducir': 2, 'convencer': 1, 'tienes': 9, 'organizar': 1, 'has': 6, 'pretender': 2, 'tímido': 4, 'distraerlos': 1, 'extremadamente': 3, 'artificial': 1, 'valiente': 4, 'arrogancia': 1, 'valentía': 1, 'ímpetu': 11, 'vuelve': 2, 'fijado': 1, 'pierde': 1, 'convierte': 1, 'nada': 6, 'desarrollan': 1, 'traza': 1, 'proceder': 1, 'emboscada': 2, 'astucia': 2, 'les': 12, 'ayuda': 1, 'moverse': 1, 'caigan': 2, 'perspectiva': 2, 'caminar': 1, 'convenzan': 1, 'anticipar': 2, 'triunfo': 1, 'efectividad': 2, 'partir': 1, 'logre': 1, 'escoger': 1, 'desplegarlos': 1, 'dependen': 2, 'adecuadamente': 1, 'objetivos': 1, 'buscan': 1, 'encomendarle': 1, 'entusiasmo': 1, 'compromiso': 1, 'útil': 1, 'convicción': 1, 'asignar': 1, 'habilidades': 1, 'cuidadoso': 1, 'centinela': 1, 'capacidades': 3, 'estudiar': 2, 'comunicar': 1, 'responsabilidades': 1, 'analizar': 2, 'adecuadas': 1, 'deberes': 1, 'valeroso': 1, 'permitiendo': 1, 'ruedan': 1, 'haga': 1, 'rodar': 1, 'plano': 1, 'trabajo': 1, 'redondas': 1, 'precipitan': 1, 'inmóviles': 1, 'fijas': 1, 'conduce': 2, 'impulso': 1, 'giran': 1, 'inclinado': 1, 'permanecen': 2, 'cuadradas': 1, 'montaña': 4, 'rocas': 1, '6': 1, 'entablan': 1, 'últimos': 1, 'esperan': 3, 'anticipan': 1, 'preparan': 1, 'agotados': 2, 'improvisan': 1, 'descansada': 1, 'llegan': 4, 'fortaleza': 1, 'dejan': 1, 'fuera': 2, 'llenarte': 1, 'sales': 1, 'vaciar': 1, 'haces': 6, 'desanima': 1, 'venir': 1, 'impulsa': 1, 'probabilidad': 1, 'decisión': 1, 'sufrir': 1, 'ir': 6, 'daños': 2, 'alimentados': 1, 'cansarlos': 1, 'descansando': 1, 'pongan': 1, 'aprovisionamiento': 1, 'rescate': 3, 'acudir': 3, 'tengan': 4, 'agoten': 1, 'vías': 2, 'haciendo': 1, 'esperen': 2, 'campos': 2, 'salvar': 3, 'críticos': 1, 'corriendo': 1, 'interrumpe': 1, 'dirige': 2, 'atraviesa': 3, 'cansancio': 4, 'puedan': 5, 'tierras': 1, 'cientos': 1, 'kilómetros': 6, 'desplazarte': 1, 'despobladas': 1, 'espacio': 1, 'estuvieras': 1, 'atravesando': 1, 'despoblado': 1, '—': 2, 'desperdigarán': 1, 'guardado': 1, 'estricta': 2, 'ante': 2, 'infaliblemente': 1, 'mantener': 3, 'defiende': 1, 'segura': 2, 'atacas': 2, 'sinceramente': 1, 'implantados': 1, 'leales': 2, 'cumplen': 1, 'comprometidas': 1, 'estrategias': 3, 'inseguros': 1, 'sirve': 1, 'reservado': 2, 'ninguna': 5, 'sienten': 1, 'siendo': 2, 'revelan': 1, 'confidencial': 1, 'completamente': 2, 'silencioso': 1, 'destino': 1, 'discreto': 1, 'misterioso': 1, 'resistencia': 1, 'arremete': 1, 'débiles': 8, 'esquiva': 1, 'encontrar': 2, 'puntos': 6, 'viento': 7, 'muévete': 2, 'basan': 1, 'podrán': 2, 'vencerte': 1, 'irremediablemente': 1, 'atrincherado': 2, 'evitar': 8, 'defensiva': 2, 'podrá': 2, 'quieras': 3, 'línea': 3, 'falsa': 3, 'pista': 1, 'trazas': 1, 'das': 2, 'contigo': 2, 'confundirlos': 1, 'luchas': 3, 'incertidumbre': 1, 'estableces': 2, 'llenarlos': 1, 'concentrado': 2, 'dividido': 2, 'efectuar': 2, 'permaneces': 1, 'concentras': 2, 'dividirá': 1, 'vean': 1, 'seguramente': 2, 'sola': 4, 'formando': 1, 'concentración': 2, 'atacando': 2, 'superan': 1, 'muchos': 7, 'pocos': 2, 'diezmarás': 1, 'unos': 4, 'información': 6, 'dejas': 4, 'buenas': 1, 'incontenible': 1, 'filtrar': 1, 'afuera': 1, 'barricadas': 1, 'fuertemente': 1, 'precisa': 1, 'sal': 1, 'pequeñas': 4, 'unidades': 3, 'vigilancia': 1, 'destaca': 1, 'establecen': 1, 'puestos': 1, 'librar': 1, 'piensas': 1, 'preparada': 2, 'presenta': 1, 'vanguardia': 3, 'defectuosa': 1, 'retaguardia': 4, 'significarán': 1, 'preparaciones': 1, 'carencia': 1, 'izquierda': 1, 'vulnerable': 3, 'derecha': 3, 'significará': 1, 'ala': 1, 'desperdigadas': 1, 'forzosamente': 1, 'tenga': 2, 'defenderse': 1, 'dispone': 3, 'debilitado': 1, 'cuantas': 1, 'adoptar': 3, 'quedará': 1, 'flanco': 1, 'siquiera': 2, 'izquierdo': 1, 'distancia': 6, 'unas': 1, 'mil': 1, 'fecha': 3, 'docenas': 1, 'derecho': 1, 'factor': 2, 'ayudarte': 1, 'saber': 5, 'vas': 2, 'numerosas': 4, 'creada': 1, 'sepan': 1, 'hacerse': 1, 'entren': 1, 'combate': 11, 'descansa': 1, 'cuál': 2, 'éxito': 2, 'acción': 8, 'averiguar': 4, 'incítalos': 1, 'esquema': 1, 'hábitos': 1, 'puedas': 1, 'comportamiento': 1, 'específicas': 1, 'flacos': 1, 'indúcelos': 1, 'actúas': 1, 'respuesta': 3, 'significan': 4, 'cuáles': 2, 'confundir': 4, 'perturbar': 1, 'observar': 4, 'clase': 2, 'formas': 1, 'haberlas': 1, 'informadores': 2, 'pruébalos': 1, 'realizable': 1, 'establecer': 4, 'mirar': 1, 'grieta': 1, 'seguidas': 1, 'perceptible': 1, 'encuentran': 3, 'resultó': 1, 'precisas': 2, 'aseguró': 1, 'multitudes': 1, 'desconocida': 1, 'adapta': 2, 'repetitiva': 1, 'lograrla': 1, 'puedo': 1, 'previas': 1, 'cambios': 5, 'apropiados': 1, 'adaptarme': 1, 'flujo': 1, 'determinada': 1, 'viene': 1, 'determinado': 2, 'adaptándose': 1, 'genio': 2, 'capacidad': 1, 'cambiando': 1, 'constante': 2, 'según': 6, '7': 1, 'autoridades': 1, 'acuartelándolas': 1, 'armada': 5, 'concentra': 1, 'reúne': 1, 'juntas': 1, 'arduo': 1, 'cara': 2, 'cercanas': 2, 'dificultad': 1, 'convertir': 1, 'llegas': 2, 'apariencia': 1, 'empiezas': 1, 'marcha': 2, 'larga': 2, 'emprendes': 1, 'esperanza': 4, 'atrayéndole': 2, 'ruta': 3, 'engañar': 1, 'persecución': 2, 'sírvete': 2, 'emprendió': 1, 'haciéndole': 1, 'grueso': 1, 'especial': 1, 'lanzas': 1, 'unidad': 2, 'provechosa': 2, 'peligrosa': 2, 'inexperto': 1, 'falta': 2, 'incompleto': 1, 'ventaja': 13, 'alguna': 4, 'tomaría': 1, 'tendría': 1, 'aras': 1, 'conseguirá': 1, 'miles': 1, 'doble': 2, 'recorriendo': 1, 'serán': 4, 'movilizas': 1, 'rápidamente': 6, 'allí': 2, 'cansados': 2, 'parar': 1, 'llegarán': 1, 'habitual': 1, 'gastado': 1, 'frescos': 1, 'atacadas': 1, 'cansan': 1, 'frustrará': 1, 'cincuenta': 1, 'mitad': 5, 'harán': 1, 'recorrerán': 1, 'treinta': 1, 'perece': 1, 'equipado': 2, 'dinero': 2, 'facilita': 1, 'necesarias': 1, 'ignoras': 2, 'aprovecharte': 2, 'desfiladeros': 3, 'guías': 2, 'condición': 7, 'pasos': 1, 'utilices': 1, 'conozcas': 1, 'maniobrar': 5, 'pantanos': 3, 'locales': 3, 'bosques': 2, 'detalle': 1, 'guerrear': 1, 'combinación': 1, 'moviliza': 3, 'división': 1, 'prevista': 1, 'usa': 1, 'posibilidad': 3, 'distraes': 1, 'entra': 2, 'adaptarte': 2, 'reacciona': 1, 'volver': 3, 'establece': 2, 've': 2, 'real': 1, 'imponer': 1, 'combinaciones': 1, 'pueda': 5, 'supremacía': 1, 'dividir': 4, 'sentido': 2, 'inmóvil': 2, 'rapidez': 4, 'va': 2, 'mueve': 1, 'bosque': 2, 'voraz': 2, 'lentamente': 1, 'desaparece': 1, 'hierba': 1, 'avisar': 1, 'planicie': 1, 'acuartela': 1, 'devasta': 1, 'brizna': 1, 'oscuridad': 2, 'divide': 1, 'expandir': 1, 'ocupar': 2, 'localidades': 1, 'necesitan': 1, 'tendrán': 2, 'embargo': 1, 'pequeños': 1, 'ganado': 1, 'guardar': 1, 'recupere': 1, 'dejando': 1, 'cuanto': 2, 'repartirlo': 1, 'actúa': 4, 'estimación': 1, 'anfitrión': 1, 'invitado': 1, 'hambre': 1, 'desplazamiento': 1, 'surgen': 1, 'tambores': 2, 'ausencia': 2, 'grupo': 4, 'libro': 1, 'visibilidad': 1, 'palabras': 3, 'unificar': 3, 'escuchadas': 1, 'solo': 2, 'concentrar': 1, 'unificados': 1, 'antiguo': 1, 'ojos': 3, 'estandartes': 3, 'indicar': 1, 'antoje': 1, 'unísono': 1, 'miren': 1, 'impedir': 4, 'individuos': 1, 'escuchen': 1, 'confusión': 6, 'direcciones': 1, 'vayan': 1, 'utiliza': 3, 'fuegos': 2, 'diurnas': 1, 'nocturnas': 2, 'temible': 1, 'desaparecer': 1, 'desmoralizas': 1, 'conducían': 1, 'corazón': 4, 'tenían': 1, 'fresca': 1, 'original': 1, 'victoriosa': 1, 'antigua': 1, 'tradición': 1, 'desmoralizar': 1, 'mente': 2, 'afirma': 1, 'mañana': 1, 'retira': 2, 'bate': 1, 'ardor': 2, 'manejo': 1, 'retirada': 4, 'entusiasta': 2, 'dominan': 1, 'decae': 1, 'prefieren': 1, 'mediodía': 1, 'minuto': 1, 'comenzado': 1, 'asustado': 1, 'miran': 1, 'hombro': 1, 'razón': 3, 'arrepentirá': 1, 'animado': 1, 'vírgenes': 2, 'encima': 1, 'aprovechando': 1, 'siente': 1, 'desvanece': 1, 'doncellas': 1, 'poseído': 1, 'estimulada': 1, 'detendrá': 1, 'agresividad': 1, 'agitan': 1, 'enfrentarse': 3, 'calma': 3, 'manejar': 2, 'infalible': 1, 'esperar': 4, 'inesperadas': 1, 'cosa': 1, 'graves': 1, 'responder': 1, 'dificultades': 2, 'límites': 1, 'acontecimientos': 2, 'turbarte': 1, 'hambrientos': 2, 'toda': 3, 'fatigado': 1, 'vienen': 3, 'estómago': 1, 'comodidad': 1, 'saciado': 1, 'evitas': 1, 'inducido': 1, 'adaptación': 2, 'ordenadas': 1, 'confrontación': 1, 'batallones': 1, 'oponerse': 1, 'espaldas': 4, 'arriba': 4, 'carga': 1, 'atacarles': 2, 'hacerles': 1, 'elevado': 3, 'efectúan': 2, 'cuesta': 2, 'finjan': 1, 'persigas': 3, 'expertas': 1, 'lancen': 1, 'agotar': 1, 'repente': 2, 'huyen': 2, 'emboscadas': 4, 'esperándote': 1, 'retener': 1, 'comida': 1, 'consumas': 1, 'envenenadas': 1, 'abandona': 1, 'comidas': 1, 'probadas': 1, 'detengas': 2, 'circunstancias': 5, 'dejarle': 1, 'luchará': 3, 'rodeado': 2, 'dispuestos': 3, 'muéstrales': 1, 'presiones': 1, 'desesperado': 2, 'luchando': 2, 'seguirá': 1, 'animal': 1, 'nueve': 3, '8': 1, 'deja': 1, 'permanezcas': 1, 'campamento': 4, 'establezcan': 1, 'aislado': 3, 'árido': 1, 'fronteras': 2, 'diplomáticas': 1, 'mortal': 6, 'halles': 1, 'prepara': 1, 'cerrado': 2, 'libertad': 1, 'escarpados': 1, 'irse': 1, 'movilidad': 2, 'rodean': 1, 'obedecidas': 1, 'usar': 1, 'atacados': 1, 'estudiada': 1, 'terrenos': 6, 'rodeadas': 1, 'gobernantes': 2, 'ventajosa': 3, 'conocen': 2, 'adaptarse': 2, 'conozcan': 3, 'sabe': 1, 'armadas': 2, 'posibles': 2, 'variables': 1, 'adaptabilidad': 1, 'ignoran': 6, 'actúen': 2, 'ajustar': 1, 'conforme': 2, 'únicos': 1, 'perjudicados': 1, 'cambiar': 1, 'permanente': 1, 'comprender': 1, 'estructura': 1, 'consideraciones': 1, 'persona': 3, 'objetivamente': 1, 'resolverse': 1, 'expande': 1, 'daño': 3, 'incluyen': 1, 'interdependientes': 1, 'ocupados': 2, 'retiene': 1, 'motiva': 1, 'mantiene': 1, 'labor': 1, 'desarrollar': 1, 'próspero': 1, 'armoniosa': 1, 'ordenada': 1, 'respirar': 1, 'manteniéndolos': 2, 'lograrlo': 1, 'vivir': 3, 'consiste': 4, 'dejándoles': 1, 'cansa': 1, 'sociedad': 1, 'realizar': 1, 'atacado': 1, 'poseer': 1, 'acuda': 1, 'confiar': 3, 'norma': 2, 'contar': 1, 'presenten': 1, 'permanece': 3, 'salvo': 3, 'atento': 1, 'evítalos': 1, 'todavía': 2, 'recordar': 1, 'rasgos': 2, 'dados': 1, 'apasionamientos': 1, 'puritanos': 1, 'quieren': 1, 'peligrosos': 1, 'morir': 3, 'deshonrados': 1, 'compasivos': 1, 'ridiculizados': 1, 'preservar': 1, 'turbados': 1, 'irracionales': 1, 'causándose': 1, 'defender': 1, 'apresurarán': 1, 'presentas': 1, 'rescatar': 1, 'compasivas': 1, 'invariablemente': 1, 'precipitarán': 2, 'desastrosos': 1, 'defectos': 1, 'complacidos': 1, 'actúan': 1, 'cierran': 2, 'sobrevivir': 3, 'contrario': 4, 'cuestiones': 1, 'tigres': 1, 'aferran': 2, 'comprometen': 1, 'ven': 3, 'sujetos': 1, 'quedar': 2, 'oportunidad': 1, 'confundidos': 1, 'emociones': 1, 'enfadados': 1, 'dejarse': 1, 'realista': 1, 'puertas': 2, 'racional': 2, '9': 1, 'distribución': 1, 'determinan': 1, 'vigílalos': 1, 'colocar': 2, 'valle': 2, 'elevada': 1, 'revés': 1, 'combatas': 2, 'luz': 2, 'desfavorables': 4, 'dentro': 2, 'conveniente': 2, 'pasen': 1, 'estando': 2, 'enfrentes': 1, 'divida': 1, 'atacarlas': 1, 'aléjate': 1, 'camines': 1, 'sitúes': 1, 'río': 3, 'veneno': 1, 'acuáticas': 1, 'ribera': 1, 'lanzando': 1, 'acampas': 1, 'empujados': 1, 'aproveche': 1, 'encuentras': 2, 'plantas': 1, 'hazlo': 2, 'ahogarse': 1, 'amarradas': 1, 'pantano': 1, 'sorprendidos': 1, 'barcas': 1, 'media': 1, 'respaldado': 1, 'bajas': 2, 'posiciones': 1, 'toma': 2, 'detrás': 3, 'manteniendo': 1, 'altos': 2, 'llanura': 1, 'elevaciones': 1, 'delante': 2, 'aprecia': 1, 'generalmente': 1, 'detesta': 1, 'prefiere': 1, 'estimulantes': 1, 'enfermedades': 1, 'provoca': 1, 'además': 2, 'húmedos': 1, 'convenientes': 1, 'gusto': 1, 'bajos': 1, 'halla': 4, 'adquirir': 1, 'dificulta': 1, 'cuida': 3, 'disponibles': 1, 'física': 1, 'salud': 2, 'enfermedad': 1, 'éste': 12, 'soleado': 1, 'terraplenes': 1, 'sitúate': 1, 'montículos': 1, 'lado': 3, 'colocarse': 1, 'beneficiosos': 1, 'trae': 2, 'cruzarlo': 1, 'espuma': 1, 'escampe': 1, 'consigo': 1, 'llueve': 1, 'grietas': 1, 'alejado': 1, 'accidentes': 2, 'doy': 1, 'presente': 1, 'barrancos': 1, 'acercarte': 1, 'abandonarlo': 1, 'mí': 1, 'mantengo': 1, 'infranqueables': 2, 'prisiones': 1, 'me': 1, 'trampas': 1, 'riesgos': 2, 'yo': 2, 'queden': 1, 'naturales': 2, 'cerrados': 1, 'llenos': 1, 'desplazando': 1, 'juncos': 1, 'espías': 10, 'escudriñarlos': 1, 'vegetación': 1, 'ayudan': 1, 'territorios': 2, 'corrientes': 1, 'cubiertos': 1, 'montañosos': 1, 'escuchando': 1, 'escondidas': 2, 'observándote': 1, 'tenderte': 1, 'esencial': 5, 'bajar': 1, 'acecho': 1, 'caballo': 1, 'también': 4, 'escudriñar': 1, 'hubiera': 1, 'hostilidades': 1, 'provocar': 2, 'avances': 2, 'accesible': 4, 'conserva': 1, 'sitúa': 3, 'otro': 2, 'obrar': 1, 'mal': 2, 'tomado': 2, 'acercando': 2, 'matorrales': 1, 'obstáculos': 2, 'pensar': 1, 'idea': 1, 'maleza': 1, 'columnas': 1, 'van': 2, 'cortando': 1, 'humaredas': 1, 'acercan': 1, 'polvo': 1, 'animales': 1, 'asustados': 1, 'atacantes': 1, 'polvaredas': 1, 'vuelo': 1, 'espesas': 1, 'pájaros': 3, 'altas': 1, 'esparcidas': 1, 'leña': 1, 'anchas': 1, 'alzan': 1, 'avanza': 3, 'señal': 1, 'incrementa': 1, 'altisonantes': 1, 'humildes': 2, 'ostentosamente': 1, 'retirar': 1, 'pronuncian': 1, 'emisarios': 6, 'envía': 1, 'comprobarás': 1, 'aumentando': 1, 'salen': 4, 'flancos': 1, 'estableciendo': 1, 'ligeros': 1, 'sitúan': 1, 'firmar': 1, 'algún': 2, 'paz': 1, 'complot': 1, 'tramando': 1, 'pidiendo': 1, 'tratado': 2, 'esperando': 1, 'refuerzos': 1, 'eventualidad': 1, 'encuentro': 1, 'ayudará': 1, 'entienden': 2, 'unir': 2, 'esperada': 1, 'conviene': 1, 'trampa': 1, 'atraerte': 1, 'retrocede': 1, 'piensa': 1, 'incitarte': 1, 'fingiendo': 1, 'apoyan': 1, 'beben': 1, 'sedientas': 1, 'aguadores': 1, 'cansado': 1, 'aprovecha': 1, 'reúnen': 1, 'sobrevolando': 1, 'huido': 1, 'inquietos': 1, 'llaman': 1, 'miedo': 2, 'atemorizados': 1, 'producen': 2, 'llamadas': 1, 'serio': 1, 'sumido': 1, 'allá': 2, 'acá': 1, 'confusas': 2, 'concierto': 1, 'desplaza': 2, 'irritación': 1, 'caballos': 3, 'marmitas': 1, 'desesperados': 2, 'carecen': 2, 'carne': 1, 'vuelven': 2, 'hablan': 2, 'murmuraciones': 2, 'lealtad': 3, 'faltas': 2, 'tropa': 2, 'franqueza': 1, 'expresión': 1, 'describen': 1, 'sentimientos': 2, 'verdaderos': 1, 'demasiados': 1, 'callejón': 1, 'ordenan': 1, 'otorgan': 3, 'constantes': 1, 'cumplir': 2, 'restablecer': 1, 'masa': 1, 'castigados': 1, 'rebelen': 1, 'contentos': 1, 'agotada': 1, 'autoridad': 2, 'terminar': 1, 'temiendo': 1, 'propios': 1, 'ineptitud': 1, 'colmo': 1, 'violento': 1, 'actitud': 1, 'conciliatoria': 1, 'tregua': 1, 'acuden': 1, 'demoran': 1, 'obstante': 1, 'observarlos': 1, 'abandonar': 1, 'preparando': 1, 'innecesaria': 1, 'reunir': 4, 'necesariamente': 1, 'consolidar': 1, 'superior': 1, 'ligera': 3, 'acabará': 1, 'aisladamente': 1, 'carece': 1, 'confías': 1, 'exclusivamente': 1, 'valorar': 1, 'posterior': 1, 'contiene': 1, 'caerás': 1, 'conseguido': 1, 'castiga': 1, 'difíciles': 5, 'obedecen': 1, 'obedecerán': 1, 'obtenido': 1, 'castigo': 1, 'empleados': 1, 'arrogantes': 1, 'imposible': 2, 'sentimiento': 1, 'subterráneo': 1, 'emplearlos': 1, 'corazones': 1, 'volverán': 2, 'vinculados': 1, 'aprecio': 1, 'relaja': 1, 'unifícalos': 2, 'dirígelos': 1, 'continua': 1, 'civilizado': 2, 'mándalos': 1, 'reglamentos': 1, 'humanidad': 2, 'evidentes': 1, 'consecuente': 1, 'sencilla': 1, 'aceptan': 1, 'cambiantes': 1, 'contradictorias': 1, 'clara': 1, 'consecuentes': 1, 'líder': 1, 'sencillas': 1, 'satisfacción': 1, 'recíproca': 1, 'justas': 1, 'razonables': 1, 'claras': 2, '10': 1, 'topología': 1, 'fáciles': 1, 'accidentados': 1, 'abiertos': 1, 'neutros': 1, 'algunos': 1, 'eligiendo': 1, 'libres': 1, 'tendrás': 2, 'soleadas': 1, 'transportar': 1, 'nuevo': 1, 'limitado': 1, 'jugará': 1, 'adelante': 1, 'tuya': 2, 'sigues': 1, 'desfavorable': 3, 'induciendo': 1, 'aprovechándote': 1, 'retírate': 2, 'aproveches': 1, 'neutro': 1, 'estrecho': 2, 'persíguelo': 1, 'ocuparlo': 2, 'accidentado': 1, 'soleados': 1, 'ocupado': 2, 'desventajosa': 1, 'encuentra': 1, 'provocarle': 1, 'igualada': 1, 'seis': 2, 'considerarlos': 1, 'responsabilidad': 3, 'principal': 2, 'entender': 2, 'configuraciones': 1, 'derrotados': 3, 'derrumban': 1, 'derrotadas': 2, 'desastres': 1, 'rebelan': 1, 'retraen': 1, 'proporción': 1, 'retraídos': 1, 'desmoronará': 1, 'despecho': 1, 'apuros': 1, 'encolerizados': 1, 'violentos': 1, 'verán': 1, 'cooperar': 1, 'intención': 1, 'anárquicas': 1, 'solidez': 1, 'revuelta': 1, 'equipadas': 1, 'seleccionan': 1, 'niveles': 1, 'entran': 1, 'mismas': 1, 'calibrar': 3, 'preparación': 3, 'incapaces': 1, 'preparados': 1, 'arrojados': 1, 'timoratos': 1, 'seleccionar': 2, 'buscando': 1, 'empleas': 1, 'suprema': 1, 'comprensión': 1, 'consideradas': 1, 'sexta': 1, 'quinta': 1, 'resueltos': 1, 'pasión': 1, 'irracional': 1, 'cuarta': 1, 'claro': 1, 'insuficiencia': 1, 'sistema': 1, 'entrenamiento': 1, 'tercera': 1, 'primera': 1, 'ineficacia': 1, 'vencedores': 1, 'apoyo': 2, 'elementos': 1, 'luchan': 3, 'configuración': 2, 'curso': 1, 'conociendo': 1, 'calcular': 1, 'libran': 1, 'ignorándolos': 1, 'adecuado': 1, 'señalan': 1, 'dada': 1, 'proteger': 1, 'propósito': 1, 'entablar': 1, 'rinde': 1, 'valioso': 1, 'apropiado': 1, 'gloria': 1, 'único': 1, 'salvaguardar': 1, 'útiles': 2, 'auténtico': 1, 'talla': 1, 'personal': 2, 'interés': 2, 'recién': 1, 'mira': 1, 'morirán': 1, 'valles': 1, 'seguirte': 1, 'profundos': 1, 'estarán': 2, 'cuidas': 1, 'nacido': 1, 'gustosamente': 1, 'hijos': 1, 'miras': 1, 'queridos': 1, 'inservibles': 2, 'indulgente': 1, 'mimados': 1, 'niños': 2, 'amable': 1, 'disciplinarlos': 1, 'informal': 1, 'resentidas': 1, 'utilizarse': 3, 'confiarse': 2, 'mimosos': 1, 'acostumbran': 1, 'solamente': 1, 'disfrutar': 1, 'solas': 1, 'dañino': 1, 'probabilidades': 1, 'llevarlo': 1, 'invulnerable': 1, 'inagotable': 1, 'pierden': 2, 'debido': 1, '11': 1, 'intereses': 1, 'dispersión': 5, 'facilidad': 1, 'casa': 3, 'hogar': 1, 'apegados': 1, 'combaten': 1, 'dispersados': 1, 'profundidad': 3, 'ajeno': 3, 'ligero': 5, 'penetras': 3, 'fácilmente': 1, 'quien': 1, 'clave': 4, 'resultarte': 1, 'defensivo': 1, 'paso': 2, 'inevitable': 1, 'enclave': 1, 'comunicación': 6, 'igualmente': 1, 'libre': 1, 'acceso': 2, 'intersección': 5, 'uniéndolas': 1, 'corres': 1, 'principales': 1, 'ponerse': 1, 'pierdes': 2, 'convergen': 1, 'obtienes': 2, 'pueblos': 1, 'boscosas': 1, 'atravesar': 2, 'abruptos': 1, 'u': 1, 'cercado': 3, 'enemiga': 1, 'pequeña': 1, 'tortuosa': 1, 'barca': 1, 'ardiendo': 1, 'misma': 1, 'hunde': 1, 'encontraran': 1, 'cercados': 2, 'aprovisionado': 2, 'divididas': 1, 'marchando': 1, 'comunicaciones': 1, 'continúa': 1, 'dejes': 1, 'mortales': 2, 'introduce': 1, 'cubiertas': 1, 'huir': 1, 'concentradas': 1, 'penetrado': 1, 'mentes': 2, 'listos': 1, 'sorpresivas': 1, 'permitirse': 1, 'atrincherarte': 1, 'apresurarte': 1, 'encontrarás': 1, 'estarás': 1, 'caen': 1, 'espontánea': 3, 'sobrevivirán': 2, 'perdiera': 1, 'considerados': 1, 'retenían': 1, 'entraban': 1, 'mutuo': 1, 'coherencia': 1, 'recíproco': 1, 'alistamiento': 1, 'contacto': 3, 'gobernados': 1, 'diferentes': 3, 'introducían': 1, 'atacándolos': 1, 'sembrando': 1, 'aterrorizándolos': 1, 'aquí': 1, 'daban': 1, 'escucharán': 1, 'quitarles': 1, 'organizadas': 1, 'aprecien': 1, 'preguntar': 1, 'dirigen': 1, 'caminos': 2, 'aprovechándose': 1, 'desplazándose': 1, 'cautela': 1, 'servirán': 1, 'esos': 1, 'dudas': 2, 'visión': 1, 'expulsarlos': 1, 'invasión': 1, 'nativo': 2, 'adentran': 1, 'invasores': 2, 'insondables': 1, 'consolida': 2, 'comer': 1, 'escoge': 1, 'aumenta': 1, 'fértiles': 1, 'permaneciendo': 1, 'sobrantes': 1, 'insondable': 1, 'ahorra': 1, 'mantén': 2, 'produzca': 1, 'secreto': 3, 'dispuestas': 1, 'grave': 1, 'opción': 2, 'sitio': 2, '¿ante': 1, 'lucharán': 2, 'escapar': 1, 'implicados': 1, 'firmes': 1, 'alistan': 1, 'llamados': 1, 'promesas': 3, 'estimulados': 2, 'amistosos': 1, 'vigilantes': 1, 'alerta': 1, 'combatientes': 1, 'voluntad': 1, 'natural': 1, 'recibir': 1, 'rango': 1, 'jerarquía': 1, 'augurios': 1, 'abandonarán': 1, 'desdeñen': 1, 'riquezas': 1, 'lloran': 1, 'longevidad': 1, 'quieran': 1, 'prohibe': 1, 'serpiente': 2, 'alguien': 1, 'cola': 2, 'contraataca': 1, 'imagen': 1, 'arremeta': 1, 'cabezas': 1, 'clásicas': 1, 'responde': 1, 'cuatro': 1, 'colas': 1, 'centro': 1, 'acudirán': 1, 'ocho': 1, 'manual': 1, 'velozmente': 1, 'atacada': 1, 'representa': 1, 'afirmativa': 1, 'preguntarse': 1, 'antipatía': 1, 'barco': 1, 'zozobrar': 1, 'encontrándose': 1, 'ayudarán': 1, 'suceda': 1, 'ruedas': 2, 'atados': 1, 'depositar': 1, 'basta': 2, 'fijadas': 1, 'permitir': 1, 'combatan': 1, 'obtención': 1, 'fijan': 1, 'atan': 1, 'ayuden': 1, 'formar': 1, 'suficientemente': 1, 'estable': 1, 'codo': 1, 'poniendo': 2, 'cierta': 1, 'aun': 1, 'mantenerlo': 1, 'exprese': 1, 'aguerridas': 2, 'ligeras': 1, 'ambas': 1, '¿cuánto': 1, 'poderosas': 1, 'sería': 1, 'cooperación': 1, 'individuo': 1, 'logran': 1, 'corresponde': 1, 'justo': 2, 'metódico': 2, 'tranquilo': 1, 'tomarlo': 2, 'secretos': 1, 'tranquilos': 1, 'descubrirlos': 1, 'absolutamente': 1, 'ignorancia': 1, 'emplazamiento': 1, 'revisa': 1, 'sinuosos': 1, 'reconocerlos': 1, 'anticiparse': 1, 'intenciones': 3, 'adónde': 1, 'valora': 1, 'sube': 1, 'meta': 1, 'interior': 2, 'escalera': 1, 'potencial': 1, 'adentra': 1, 'empieza': 1, 'hombre': 1, 'fija': 1, 'sigan': 1, 'casas': 1, 'destruir': 1, 'encaminan': 1, 'rebaño': 1, 'quemar': 2, 'naves': 1, 'incumbe': 1, 'peligrosas': 1, 'concentrarse': 1, 'dispersarse': 2, 'humanas': 1, 'pautas': 2, 'ponerlos': 1, 'adaptaciones': 1, 'humanos': 1, 'cambian': 1, 'desventajas': 1, 'tipos': 1, 'comportamientos': 1, 'tienden': 1, 'hallas': 1, 'fronterizas': 1, 'frontera': 1, 'franjas': 1, 'unirse': 1, 'pauta': 1, 'adentras': 1, 'espesuras': 1, 'hallen': 1, 'pasajes': 1, 'entradas': 1, 'mis': 1, 'prestaría': 1, 'continuados': 1, 'haría': 1, 'cerraría': 1, 'indicaría': 1, 'mantendría': 1, 'unificaría': 1, 'establecería': 1, 'urgiría': 1, 'aseguraría': 1, 'sólidas': 1, 'apresurarse': 1, 'obedecer': 1, 'resistir': 2, 'rodeados': 2, 'extremos': 1, 'psicología': 1, 'determinación': 1, 'unificada': 1, 'presentan': 1, 'eficaz': 3, 'sobrepasa': 1, 'indefenso': 1, 'suficientes': 1, 'encuentre': 1, 'aprovéchate': 1, 'detenerte': 1, 'extiendes': 1, 'aumentas': 1, 'amenazando': 1, 'desacostumbradas': 1, 'reguladas': 1, 'otorga': 1, 'otorgar': 1, 'observa': 1, 'precedentes': 1, 'códigos': 1, 'tareas': 1, 'maneja': 1, 'perjuicios': 1, 'reales': 1, 'motívalas': 1, 'comentes': 1, 'empléalas': 1, 'hables': 2, 'temerosos': 1, 'hundirse': 1, 'verdad': 2, 'déjales': 1, 'potenciales': 1, 'filtra': 1, 'comunicarles': 1, 'preocuparse': 1, 'exterminio': 1, 'peligros': 1, 'colócalos': 1, 'afrontan': 1, 'ponles': 1, 'acomodarse': 1, 'tarea': 1, 'acomodas': 1, 'declara': 1, 'salvoconductos': 1, 'impide': 1, 'planificar': 1, 'rigurosamente': 1, 'deciden': 1, 'cuartel': 1, 'comienza': 1, 'fase': 1, 'mantenimiento': 1, 'rigor': 1, 'cuarteles': 1, 'aprovéchalas': 1, 'anticípate': 1, 'adáptate': 1, 'entérate': 1, 'pretende': 1, 'expulsarte': 1, 'abre': 1, 'doncella': 1, 'liebre': 1, '12': 1, 'equipo': 1, 'almacenes': 1, 'adecuados': 1, 'exige': 1, 'uso': 1, 'seco': 1, 'ventoso': 1, 'encender': 1, 'ciertos': 1, 'momentos': 1, 'concretamente': 1, 'normalmente': 1, 'declarado': 1, 'producidos': 1, 'álgido': 1, 'síguelo': 1, 'alcance': 1, 'mantienen': 1, 'seguir': 1, 'atacarle': 1, 'sembrar': 1, 'esperes': 1, 'prendido': 1, 'oportuno': 1, 'atizado': 1, 'contraria': 1, 'amainará': 1, 'soplado': 1, 'diurno': 1, 'amanecer': 1, 'nocturno': 1, 'anochecer': 1, 'cesará': 1, 'ataquen': 1, 'claridad': 1, 'apoyar': 1, 'arrasar': 1, 'incomunicar': 1, 'fortalezca': 1, 'desuna': 1, 'avaro': 1, 'méritos': 1, 'recompensar': 1, 'llamado': 1, 'merecedor': 1, 'fortuna': 1, 'combatiendo': 1, 'esclarecido': 2, 'peligroso': 1, 'pena': 1, 'razones': 1, 'indispensable': 1, 'desastrosa': 1, 'insignificantes': 1, 'asunto': 5, 'vale': 1, 'augurio': 1, 'remedio': 1, 'ira': 2, 'destruido': 1, 'renacer': 1, 'convertirse': 2, 'presta': 1, 'desiste': 1, 'placer': 1, 'alegría': 1, 'hacérsele': 1, '13': 1, 'discordia': 1, 'concordia': 1, 'inhumano': 1, 'consejero': 1, 'triunfos': 1, 'economizar': 1, 'jefe': 1, 'durar': 1, 'fallar': 1, 'aprobar': 1, 'extraordinarios': 1, 'investigar': 1, 'años': 1, 'típico': 1, 'posibilita': 1, 'esfuerzo': 1, 'obtenerse': 1, 'analogía': 1, 'previa': 1, 'liquidable': 1, 'flotante': 1, 'activos': 1, 'interno': 1, 'organizativo': 1, 'espía': 2, 'agente': 1, 'liquidables': 2, 'flotantes': 2, 'informes': 1, 'falsos': 1, 'agentes': 3, 'transmiten': 1, 'internos': 2, 'localidad': 1, 'contratan': 1, 'funcionarios': 2, 'datos': 1, 'traer': 1, 'dobles': 3, 'nativos': 2, 'trame': 1, 'aquéllos': 1, 'régimen': 1, 'desarmonía': 1, 'utilizados': 1, 'desavenencias': 1, 'sobornar': 1, 'tanta': 1, 'familiaridad': 1, 'espionaje': 5, 'renegados': 1, 'trabajar': 1, 'justicia': 1, 'sagacidad': 1, 'conocimiento': 3, 'sutileza': 1, 'delicado': 1, 'previo': 1, 'eliminarse': 1, 'divulgado': 1, 'informado': 1, 'centinelas': 1, 'averigüen': 1, 'identidad': 1, 'defienden': 1, 'visitantes': 1, 'criados': 1, 'aliados': 1, 'talentos': 1, 'inducirlos': 1, 'pasarse': 1, 'hayan': 1, 'venido': 1, 'espiarte': 1, 'contratarlos': 1, 'previstos': 1, 'utilizarlos': 1, 'sirviéndote': 1, 'fabricar': 1, 'sobornarlos': 1, 'depende': 1, 'inteligentes': 1, 'brillante': 1})\n"
     ]
    }
   ],
   "source": [
    "# Cantidad de veces quea aparece cada palabra en cada \"documento\"\n",
    "# (1 documento = 1 caso de entrada)\n",
    "print(tok.word_docs)"
   ]
  },
  {
   "cell_type": "markdown",
   "metadata": {
    "id": "uYfhWVLLzKVO"
   },
   "source": [
    "\n",
    "### Arquitectura del modelo"
   ]
  },
  {
   "cell_type": "code",
   "execution_count": null,
   "metadata": {
    "id": "5UXA5hQfWVX1"
   },
   "outputs": [
    {
     "name": "stderr",
     "output_type": "stream",
     "text": [
      "c:\\Users\\Usuario\\anaconda3\\envs\\test\\Lib\\site-packages\\keras\\src\\layers\\core\\embedding.py:93: UserWarning: Do not pass an `input_shape`/`input_dim` argument to a layer. When using Sequential models, prefer using an `Input(shape)` object as the first layer in the model instead.\n",
      "  super().__init__(**kwargs)\n"
     ]
    },
    {
     "data": {
      "text/html": [
       "<pre style=\"white-space:pre;overflow-x:auto;line-height:normal;font-family:Menlo,'DejaVu Sans Mono',consolas,'Courier New',monospace\"><span style=\"font-weight: bold\">Model: \"sequential_4\"</span>\n",
       "</pre>\n"
      ],
      "text/plain": [
       "\u001b[1mModel: \"sequential_4\"\u001b[0m\n"
      ]
     },
     "metadata": {},
     "output_type": "display_data"
    },
    {
     "data": {
      "text/html": [
       "<pre style=\"white-space:pre;overflow-x:auto;line-height:normal;font-family:Menlo,'DejaVu Sans Mono',consolas,'Courier New',monospace\">┏━━━━━━━━━━━━━━━━━━━━━━━━━━━━━━━━━┳━━━━━━━━━━━━━━━━━━━━━━━━┳━━━━━━━━━━━━━━━┓\n",
       "┃<span style=\"font-weight: bold\"> Layer (type)                    </span>┃<span style=\"font-weight: bold\"> Output Shape           </span>┃<span style=\"font-weight: bold\">       Param # </span>┃\n",
       "┡━━━━━━━━━━━━━━━━━━━━━━━━━━━━━━━━━╇━━━━━━━━━━━━━━━━━━━━━━━━╇━━━━━━━━━━━━━━━┩\n",
       "│ embedding_4 (<span style=\"color: #0087ff; text-decoration-color: #0087ff\">Embedding</span>)         │ (<span style=\"color: #00d7ff; text-decoration-color: #00d7ff\">None</span>, <span style=\"color: #00d7ff; text-decoration-color: #00d7ff\">None</span>, <span style=\"color: #00af00; text-decoration-color: #00af00\">200</span>)      │       <span style=\"color: #00af00; text-decoration-color: #00af00\">564,400</span> │\n",
       "├─────────────────────────────────┼────────────────────────┼───────────────┤\n",
       "│ lstm_8 (<span style=\"color: #0087ff; text-decoration-color: #0087ff\">LSTM</span>)                   │ (<span style=\"color: #00d7ff; text-decoration-color: #00d7ff\">None</span>, <span style=\"color: #00d7ff; text-decoration-color: #00d7ff\">None</span>, <span style=\"color: #00af00; text-decoration-color: #00af00\">75</span>)       │        <span style=\"color: #00af00; text-decoration-color: #00af00\">82,800</span> │\n",
       "├─────────────────────────────────┼────────────────────────┼───────────────┤\n",
       "│ dropout_8 (<span style=\"color: #0087ff; text-decoration-color: #0087ff\">Dropout</span>)             │ (<span style=\"color: #00d7ff; text-decoration-color: #00d7ff\">None</span>, <span style=\"color: #00d7ff; text-decoration-color: #00d7ff\">None</span>, <span style=\"color: #00af00; text-decoration-color: #00af00\">75</span>)       │             <span style=\"color: #00af00; text-decoration-color: #00af00\">0</span> │\n",
       "├─────────────────────────────────┼────────────────────────┼───────────────┤\n",
       "│ lstm_9 (<span style=\"color: #0087ff; text-decoration-color: #0087ff\">LSTM</span>)                   │ (<span style=\"color: #00d7ff; text-decoration-color: #00d7ff\">None</span>, <span style=\"color: #00af00; text-decoration-color: #00af00\">75</span>)             │        <span style=\"color: #00af00; text-decoration-color: #00af00\">45,300</span> │\n",
       "├─────────────────────────────────┼────────────────────────┼───────────────┤\n",
       "│ dropout_9 (<span style=\"color: #0087ff; text-decoration-color: #0087ff\">Dropout</span>)             │ (<span style=\"color: #00d7ff; text-decoration-color: #00d7ff\">None</span>, <span style=\"color: #00af00; text-decoration-color: #00af00\">75</span>)             │             <span style=\"color: #00af00; text-decoration-color: #00af00\">0</span> │\n",
       "├─────────────────────────────────┼────────────────────────┼───────────────┤\n",
       "│ batch_normalization_4           │ (<span style=\"color: #00d7ff; text-decoration-color: #00d7ff\">None</span>, <span style=\"color: #00af00; text-decoration-color: #00af00\">75</span>)             │           <span style=\"color: #00af00; text-decoration-color: #00af00\">300</span> │\n",
       "│ (<span style=\"color: #0087ff; text-decoration-color: #0087ff\">BatchNormalization</span>)            │                        │               │\n",
       "├─────────────────────────────────┼────────────────────────┼───────────────┤\n",
       "│ dense_8 (<span style=\"color: #0087ff; text-decoration-color: #0087ff\">Dense</span>)                 │ (<span style=\"color: #00d7ff; text-decoration-color: #00d7ff\">None</span>, <span style=\"color: #00af00; text-decoration-color: #00af00\">128</span>)            │         <span style=\"color: #00af00; text-decoration-color: #00af00\">9,728</span> │\n",
       "├─────────────────────────────────┼────────────────────────┼───────────────┤\n",
       "│ dense_9 (<span style=\"color: #0087ff; text-decoration-color: #0087ff\">Dense</span>)                 │ (<span style=\"color: #00d7ff; text-decoration-color: #00d7ff\">None</span>, <span style=\"color: #00af00; text-decoration-color: #00af00\">2822</span>)           │       <span style=\"color: #00af00; text-decoration-color: #00af00\">364,038</span> │\n",
       "└─────────────────────────────────┴────────────────────────┴───────────────┘\n",
       "</pre>\n"
      ],
      "text/plain": [
       "┏━━━━━━━━━━━━━━━━━━━━━━━━━━━━━━━━━┳━━━━━━━━━━━━━━━━━━━━━━━━┳━━━━━━━━━━━━━━━┓\n",
       "┃\u001b[1m \u001b[0m\u001b[1mLayer (type)                   \u001b[0m\u001b[1m \u001b[0m┃\u001b[1m \u001b[0m\u001b[1mOutput Shape          \u001b[0m\u001b[1m \u001b[0m┃\u001b[1m \u001b[0m\u001b[1m      Param #\u001b[0m\u001b[1m \u001b[0m┃\n",
       "┡━━━━━━━━━━━━━━━━━━━━━━━━━━━━━━━━━╇━━━━━━━━━━━━━━━━━━━━━━━━╇━━━━━━━━━━━━━━━┩\n",
       "│ embedding_4 (\u001b[38;5;33mEmbedding\u001b[0m)         │ (\u001b[38;5;45mNone\u001b[0m, \u001b[38;5;45mNone\u001b[0m, \u001b[38;5;34m200\u001b[0m)      │       \u001b[38;5;34m564,400\u001b[0m │\n",
       "├─────────────────────────────────┼────────────────────────┼───────────────┤\n",
       "│ lstm_8 (\u001b[38;5;33mLSTM\u001b[0m)                   │ (\u001b[38;5;45mNone\u001b[0m, \u001b[38;5;45mNone\u001b[0m, \u001b[38;5;34m75\u001b[0m)       │        \u001b[38;5;34m82,800\u001b[0m │\n",
       "├─────────────────────────────────┼────────────────────────┼───────────────┤\n",
       "│ dropout_8 (\u001b[38;5;33mDropout\u001b[0m)             │ (\u001b[38;5;45mNone\u001b[0m, \u001b[38;5;45mNone\u001b[0m, \u001b[38;5;34m75\u001b[0m)       │             \u001b[38;5;34m0\u001b[0m │\n",
       "├─────────────────────────────────┼────────────────────────┼───────────────┤\n",
       "│ lstm_9 (\u001b[38;5;33mLSTM\u001b[0m)                   │ (\u001b[38;5;45mNone\u001b[0m, \u001b[38;5;34m75\u001b[0m)             │        \u001b[38;5;34m45,300\u001b[0m │\n",
       "├─────────────────────────────────┼────────────────────────┼───────────────┤\n",
       "│ dropout_9 (\u001b[38;5;33mDropout\u001b[0m)             │ (\u001b[38;5;45mNone\u001b[0m, \u001b[38;5;34m75\u001b[0m)             │             \u001b[38;5;34m0\u001b[0m │\n",
       "├─────────────────────────────────┼────────────────────────┼───────────────┤\n",
       "│ batch_normalization_4           │ (\u001b[38;5;45mNone\u001b[0m, \u001b[38;5;34m75\u001b[0m)             │           \u001b[38;5;34m300\u001b[0m │\n",
       "│ (\u001b[38;5;33mBatchNormalization\u001b[0m)            │                        │               │\n",
       "├─────────────────────────────────┼────────────────────────┼───────────────┤\n",
       "│ dense_8 (\u001b[38;5;33mDense\u001b[0m)                 │ (\u001b[38;5;45mNone\u001b[0m, \u001b[38;5;34m128\u001b[0m)            │         \u001b[38;5;34m9,728\u001b[0m │\n",
       "├─────────────────────────────────┼────────────────────────┼───────────────┤\n",
       "│ dense_9 (\u001b[38;5;33mDense\u001b[0m)                 │ (\u001b[38;5;45mNone\u001b[0m, \u001b[38;5;34m2822\u001b[0m)           │       \u001b[38;5;34m364,038\u001b[0m │\n",
       "└─────────────────────────────────┴────────────────────────┴───────────────┘\n"
      ]
     },
     "metadata": {},
     "output_type": "display_data"
    },
    {
     "data": {
      "text/html": [
       "<pre style=\"white-space:pre;overflow-x:auto;line-height:normal;font-family:Menlo,'DejaVu Sans Mono',consolas,'Courier New',monospace\"><span style=\"font-weight: bold\"> Total params: </span><span style=\"color: #00af00; text-decoration-color: #00af00\">1,066,566</span> (4.07 MB)\n",
       "</pre>\n"
      ],
      "text/plain": [
       "\u001b[1m Total params: \u001b[0m\u001b[38;5;34m1,066,566\u001b[0m (4.07 MB)\n"
      ]
     },
     "metadata": {},
     "output_type": "display_data"
    },
    {
     "data": {
      "text/html": [
       "<pre style=\"white-space:pre;overflow-x:auto;line-height:normal;font-family:Menlo,'DejaVu Sans Mono',consolas,'Courier New',monospace\"><span style=\"font-weight: bold\"> Trainable params: </span><span style=\"color: #00af00; text-decoration-color: #00af00\">1,066,416</span> (4.07 MB)\n",
       "</pre>\n"
      ],
      "text/plain": [
       "\u001b[1m Trainable params: \u001b[0m\u001b[38;5;34m1,066,416\u001b[0m (4.07 MB)\n"
      ]
     },
     "metadata": {},
     "output_type": "display_data"
    },
    {
     "data": {
      "text/html": [
       "<pre style=\"white-space:pre;overflow-x:auto;line-height:normal;font-family:Menlo,'DejaVu Sans Mono',consolas,'Courier New',monospace\"><span style=\"font-weight: bold\"> Non-trainable params: </span><span style=\"color: #00af00; text-decoration-color: #00af00\">150</span> (600.00 B)\n",
       "</pre>\n"
      ],
      "text/plain": [
       "\u001b[1m Non-trainable params: \u001b[0m\u001b[38;5;34m150\u001b[0m (600.00 B)\n"
      ]
     },
     "metadata": {},
     "output_type": "display_data"
    }
   ],
   "source": [
    "# MODELO FINAL\n",
    "\n",
    "model = Sequential()\n",
    "\n",
    "model.add(Embedding(input_dim=vocab_size+1, output_dim=200, input_shape=(None,)))\n",
    "model.add(LSTM(75, return_sequences=True))  # Devuelve secuencias intermedias\n",
    "model.add(Dropout(0.4))\n",
    "model.add(LSTM(75, return_sequences=False))  # Solo la última salida\n",
    "model.add(Dropout(0.4))\n",
    "model.add(BatchNormalization())\n",
    "model.add(Dense(128, activation='tanh', kernel_regularizer=l2(1e-4)))\n",
    "\n",
    "# Salida de tamaño del vocabulario\n",
    "model.add(Dense(vocab_size+1, activation='softmax'))\n",
    "\n",
    "loss = SparseCategoricalCrossentropy()\n",
    "optimizer = RMSprop(learning_rate=1e-4)\n",
    "model.compile(loss=loss, optimizer=optimizer)\n",
    "\n",
    "# Early stopping and checkpointing\n",
    "early_stopping = EarlyStopping(monitor='val_loss', patience=3, restore_best_weights=True)\n",
    "#reduce_lr = ReduceLROnPlateau(monitor='val_loss', factor=0.5, patience=2, min_lr=1e-6, verbose=1)\n",
    "\n",
    "model.summary()\n"
   ]
  },
  {
   "cell_type": "markdown",
   "metadata": {
    "id": "8HBZIwR0gruA"
   },
   "source": [
    "### Entrenamiento del modelo"
   ]
  },
  {
   "cell_type": "code",
   "execution_count": 163,
   "metadata": {},
   "outputs": [
    {
     "name": "stdout",
     "output_type": "stream",
     "text": [
      "(11039, 54)\n",
      "(11039,)\n"
     ]
    }
   ],
   "source": [
    "print(X_train.shape)  # Debería ser (num_samples, sequence_length)\n",
    "print(y_train.shape)  # Debería ser (num_samples, sequence_length)"
   ]
  },
  {
   "cell_type": "code",
   "execution_count": 164,
   "metadata": {
    "id": "oQq1PHDkxDvN"
   },
   "outputs": [
    {
     "name": "stdout",
     "output_type": "stream",
     "text": [
      "Epoch 1/50\n",
      "\u001b[1m173/173\u001b[0m \u001b[32m━━━━━━━━━━━━━━━━━━━━\u001b[0m\u001b[37m\u001b[0m \u001b[1m10s\u001b[0m 44ms/step - loss: 7.9512 - val_loss: 7.9372\n",
      "Epoch 2/50\n",
      "\u001b[1m173/173\u001b[0m \u001b[32m━━━━━━━━━━━━━━━━━━━━\u001b[0m\u001b[37m\u001b[0m \u001b[1m9s\u001b[0m 50ms/step - loss: 7.9240 - val_loss: 7.9137\n",
      "Epoch 3/50\n",
      "\u001b[1m173/173\u001b[0m \u001b[32m━━━━━━━━━━━━━━━━━━━━\u001b[0m\u001b[37m\u001b[0m \u001b[1m8s\u001b[0m 46ms/step - loss: 7.8866 - val_loss: 7.8834\n",
      "Epoch 4/50\n",
      "\u001b[1m173/173\u001b[0m \u001b[32m━━━━━━━━━━━━━━━━━━━━\u001b[0m\u001b[37m\u001b[0m \u001b[1m7s\u001b[0m 38ms/step - loss: 7.8269 - val_loss: 7.8622\n",
      "Epoch 5/50\n",
      "\u001b[1m173/173\u001b[0m \u001b[32m━━━━━━━━━━━━━━━━━━━━\u001b[0m\u001b[37m\u001b[0m \u001b[1m7s\u001b[0m 38ms/step - loss: 7.7154 - val_loss: 7.7453\n",
      "Epoch 6/50\n",
      "\u001b[1m173/173\u001b[0m \u001b[32m━━━━━━━━━━━━━━━━━━━━\u001b[0m\u001b[37m\u001b[0m \u001b[1m7s\u001b[0m 38ms/step - loss: 7.5054 - val_loss: 7.3759\n",
      "Epoch 7/50\n",
      "\u001b[1m173/173\u001b[0m \u001b[32m━━━━━━━━━━━━━━━━━━━━\u001b[0m\u001b[37m\u001b[0m \u001b[1m7s\u001b[0m 41ms/step - loss: 7.2052 - val_loss: 7.1300\n",
      "Epoch 8/50\n",
      "\u001b[1m173/173\u001b[0m \u001b[32m━━━━━━━━━━━━━━━━━━━━\u001b[0m\u001b[37m\u001b[0m \u001b[1m6s\u001b[0m 37ms/step - loss: 6.9259 - val_loss: 6.8518\n",
      "Epoch 9/50\n",
      "\u001b[1m173/173\u001b[0m \u001b[32m━━━━━━━━━━━━━━━━━━━━\u001b[0m\u001b[37m\u001b[0m \u001b[1m7s\u001b[0m 38ms/step - loss: 6.7799 - val_loss: 6.7050\n",
      "Epoch 10/50\n",
      "\u001b[1m173/173\u001b[0m \u001b[32m━━━━━━━━━━━━━━━━━━━━\u001b[0m\u001b[37m\u001b[0m \u001b[1m6s\u001b[0m 37ms/step - loss: 6.6121 - val_loss: 6.4870\n",
      "Epoch 11/50\n",
      "\u001b[1m173/173\u001b[0m \u001b[32m━━━━━━━━━━━━━━━━━━━━\u001b[0m\u001b[37m\u001b[0m \u001b[1m7s\u001b[0m 41ms/step - loss: 6.3906 - val_loss: 6.3515\n",
      "Epoch 12/50\n",
      "\u001b[1m173/173\u001b[0m \u001b[32m━━━━━━━━━━━━━━━━━━━━\u001b[0m\u001b[37m\u001b[0m \u001b[1m7s\u001b[0m 40ms/step - loss: 6.2748 - val_loss: 6.3006\n",
      "Epoch 13/50\n",
      "\u001b[1m173/173\u001b[0m \u001b[32m━━━━━━━━━━━━━━━━━━━━\u001b[0m\u001b[37m\u001b[0m \u001b[1m7s\u001b[0m 39ms/step - loss: 6.1894 - val_loss: 6.2829\n",
      "Epoch 14/50\n",
      "\u001b[1m173/173\u001b[0m \u001b[32m━━━━━━━━━━━━━━━━━━━━\u001b[0m\u001b[37m\u001b[0m \u001b[1m7s\u001b[0m 39ms/step - loss: 6.1233 - val_loss: 6.2632\n",
      "Epoch 15/50\n",
      "\u001b[1m173/173\u001b[0m \u001b[32m━━━━━━━━━━━━━━━━━━━━\u001b[0m\u001b[37m\u001b[0m \u001b[1m7s\u001b[0m 41ms/step - loss: 6.1055 - val_loss: 6.2624\n",
      "Epoch 16/50\n",
      "\u001b[1m173/173\u001b[0m \u001b[32m━━━━━━━━━━━━━━━━━━━━\u001b[0m\u001b[37m\u001b[0m \u001b[1m7s\u001b[0m 38ms/step - loss: 6.0944 - val_loss: 6.2593\n",
      "Epoch 17/50\n",
      "\u001b[1m173/173\u001b[0m \u001b[32m━━━━━━━━━━━━━━━━━━━━\u001b[0m\u001b[37m\u001b[0m \u001b[1m7s\u001b[0m 38ms/step - loss: 6.0259 - val_loss: 6.2578\n",
      "Epoch 18/50\n",
      "\u001b[1m173/173\u001b[0m \u001b[32m━━━━━━━━━━━━━━━━━━━━\u001b[0m\u001b[37m\u001b[0m \u001b[1m7s\u001b[0m 40ms/step - loss: 6.0326 - val_loss: 6.2602\n",
      "Epoch 19/50\n",
      "\u001b[1m173/173\u001b[0m \u001b[32m━━━━━━━━━━━━━━━━━━━━\u001b[0m\u001b[37m\u001b[0m \u001b[1m7s\u001b[0m 40ms/step - loss: 6.0119 - val_loss: 6.2628\n",
      "Epoch 20/50\n",
      "\u001b[1m173/173\u001b[0m \u001b[32m━━━━━━━━━━━━━━━━━━━━\u001b[0m\u001b[37m\u001b[0m \u001b[1m7s\u001b[0m 39ms/step - loss: 5.9982 - val_loss: 6.2606\n"
     ]
    }
   ],
   "source": [
    "# fiteamos, nótese el agregado del callback con su inicialización. El batch_size lo podemos seleccionar a mano\n",
    "# en general, lo mejor es escoger el batch más grande posible que minimice el tiempo de cada época.\n",
    "# En la variable `history_ppl` se guardarán los valores de perplejidad para cada época.\n",
    "# history_ppl = [] FLAG BORRAR\n",
    "hist = model.fit(X_train, y_train,\n",
    "                 validation_data=(X_val, y_val),\n",
    "                 epochs=50, \n",
    "                 callbacks=[early_stopping],\n",
    "                 batch_size=64)"
   ]
  },
  {
   "cell_type": "code",
   "execution_count": 165,
   "metadata": {
    "id": "K30JHB3Dv-mx"
   },
   "outputs": [
    {
     "data": {
      "image/png": "[encoded data removed]",
      "text/plain": [
       "<Figure size 640x480 with 1 Axes>"
      ]
     },
     "metadata": {},
     "output_type": "display_data"
    }
   ],
   "source": [
    "import matplotlib.pyplot as plt\n",
    "import seaborn as sns\n",
    "\n",
    "'''\n",
    "# Podemos graficar la evolución de la perplejidad con las épocas.\n",
    "# Recordar que el valor de perplejidad del modelo trivial es el tamaño del vocabulario.\n",
    "epoch_count = range(1, len(history_ppl) + 1)\n",
    "sns.lineplot(x=epoch_count,  y=history_ppl)\n",
    "plt.show()\n",
    "'''\n",
    "\n",
    "\n",
    "# Graficamos perplejidad:\n",
    "# Calcula la perplejidad para entrenamiento y validación usando el historial de pérdidas\n",
    "train_perplexities = np.exp(hist.history['loss'])\n",
    "val_perplexities = np.exp(hist.history['val_loss'])\n",
    "\n",
    "# Graficar la perplejidad\n",
    "plt.plot(train_perplexities, label='Perplejidad de entrenamiento')\n",
    "plt.plot(val_perplexities, label='Perplejidad de validación')\n",
    "plt.xlabel(\"Épocas\")\n",
    "plt.ylabel(\"Perplejidad\")\n",
    "plt.legend()\n",
    "plt.title(\"Perplejidad durante el Entrenamiento\")\n",
    "plt.grid()\n",
    "plt.show()"
   ]
  },
  {
   "cell_type": "markdown",
   "metadata": {},
   "source": [
    "Al graficar la perplejidad, se pueden observar varios puntos interesantes:\n",
    "-   En las primeras 5 épocas, tanto la perplejidad del conjunto de entrenamiento como la de validación disminuyen rápidamente. Esto indica que el modelo está aprendiendo patrones significativos en los datos.\n",
    "- Las curvas de entrenamiento y validación están muy cerca durante todo el entrenamiento, lo que indica que el modelo no está sobreajustando y generaliza bien a los datos de validación.\n",
    "- Después de la época 10, la perplejidad se estabiliza para ambos conjuntos. Esto podría indicar que el modelo ha alcanzado un punto de saturación en términos de aprendizaje y que entrenar por más épocas no resultará en mejoras significativas (por eso también se aplica el early stopping).\n",
    "- La diferencia entre las perplejidades de entrenamiento y validación es muy pequeña, lo que indica un buen equilibrio entre ajuste y generalización.\n",
    "\n",
    "De acuerdo a todo lo anterior, se podría decir que el modelo está teniendo un buen desempeño."
   ]
  },
  {
   "cell_type": "markdown",
   "metadata": {
    "id": "mCeMWWupxN1-"
   },
   "source": [
    "### Generación de secuencias"
   ]
  },
  {
   "cell_type": "code",
   "execution_count": null,
   "metadata": {
    "id": "bwbS_pfhxvB3"
   },
   "outputs": [],
   "source": [
    "def generate_seq(model, tokenizer, seed_text, max_length, n_words, temperature=0.8):\n",
    "    output_text = seed_text\n",
    "    for _ in range(n_words):\n",
    "        # Codificar el texto\n",
    "        encoded = tokenizer.texts_to_sequences([output_text])[0]\n",
    "        encoded = pad_sequences([encoded], maxlen=max_length, padding='pre')\n",
    "\n",
    "        # Predicción con temperatura ajustada\n",
    "        probs = model.predict(encoded)[0]\n",
    "        probs = np.exp(probs / temperature) / np.sum(np.exp(probs / temperature))  # Temperatura ajustada\n",
    "        y_hat = np.random.choice(len(probs), p=probs)\n",
    "\n",
    "        # Palabra correspondiente al índice predicho\n",
    "        out_word = next((word for word, index in tokenizer.word_index.items() if index == y_hat), None)\n",
    "\n",
    "        # Si no se encuentra la palabra, se detiene\n",
    "        if not out_word:\n",
    "            break\n",
    "\n",
    "        # Restricción para evitar palabras repetidas consecutivamente\n",
    "        # (para ajustar secuencia de mismas palabras x ej. \"de de\")\n",
    "        if out_word in output_text.split()[-1:]:\n",
    "            continue\n",
    "\n",
    "        # Agregar la palabra al texto generado\n",
    "        output_text += ' ' + out_word\n",
    "\n",
    "    # Limpieza de repeticiones consecutivas\n",
    "    output_text = ' '.join([word for i, word in enumerate(output_text.split()) if i == 0 or word != output_text.split()[i-1]])\n",
    "    \n",
    "    return output_text\n"
   ]
  },
  {
   "cell_type": "code",
   "execution_count": null,
   "metadata": {
    "id": "JoFqRC5pxzqS"
   },
   "outputs": [
    {
     "name": "stdout",
     "output_type": "stream",
     "text": [
      "\u001b[1m1/1\u001b[0m \u001b[32m━━━━━━━━━━━━━━━━━━━━\u001b[0m\u001b[37m\u001b[0m \u001b[1m0s\u001b[0m 22ms/step\n",
      "\u001b[1m1/1\u001b[0m \u001b[32m━━━━━━━━━━━━━━━━━━━━\u001b[0m\u001b[37m\u001b[0m \u001b[1m0s\u001b[0m 20ms/step\n",
      "\u001b[1m1/1\u001b[0m \u001b[32m━━━━━━━━━━━━━━━━━━━━\u001b[0m\u001b[37m\u001b[0m \u001b[1m0s\u001b[0m 21ms/step\n",
      "\u001b[1m1/1\u001b[0m \u001b[32m━━━━━━━━━━━━━━━━━━━━\u001b[0m\u001b[37m\u001b[0m \u001b[1m0s\u001b[0m 21ms/step\n",
      "\u001b[1m1/1\u001b[0m \u001b[32m━━━━━━━━━━━━━━━━━━━━\u001b[0m\u001b[37m\u001b[0m \u001b[1m0s\u001b[0m 21ms/step\n",
      "\u001b[1m1/1\u001b[0m \u001b[32m━━━━━━━━━━━━━━━━━━━━\u001b[0m\u001b[37m\u001b[0m \u001b[1m0s\u001b[0m 19ms/step\n",
      "\u001b[1m1/1\u001b[0m \u001b[32m━━━━━━━━━━━━━━━━━━━━\u001b[0m\u001b[37m\u001b[0m \u001b[1m0s\u001b[0m 18ms/step\n",
      "\u001b[1m1/1\u001b[0m \u001b[32m━━━━━━━━━━━━━━━━━━━━\u001b[0m\u001b[37m\u001b[0m \u001b[1m0s\u001b[0m 23ms/step\n",
      "\u001b[1m1/1\u001b[0m \u001b[32m━━━━━━━━━━━━━━━━━━━━\u001b[0m\u001b[37m\u001b[0m \u001b[1m0s\u001b[0m 17ms/step\n",
      "\u001b[1m1/1\u001b[0m \u001b[32m━━━━━━━━━━━━━━━━━━━━\u001b[0m\u001b[37m\u001b[0m \u001b[1m0s\u001b[0m 21ms/step\n"
     ]
    },
    {
     "data": {
      "text/plain": [
       "'las armas son instrumentos de confidencial sin oportunidad ojos concordia daño acorralar planicie beben trata'"
      ]
     },
     "execution_count": 419,
     "metadata": {},
     "output_type": "execute_result"
    }
   ],
   "source": [
    "input_text='las armas son instrumentos de'\n",
    "\n",
    "generate_seq(model, tok, input_text, max_length=max_context_size, n_words=10, temperature=0.8)"
   ]
  },
  {
   "cell_type": "markdown",
   "metadata": {},
   "source": [
    "En este caso el modelo genera secuencias conservadoras, seleccionando palabras con mayor probabilidad en la distribución (si bien no tiene mayor sentido).\n",
    "\n",
    "En el siguiente caso vamos a aumentar la temperatura, para ver el efecto que tiene sobre la generación de secuencias."
   ]
  },
  {
   "cell_type": "code",
   "execution_count": 424,
   "metadata": {},
   "outputs": [
    {
     "name": "stdout",
     "output_type": "stream",
     "text": [
      "\u001b[1m1/1\u001b[0m \u001b[32m━━━━━━━━━━━━━━━━━━━━\u001b[0m\u001b[37m\u001b[0m \u001b[1m0s\u001b[0m 19ms/step\n",
      "\u001b[1m1/1\u001b[0m \u001b[32m━━━━━━━━━━━━━━━━━━━━\u001b[0m\u001b[37m\u001b[0m \u001b[1m0s\u001b[0m 14ms/step\n",
      "\u001b[1m1/1\u001b[0m \u001b[32m━━━━━━━━━━━━━━━━━━━━\u001b[0m\u001b[37m\u001b[0m \u001b[1m0s\u001b[0m 24ms/step\n",
      "\u001b[1m1/1\u001b[0m \u001b[32m━━━━━━━━━━━━━━━━━━━━\u001b[0m\u001b[37m\u001b[0m \u001b[1m0s\u001b[0m 21ms/step\n",
      "\u001b[1m1/1\u001b[0m \u001b[32m━━━━━━━━━━━━━━━━━━━━\u001b[0m\u001b[37m\u001b[0m \u001b[1m0s\u001b[0m 23ms/step\n",
      "\u001b[1m1/1\u001b[0m \u001b[32m━━━━━━━━━━━━━━━━━━━━\u001b[0m\u001b[37m\u001b[0m \u001b[1m0s\u001b[0m 24ms/step\n",
      "\u001b[1m1/1\u001b[0m \u001b[32m━━━━━━━━━━━━━━━━━━━━\u001b[0m\u001b[37m\u001b[0m \u001b[1m0s\u001b[0m 39ms/step\n",
      "\u001b[1m1/1\u001b[0m \u001b[32m━━━━━━━━━━━━━━━━━━━━\u001b[0m\u001b[37m\u001b[0m \u001b[1m0s\u001b[0m 18ms/step\n",
      "\u001b[1m1/1\u001b[0m \u001b[32m━━━━━━━━━━━━━━━━━━━━\u001b[0m\u001b[37m\u001b[0m \u001b[1m0s\u001b[0m 23ms/step\n",
      "\u001b[1m1/1\u001b[0m \u001b[32m━━━━━━━━━━━━━━━━━━━━\u001b[0m\u001b[37m\u001b[0m \u001b[1m0s\u001b[0m 23ms/step\n"
     ]
    },
    {
     "data": {
      "text/plain": [
       "'cuando un país se empobrece a causa de flanco nación obtener contradictorias estás especial empiezan insondable naturales nada'"
      ]
     },
     "execution_count": 424,
     "metadata": {},
     "output_type": "execute_result"
    }
   ],
   "source": [
    "input_text='cuando un país se empobrece a causa de'\n",
    "\n",
    "generate_seq(model, tok, input_text, max_length=max_context_size, n_words=10, temperature=1.5)"
   ]
  },
  {
   "cell_type": "markdown",
   "metadata": {},
   "source": [
    "En este caso, el modelo genera secuencias con mayor variabilidad. La probabilidad de seleccionar palabras menos probables aumenta, lo que introduce términos inusuales o incoherentes en el texto y por lo tanto el mismo tiene poca coherencia y parece más aleatorio.\n",
    "\n",
    "Se evidencia que al aumentar la temperatura, el modelo da prioridad a explorar posibilidades más diversas pero menos fiables.\n"
   ]
  },
  {
   "cell_type": "markdown",
   "metadata": {
    "id": "drJ6xn5qW1Hl"
   },
   "source": [
    "###  Beam search y muestreo aleatorio"
   ]
  },
  {
   "cell_type": "code",
   "execution_count": 425,
   "metadata": {
    "id": "_vovn9XZW1Hl"
   },
   "outputs": [],
   "source": [
    "# Funcionalidades para hacer encoding y decoding\n",
    "\n",
    "def encode(text,max_length=max_context_size):\n",
    "\n",
    "    encoded = tok.texts_to_sequences([text])[0]\n",
    "    encoded = pad_sequences([encoded], maxlen=max_length, padding='pre')\n",
    "\n",
    "    return encoded\n",
    "\n",
    "def decode(seq):\n",
    "    return tok.sequences_to_texts([seq])"
   ]
  },
  {
   "cell_type": "code",
   "execution_count": null,
   "metadata": {
    "id": "I_lZiQwkW1Hl"
   },
   "outputs": [],
   "source": [
    "from scipy.special import softmax\n",
    "\n",
    "# Función que selecciona candidatos para el beam search\n",
    "def select_candidates(pred, num_beams, vocab_size, history_probs, history_tokens, temp, mode):\n",
    "    # Colecta todas las probabilidades para la siguiente búsqueda\n",
    "    pred_large = []\n",
    "\n",
    "    for idx, pp in enumerate(pred):\n",
    "        pred_large.extend(np.log(pp + 1E-10) + history_probs[idx])\n",
    "\n",
    "    pred_large = np.array(pred_large)\n",
    "\n",
    "    # Penalización para palabras repetidas\n",
    "    for token_seq in history_tokens:\n",
    "        for token in token_seq:\n",
    "            pred_large[token] -= 0.1  \n",
    "\n",
    "    # Criterio de selección\n",
    "    if mode == 'det':\n",
    "        idx_select = np.argsort(pred_large)[::-1][:num_beams]  # Beam search determinista\n",
    "    elif mode == 'sto':\n",
    "        idx_select = np.random.choice(\n",
    "            np.arange(pred_large.shape[0]),\n",
    "            num_beams,\n",
    "            p=softmax(pred_large / temp)\n",
    "        )  # Beam search con muestreo aleatorio\n",
    "    else:\n",
    "        raise ValueError(f'Wrong selection mode. {mode} was given. det and sto are supported.')\n",
    "\n",
    "    # Traducir a índices de token en el vocabulario\n",
    "    new_history_tokens = np.concatenate(\n",
    "        (np.array(history_tokens)[idx_select // vocab_size], np.array([idx_select % vocab_size]).T),\n",
    "        axis=1\n",
    "    )\n",
    "\n",
    "    # Devolver el producto de las probabilidades (log) y la secuencia de tokens seleccionados\n",
    "    return pred_large[idx_select.astype(int)], new_history_tokens.astype(int)\n",
    "\n",
    "\n",
    "def beam_search(model,num_beams,num_words,input,temp=1,mode='det'):\n",
    "\n",
    "    # first iteration\n",
    "\n",
    "    # encode\n",
    "    encoded = encode(input)\n",
    "\n",
    "    # first prediction\n",
    "    y_hat = model.predict(encoded,verbose=0)[0]\n",
    "\n",
    "    # get vocabulary size\n",
    "    vocab_size = y_hat.shape[0]\n",
    "\n",
    "    # initialize history\n",
    "    history_probs = [0]*num_beams\n",
    "    history_tokens = [encoded[0]]*num_beams\n",
    "\n",
    "    # select num_beams candidates\n",
    "    history_probs, history_tokens = select_candidates([y_hat],\n",
    "                                        num_beams,\n",
    "                                        vocab_size,\n",
    "                                        history_probs,\n",
    "                                        history_tokens,\n",
    "                                        temp,\n",
    "                                        mode)\n",
    "\n",
    "    # beam search loop\n",
    "    for i in range(num_words-1):\n",
    "\n",
    "      preds = []\n",
    "\n",
    "      for hist in history_tokens:\n",
    "\n",
    "        # actualizar secuencia de tokens\n",
    "        input_update = np.array([hist[i+1:]]).copy()\n",
    "\n",
    "        # predicción\n",
    "        y_hat = model.predict(input_update,verbose=0)[0]\n",
    "\n",
    "        preds.append(y_hat)\n",
    "\n",
    "      history_probs, history_tokens = select_candidates(preds,\n",
    "                                                        num_beams,\n",
    "                                                        vocab_size,\n",
    "                                                        history_probs,\n",
    "                                                        history_tokens,\n",
    "                                                        temp,\n",
    "                                                        mode)\n",
    "\n",
    "    return history_tokens"
   ]
  },
  {
   "cell_type": "code",
   "execution_count": null,
   "metadata": {
    "id": "GeLqAoOYW1Hm"
   },
   "outputs": [],
   "source": [
    "# Predicción con beam search.\n",
    "\n",
    "salidas = beam_search(model,num_beams=10,\n",
    "                      num_words=4,\n",
    "                      input=\"una vez comenzada la batalla\",\n",
    "                      temp=0.5,\n",
    "                      mode='sto')"
   ]
  },
  {
   "cell_type": "code",
   "execution_count": null,
   "metadata": {
    "id": "2S3_I3S1W1Hm"
   },
   "outputs": [
    {
     "name": "stdout",
     "output_type": "stream",
     "text": [
      "['una vez comenzada la batalla de de y terrenos']\n",
      "['una vez comenzada la batalla de de y verdadera']\n",
      "['una vez comenzada la batalla de de el la']\n",
      "['una vez comenzada la batalla de las el espuma']\n",
      "['una vez comenzada la batalla y de de y']\n",
      "['una vez comenzada la batalla y de de ocupar']\n",
      "['una vez comenzada la batalla de de y victoria']\n",
      "['una vez comenzada la batalla de de y persistencia']\n",
      "['una vez comenzada la batalla de y un destaca']\n",
      "['una vez comenzada la batalla de y la cuando']\n"
     ]
    }
   ],
   "source": [
    "# Vemos las salidas\n",
    "\n",
    "for i in range(0,len(salidas)):\n",
    "\n",
    "        print(decode(salidas[i]))"
   ]
  },
  {
   "cell_type": "markdown",
   "metadata": {
    "id": "Q_LlqmtEW1Hn"
   },
   "source": [
    "Muchas salidas contienen términos repetitivos como \"de de\" o \"de y\", lo que podría indicar que el modelo tiene dificultades para evitar redundancias, incluso con penalización\n",
    "\n",
    "Cuando se baja la temperatura, el modelo favorece palabras de mayor probabilidad, lo que resulta en menos diversidad (aunque las secuencias generadas tienen pequeñas variaciones, las opciones tienden a ser similares) y más coherencia semántica. Sin embargo, esta coherencia es limitada porque no logra generar texto completamente fluido y natural.\n",
    "\n",
    "Ahora probamos aumentando la temperatura, y con una secuencia distinta."
   ]
  },
  {
   "cell_type": "code",
   "execution_count": 471,
   "metadata": {},
   "outputs": [],
   "source": [
    "salidas = beam_search(model,num_beams=10,\n",
    "                      num_words=4,\n",
    "                      input=\"cuando se agotan los recursos\",\n",
    "                      temp=3,\n",
    "                      mode='sto')"
   ]
  },
  {
   "cell_type": "code",
   "execution_count": 472,
   "metadata": {},
   "outputs": [
    {
     "name": "stdout",
     "output_type": "stream",
     "text": [
      "['cuando se agotan los recursos falsa hacían suficientes contradictorias']\n",
      "['cuando se agotan los recursos cuarta a ajustar retrocede']\n",
      "['cuando se agotan los recursos cuarta a ajustar antiguo']\n",
      "['cuando se agotan los recursos mismo así metódico punto']\n",
      "['cuando se agotan los recursos mismo así metódico aprovecharte']\n",
      "['cuando se agotan los recursos cuarta a faltas rodéalo']\n",
      "['cuando se agotan los recursos mismo así metódico cuando']\n",
      "['cuando se agotan los recursos mismo así metódico voluntad']\n",
      "['cuando se agotan los recursos cuarta a ajustar fuegos']\n",
      "['cuando se agotan los recursos cuarta a faltas accidentado']\n"
     ]
    }
   ],
   "source": [
    "# veamos las salidas\n",
    "\n",
    "for i in range(0,len(salidas)):\n",
    "\n",
    "        print(decode(salidas[i]))"
   ]
  },
  {
   "cell_type": "markdown",
   "metadata": {},
   "source": [
    "En este caso, las salidas son más variadas en comparación con el ejemplo anterior, lo que refleja el impacto de una temperatura alta. Al explorar palabras de menor probabilidad, muchas secuencias carecen de sentido o parecen aleatorias. "
   ]
  }
 ],
 "metadata": {
  "colab": {
   "provenance": []
  },
  "kernelspec": {
   "display_name": "test",
   "language": "python",
   "name": "python3"
  },
  "language_info": {
   "codemirror_mode": {
    "name": "ipython",
    "version": 3
   },
   "file_extension": ".py",
   "mimetype": "text/x-python",
   "name": "python",
   "nbconvert_exporter": "python",
   "pygments_lexer": "ipython3",
   "version": "3.12.4"
  }
 },
 "nbformat": 4,
 "nbformat_minor": 0
}
